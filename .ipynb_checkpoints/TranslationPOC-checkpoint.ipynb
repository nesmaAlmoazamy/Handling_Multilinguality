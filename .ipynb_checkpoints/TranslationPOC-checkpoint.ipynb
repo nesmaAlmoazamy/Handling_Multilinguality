{
 "cells": [
  {
   "cell_type": "markdown",
   "metadata": {},
   "source": [
    "# Translation POC"
   ]
  },
  {
   "cell_type": "code",
   "execution_count": 1,
   "metadata": {},
   "outputs": [],
   "source": [
    "import pandas as pd\n",
    "import numpy as np\n",
    "import matplotlib.pyplot as plt\n",
    "%matplotlib inline "
   ]
  },
  {
   "cell_type": "code",
   "execution_count": 2,
   "metadata": {},
   "outputs": [],
   "source": [
    "dataset = pd.read_csv('../data/dataset.csv', sep='\\t', header=None).applymap(str)\n",
    "languages = dataset[dataset.columns[0]].unique()\n",
    "categories = dataset[dataset.columns[1]].unique()"
   ]
  },
  {
   "cell_type": "code",
   "execution_count": 3,
   "metadata": {},
   "outputs": [],
   "source": [
    "# Rename Dataset Columns\n",
    "dataset.columns = [\"Language\",\"Label\",\"Text\"]\n",
    "dataset.head()\n",
    "languagesData=[]\n",
    "loc = 0\n",
    "for i in languages:\n",
    "    name = languages[loc]+\"Data\" \n",
    "    globals()[name] = pd.DataFrame( dataset[dataset.Language == i])\n",
    "    loc += 1"
   ]
  },
  {
   "cell_type": "code",
   "execution_count": 4,
   "metadata": {},
   "outputs": [],
   "source": [
    "import pandas as pd\n",
    "from googletrans import Translator\n",
    "\n",
    "df = pd.DataFrame(data=englishData[\"Text\"][1:10])\n",
    "\n",
    "translator = Translator()\n",
    "mylist = list( df[\"Text\"])\n",
    "df[\"Arabic\"] = df.Text.map(lambda x: translator.translate(x,  dest=\"ar\").text)\n",
    "\n"
   ]
  },
  {
   "cell_type": "code",
   "execution_count": 5,
   "metadata": {},
   "outputs": [
    {
     "data": {
      "text/html": [
       "<div>\n",
       "<style scoped>\n",
       "    .dataframe tbody tr th:only-of-type {\n",
       "        vertical-align: middle;\n",
       "    }\n",
       "\n",
       "    .dataframe tbody tr th {\n",
       "        vertical-align: top;\n",
       "    }\n",
       "\n",
       "    .dataframe thead th {\n",
       "        text-align: right;\n",
       "    }\n",
       "</style>\n",
       "<table border=\"1\" class=\"dataframe\">\n",
       "  <thead>\n",
       "    <tr style=\"text-align: right;\">\n",
       "      <th></th>\n",
       "      <th>Text</th>\n",
       "      <th>Arabic</th>\n",
       "    </tr>\n",
       "  </thead>\n",
       "  <tbody>\n",
       "    <tr>\n",
       "      <th>1</th>\n",
       "      <td>Trump asks SEC to mull half-year corporate fil...</td>\n",
       "      <td>ترامب يطلب من هيئة الأوراق المالية والبورصات د...</td>\n",
       "    </tr>\n",
       "    <tr>\n",
       "      <th>2</th>\n",
       "      <td>Wall St. up on trade hopes, S&amp;P equals longest...</td>\n",
       "      <td>ارتفاع وول ستريت على آمال التجارة ، ستاندرد آن...</td>\n",
       "    </tr>\n",
       "    <tr>\n",
       "      <th>3</th>\n",
       "      <td>Asian shares hit one-year low on Turkey, China...</td>\n",
       "      <td>الأسهم الأسيوية تصل إلى أدنى مستوى خلال عام مع...</td>\n",
       "    </tr>\n",
       "    <tr>\n",
       "      <th>4</th>\n",
       "      <td>Asian stocks weaken as Turkey worries weigh, d...</td>\n",
       "      <td>الأسهم الأسيوية تضعف مع قلق تركيا ، وارتفاع ال...</td>\n",
       "    </tr>\n",
       "    <tr>\n",
       "      <th>5</th>\n",
       "      <td>Most Asian shares edge up after Wall St. gains...</td>\n",
       "      <td>معظم الأسهم الأسيوية ترتفع بعد مكاسب وول ستريت...</td>\n",
       "    </tr>\n",
       "    <tr>\n",
       "      <th>6</th>\n",
       "      <td>Musk bid for Tesla: no formal offer, no firm d...</td>\n",
       "      <td>عرض Musk لـ Tesla: لا يوجد عرض رسمي ، ولا توجد...</td>\n",
       "    </tr>\n",
       "    <tr>\n",
       "      <th>7</th>\n",
       "      <td>Wall St. rallies on solid earnings, U.S.-China...</td>\n",
       "      <td>وول ستريت ترتفع وسط أرباح قوية ، والمحادثات ال...</td>\n",
       "    </tr>\n",
       "    <tr>\n",
       "      <th>8</th>\n",
       "      <td>Iran says no OPEC member can take over its sha...</td>\n",
       "      <td>إيران تقول إنه لا يمكن لأي عضو في أوبك تولي حص...</td>\n",
       "    </tr>\n",
       "    <tr>\n",
       "      <th>9</th>\n",
       "      <td>Online courses in data science that could help...</td>\n",
       "      <td>دورات عبر الإنترنت في علوم البيانات والتي يمكن...</td>\n",
       "    </tr>\n",
       "  </tbody>\n",
       "</table>\n",
       "</div>"
      ],
      "text/plain": [
       "                                                Text  \\\n",
       "1  Trump asks SEC to mull half-year corporate fil...   \n",
       "2  Wall St. up on trade hopes, S&P equals longest...   \n",
       "3  Asian shares hit one-year low on Turkey, China...   \n",
       "4  Asian stocks weaken as Turkey worries weigh, d...   \n",
       "5  Most Asian shares edge up after Wall St. gains...   \n",
       "6  Musk bid for Tesla: no formal offer, no firm d...   \n",
       "7  Wall St. rallies on solid earnings, U.S.-China...   \n",
       "8  Iran says no OPEC member can take over its sha...   \n",
       "9  Online courses in data science that could help...   \n",
       "\n",
       "                                              Arabic  \n",
       "1  ترامب يطلب من هيئة الأوراق المالية والبورصات د...  \n",
       "2  ارتفاع وول ستريت على آمال التجارة ، ستاندرد آن...  \n",
       "3  الأسهم الأسيوية تصل إلى أدنى مستوى خلال عام مع...  \n",
       "4  الأسهم الأسيوية تضعف مع قلق تركيا ، وارتفاع ال...  \n",
       "5  معظم الأسهم الأسيوية ترتفع بعد مكاسب وول ستريت...  \n",
       "6  عرض Musk لـ Tesla: لا يوجد عرض رسمي ، ولا توجد...  \n",
       "7  وول ستريت ترتفع وسط أرباح قوية ، والمحادثات ال...  \n",
       "8  إيران تقول إنه لا يمكن لأي عضو في أوبك تولي حص...  \n",
       "9  دورات عبر الإنترنت في علوم البيانات والتي يمكن...  "
      ]
     },
     "execution_count": 5,
     "metadata": {},
     "output_type": "execute_result"
    }
   ],
   "source": [
    "df"
   ]
  },
  {
   "cell_type": "code",
   "execution_count": 6,
   "metadata": {},
   "outputs": [],
   "source": [
    "df[\"NewEnglish\"] = df.Arabic.map(lambda x: translator.translate(x,  dest=\"en\").text)\n"
   ]
  },
  {
   "cell_type": "code",
   "execution_count": 7,
   "metadata": {},
   "outputs": [
    {
     "data": {
      "text/html": [
       "<div>\n",
       "<style scoped>\n",
       "    .dataframe tbody tr th:only-of-type {\n",
       "        vertical-align: middle;\n",
       "    }\n",
       "\n",
       "    .dataframe tbody tr th {\n",
       "        vertical-align: top;\n",
       "    }\n",
       "\n",
       "    .dataframe thead th {\n",
       "        text-align: right;\n",
       "    }\n",
       "</style>\n",
       "<table border=\"1\" class=\"dataframe\">\n",
       "  <thead>\n",
       "    <tr style=\"text-align: right;\">\n",
       "      <th></th>\n",
       "      <th>Text</th>\n",
       "      <th>Arabic</th>\n",
       "      <th>NewEnglish</th>\n",
       "    </tr>\n",
       "  </thead>\n",
       "  <tbody>\n",
       "    <tr>\n",
       "      <th>1</th>\n",
       "      <td>Trump asks SEC to mull half-year corporate fil...</td>\n",
       "      <td>ترامب يطلب من هيئة الأوراق المالية والبورصات د...</td>\n",
       "      <td>Trump is asking the Securities and Exchange Co...</td>\n",
       "    </tr>\n",
       "    <tr>\n",
       "      <th>2</th>\n",
       "      <td>Wall St. up on trade hopes, S&amp;P equals longest...</td>\n",
       "      <td>ارتفاع وول ستريت على آمال التجارة ، ستاندرد آن...</td>\n",
       "      <td>Wall Street's rise on trade hopes, Standard &amp; ...</td>\n",
       "    </tr>\n",
       "    <tr>\n",
       "      <th>3</th>\n",
       "      <td>Asian shares hit one-year low on Turkey, China...</td>\n",
       "      <td>الأسهم الأسيوية تصل إلى أدنى مستوى خلال عام مع...</td>\n",
       "      <td>Asian stocks hit a one-year low amid concerns ...</td>\n",
       "    </tr>\n",
       "    <tr>\n",
       "      <th>4</th>\n",
       "      <td>Asian stocks weaken as Turkey worries weigh, d...</td>\n",
       "      <td>الأسهم الأسيوية تضعف مع قلق تركيا ، وارتفاع ال...</td>\n",
       "      <td>Asian stocks weaken with concern of Turkey, do...</td>\n",
       "    </tr>\n",
       "    <tr>\n",
       "      <th>5</th>\n",
       "      <td>Most Asian shares edge up after Wall St. gains...</td>\n",
       "      <td>معظم الأسهم الأسيوية ترتفع بعد مكاسب وول ستريت...</td>\n",
       "      <td>Most Asian shares are up after Wall Street gai...</td>\n",
       "    </tr>\n",
       "    <tr>\n",
       "      <th>6</th>\n",
       "      <td>Musk bid for Tesla: no formal offer, no firm d...</td>\n",
       "      <td>عرض Musk لـ Tesla: لا يوجد عرض رسمي ، ولا توجد...</td>\n",
       "      <td>Tesla's Musk: There is no formal offer, no dea...</td>\n",
       "    </tr>\n",
       "    <tr>\n",
       "      <th>7</th>\n",
       "      <td>Wall St. rallies on solid earnings, U.S.-China...</td>\n",
       "      <td>وول ستريت ترتفع وسط أرباح قوية ، والمحادثات ال...</td>\n",
       "      <td>Wall Street rises amid strong earnings, US-Chi...</td>\n",
       "    </tr>\n",
       "    <tr>\n",
       "      <th>8</th>\n",
       "      <td>Iran says no OPEC member can take over its sha...</td>\n",
       "      <td>إيران تقول إنه لا يمكن لأي عضو في أوبك تولي حص...</td>\n",
       "      <td>Iran says no OPEC member can take its share of...</td>\n",
       "    </tr>\n",
       "    <tr>\n",
       "      <th>9</th>\n",
       "      <td>Online courses in data science that could help...</td>\n",
       "      <td>دورات عبر الإنترنت في علوم البيانات والتي يمكن...</td>\n",
       "      <td>Online courses in data science which can help ...</td>\n",
       "    </tr>\n",
       "  </tbody>\n",
       "</table>\n",
       "</div>"
      ],
      "text/plain": [
       "                                                Text  \\\n",
       "1  Trump asks SEC to mull half-year corporate fil...   \n",
       "2  Wall St. up on trade hopes, S&P equals longest...   \n",
       "3  Asian shares hit one-year low on Turkey, China...   \n",
       "4  Asian stocks weaken as Turkey worries weigh, d...   \n",
       "5  Most Asian shares edge up after Wall St. gains...   \n",
       "6  Musk bid for Tesla: no formal offer, no firm d...   \n",
       "7  Wall St. rallies on solid earnings, U.S.-China...   \n",
       "8  Iran says no OPEC member can take over its sha...   \n",
       "9  Online courses in data science that could help...   \n",
       "\n",
       "                                              Arabic  \\\n",
       "1  ترامب يطلب من هيئة الأوراق المالية والبورصات د...   \n",
       "2  ارتفاع وول ستريت على آمال التجارة ، ستاندرد آن...   \n",
       "3  الأسهم الأسيوية تصل إلى أدنى مستوى خلال عام مع...   \n",
       "4  الأسهم الأسيوية تضعف مع قلق تركيا ، وارتفاع ال...   \n",
       "5  معظم الأسهم الأسيوية ترتفع بعد مكاسب وول ستريت...   \n",
       "6  عرض Musk لـ Tesla: لا يوجد عرض رسمي ، ولا توجد...   \n",
       "7  وول ستريت ترتفع وسط أرباح قوية ، والمحادثات ال...   \n",
       "8  إيران تقول إنه لا يمكن لأي عضو في أوبك تولي حص...   \n",
       "9  دورات عبر الإنترنت في علوم البيانات والتي يمكن...   \n",
       "\n",
       "                                          NewEnglish  \n",
       "1  Trump is asking the Securities and Exchange Co...  \n",
       "2  Wall Street's rise on trade hopes, Standard & ...  \n",
       "3  Asian stocks hit a one-year low amid concerns ...  \n",
       "4  Asian stocks weaken with concern of Turkey, do...  \n",
       "5  Most Asian shares are up after Wall Street gai...  \n",
       "6  Tesla's Musk: There is no formal offer, no dea...  \n",
       "7  Wall Street rises amid strong earnings, US-Chi...  \n",
       "8  Iran says no OPEC member can take its share of...  \n",
       "9  Online courses in data science which can help ...  "
      ]
     },
     "execution_count": 7,
     "metadata": {},
     "output_type": "execute_result"
    }
   ],
   "source": [
    "df"
   ]
  },
  {
   "cell_type": "code",
   "execution_count": 9,
   "metadata": {},
   "outputs": [
    {
     "name": "stdout",
     "output_type": "stream",
     "text": [
      "Collecting ibm-watson>=3.0.3\n",
      "\u001b[?25l  Downloading https://files.pythonhosted.org/packages/af/82/a0a8555e37c6822bc63b6170d6f30d3681c3ec987b3ab9b8f83f9b3887a3/ibm-watson-3.0.4.tar.gz (246kB)\n",
      "\u001b[K    100% |████████████████████████████████| 256kB 27.4MB/s ta 0:00:01\n",
      "\u001b[?25hRequirement already satisfied, skipping upgrade: requests<3.0,>=2.0 in /home/kamel/anaconda3/lib/python3.7/site-packages (from ibm-watson>=3.0.3) (2.21.0)\n",
      "Requirement already satisfied, skipping upgrade: python_dateutil>=2.5.3 in /home/kamel/anaconda3/lib/python3.7/site-packages (from ibm-watson>=3.0.3) (2.8.0)\n",
      "Collecting websocket-client==0.48.0 (from ibm-watson>=3.0.3)\n",
      "\u001b[?25l  Downloading https://files.pythonhosted.org/packages/8a/a1/72ef9aa26cfe1a75cee09fc1957e4723add9de098c15719416a1ee89386b/websocket_client-0.48.0-py2.py3-none-any.whl (198kB)\n",
      "\u001b[K    100% |████████████████████████████████| 204kB 1.1MB/s ta 0:00:01\n",
      "\u001b[?25hCollecting ibm_cloud_sdk_core>=0.2.0 (from ibm-watson>=3.0.3)\n",
      "  Downloading https://files.pythonhosted.org/packages/50/61/2c197bf3898f3ef74b22adc595a15f315d8c45c5ca7586dbe93b8b947825/ibm-cloud-sdk-core-0.4.2.tar.gz\n",
      "Requirement already satisfied, skipping upgrade: chardet<3.1.0,>=3.0.2 in /home/kamel/anaconda3/lib/python3.7/site-packages (from requests<3.0,>=2.0->ibm-watson>=3.0.3) (3.0.4)\n",
      "Requirement already satisfied, skipping upgrade: certifi>=2017.4.17 in /home/kamel/anaconda3/lib/python3.7/site-packages (from requests<3.0,>=2.0->ibm-watson>=3.0.3) (2019.3.9)\n",
      "Requirement already satisfied, skipping upgrade: idna<2.9,>=2.5 in /home/kamel/anaconda3/lib/python3.7/site-packages (from requests<3.0,>=2.0->ibm-watson>=3.0.3) (2.8)\n",
      "Requirement already satisfied, skipping upgrade: urllib3<1.25,>=1.21.1 in /home/kamel/anaconda3/lib/python3.7/site-packages (from requests<3.0,>=2.0->ibm-watson>=3.0.3) (1.24.1)\n",
      "Requirement already satisfied, skipping upgrade: six>=1.5 in /home/kamel/anaconda3/lib/python3.7/site-packages (from python_dateutil>=2.5.3->ibm-watson>=3.0.3) (1.12.0)\n",
      "Building wheels for collected packages: ibm-watson, ibm-cloud-sdk-core\n",
      "  Building wheel for ibm-watson (setup.py) ... \u001b[?25ldone\n",
      "\u001b[?25h  Stored in directory: /home/kamel/.cache/pip/wheels/b0/b4/42/15563549063278065c74f6fabcd9eae12666230edebbac9a66\n",
      "  Building wheel for ibm-cloud-sdk-core (setup.py) ... \u001b[?25ldone\n",
      "\u001b[?25h  Stored in directory: /home/kamel/.cache/pip/wheels/16/27/32/7d296851e2bf81e0965e313cedd4f1bc08d3eab4eaae7c133d\n",
      "Successfully built ibm-watson ibm-cloud-sdk-core\n",
      "Installing collected packages: websocket-client, ibm-cloud-sdk-core, ibm-watson\n",
      "Successfully installed ibm-cloud-sdk-core-0.4.2 ibm-watson-3.0.4 websocket-client-0.48.0\n"
     ]
    }
   ],
   "source": [
    "!pip install --upgrade \"ibm-watson>=3.0.3\""
   ]
  },
  {
   "cell_type": "code",
   "execution_count": 42,
   "metadata": {},
   "outputs": [
    {
     "ename": "ApiException",
     "evalue": "Error: Unauthorized: Access is denied due to invalid credentials, Code: 401 , X-global-transaction-id: ffea405d5cef1251780aa0bd",
     "output_type": "error",
     "traceback": [
      "\u001b[0;31m---------------------------------------------------------------------------\u001b[0m",
      "\u001b[0;31mApiException\u001b[0m                              Traceback (most recent call last)",
      "\u001b[0;32m<ipython-input-42-58cfbdea5a9e>\u001b[0m in \u001b[0;36m<module>\u001b[0;34m\u001b[0m\n\u001b[1;32m     18\u001b[0m \u001b[0;31m## Translate\u001b[0m\u001b[0;34m\u001b[0m\u001b[0;34m\u001b[0m\u001b[0;34m\u001b[0m\u001b[0m\n\u001b[1;32m     19\u001b[0m translation = language_translator.translate(\n\u001b[0;32m---> 20\u001b[0;31m     text='Hello', model_id='en-es').get_result()\n\u001b[0m\u001b[1;32m     21\u001b[0m \u001b[0mprint\u001b[0m\u001b[0;34m(\u001b[0m\u001b[0mjson\u001b[0m\u001b[0;34m.\u001b[0m\u001b[0mdumps\u001b[0m\u001b[0;34m(\u001b[0m\u001b[0mtranslation\u001b[0m\u001b[0;34m,\u001b[0m \u001b[0mindent\u001b[0m\u001b[0;34m=\u001b[0m\u001b[0;36m2\u001b[0m\u001b[0;34m,\u001b[0m \u001b[0mensure_ascii\u001b[0m\u001b[0;34m=\u001b[0m\u001b[0;32mFalse\u001b[0m\u001b[0;34m)\u001b[0m\u001b[0;34m)\u001b[0m\u001b[0;34m\u001b[0m\u001b[0;34m\u001b[0m\u001b[0m\n",
      "\u001b[0;32m~/anaconda3/lib/python3.7/site-packages/ibm_watson/language_translator_v3.py\u001b[0m in \u001b[0;36mtranslate\u001b[0;34m(self, text, model_id, source, target, **kwargs)\u001b[0m\n\u001b[1;32m    151\u001b[0m             \u001b[0mparams\u001b[0m\u001b[0;34m=\u001b[0m\u001b[0mparams\u001b[0m\u001b[0;34m,\u001b[0m\u001b[0;34m\u001b[0m\u001b[0;34m\u001b[0m\u001b[0m\n\u001b[1;32m    152\u001b[0m             \u001b[0mjson\u001b[0m\u001b[0;34m=\u001b[0m\u001b[0mdata\u001b[0m\u001b[0;34m,\u001b[0m\u001b[0;34m\u001b[0m\u001b[0;34m\u001b[0m\u001b[0m\n\u001b[0;32m--> 153\u001b[0;31m             accept_json=True)\n\u001b[0m\u001b[1;32m    154\u001b[0m         \u001b[0;32mreturn\u001b[0m \u001b[0mresponse\u001b[0m\u001b[0;34m\u001b[0m\u001b[0;34m\u001b[0m\u001b[0m\n\u001b[1;32m    155\u001b[0m \u001b[0;34m\u001b[0m\u001b[0m\n",
      "\u001b[0;32m~/anaconda3/lib/python3.7/site-packages/ibm_cloud_sdk_core/base_service.py\u001b[0m in \u001b[0;36mrequest\u001b[0;34m(self, method, url, accept_json, headers, params, json, data, files, **kwargs)\u001b[0m\n\u001b[1;32m    356\u001b[0m                 \u001b[0merror_message\u001b[0m \u001b[0;34m=\u001b[0m \u001b[0;34m'Unauthorized: Access is denied due to '\u001b[0m\u001b[0;31m \u001b[0m\u001b[0;31m\\\u001b[0m\u001b[0;34m\u001b[0m\u001b[0;34m\u001b[0m\u001b[0m\n\u001b[1;32m    357\u001b[0m                                 \u001b[0;34m'invalid credentials'\u001b[0m\u001b[0;34m\u001b[0m\u001b[0;34m\u001b[0m\u001b[0m\n\u001b[0;32m--> 358\u001b[0;31m             \u001b[0;32mraise\u001b[0m \u001b[0mApiException\u001b[0m\u001b[0;34m(\u001b[0m\u001b[0mresponse\u001b[0m\u001b[0;34m.\u001b[0m\u001b[0mstatus_code\u001b[0m\u001b[0;34m,\u001b[0m \u001b[0merror_message\u001b[0m\u001b[0;34m,\u001b[0m \u001b[0mhttp_response\u001b[0m\u001b[0;34m=\u001b[0m\u001b[0mresponse\u001b[0m\u001b[0;34m)\u001b[0m\u001b[0;34m\u001b[0m\u001b[0;34m\u001b[0m\u001b[0m\n\u001b[0m\u001b[1;32m    359\u001b[0m \u001b[0;34m\u001b[0m\u001b[0m\n\u001b[1;32m    360\u001b[0m     \u001b[0;34m@\u001b[0m\u001b[0mstaticmethod\u001b[0m\u001b[0;34m\u001b[0m\u001b[0;34m\u001b[0m\u001b[0m\n",
      "\u001b[0;31mApiException\u001b[0m: Error: Unauthorized: Access is denied due to invalid credentials, Code: 401 , X-global-transaction-id: ffea405d5cef1251780aa0bd"
     ]
    }
   ],
   "source": [
    "# coding=utf-8\n",
    "from __future__ import print_function\n",
    "import json\n",
    "from ibm_watson import LanguageTranslatorV3\n",
    "\n",
    "language_translator = LanguageTranslatorV3(\n",
    "    version='2019-05-30.',\n",
    "    ### url is optional, and defaults to the URL below. Use the correct URL for your region.\n",
    "    url='https://gateway-lon.watsonplatform.net/language-translator/api',\n",
    "    iam_apikey='4mnlzKaDJg5bK8HN9PWd6fGu5fCSfGm4lHDr8wrXM8hl')\n",
    "\n",
    "# Authenticate with username/password if your service instance doesn't provide an API key\n",
    "# language_translator = LanguageTranslatorV3(\n",
    "#     version='2018-05-01',\n",
    "#     username='YOUR SERVICE USERNAME',\n",
    "#     password='YOUR SERVICE PASSWORD')\n",
    "\n",
    "## Translate\n",
    "translation = language_translator.translate(\n",
    "    text='Hello', model_id='en-es').get_result()\n",
    "print(json.dumps(translation, indent=2, ensure_ascii=False))"
   ]
  },
  {
   "cell_type": "code",
   "execution_count": 40,
   "metadata": {},
   "outputs": [],
   "source": [
    "from ibm_watson import LanguageTranslatorV3\n",
    "\n",
    "language_translator = LanguageTranslatorV3(\n",
    "    version='version1',\n",
    "    username='Mahmoud Kamel',\n",
    "    password='M@hmoud@104@105',\n",
    "    url='https://gateway-lon.watsonplatform.net/language-translator/api'\n",
    ")"
   ]
  },
  {
   "cell_type": "code",
   "execution_count": 41,
   "metadata": {},
   "outputs": [
    {
     "ename": "ApiException",
     "evalue": "Error: Unauthorized: Access is denied due to invalid credentials, Code: 401",
     "output_type": "error",
     "traceback": [
      "\u001b[0;31m---------------------------------------------------------------------------\u001b[0m",
      "\u001b[0;31mApiException\u001b[0m                              Traceback (most recent call last)",
      "\u001b[0;32m<ipython-input-41-567e45aee3a7>\u001b[0m in \u001b[0;36m<module>\u001b[0;34m\u001b[0m\n\u001b[1;32m      2\u001b[0m translation = language_translator.translate(\n\u001b[1;32m      3\u001b[0m     \u001b[0mtext\u001b[0m\u001b[0;34m=\u001b[0m\u001b[0;34m'Hello'\u001b[0m\u001b[0;34m,\u001b[0m\u001b[0;34m\u001b[0m\u001b[0;34m\u001b[0m\u001b[0m\n\u001b[0;32m----> 4\u001b[0;31m     model_id='en-es').get_result()\n\u001b[0m\u001b[1;32m      5\u001b[0m \u001b[0mprint\u001b[0m\u001b[0;34m(\u001b[0m\u001b[0mjson\u001b[0m\u001b[0;34m.\u001b[0m\u001b[0mdumps\u001b[0m\u001b[0;34m(\u001b[0m\u001b[0mtranslation\u001b[0m\u001b[0;34m,\u001b[0m \u001b[0mindent\u001b[0m\u001b[0;34m=\u001b[0m\u001b[0;36m2\u001b[0m\u001b[0;34m,\u001b[0m \u001b[0mensure_ascii\u001b[0m\u001b[0;34m=\u001b[0m\u001b[0;32mFalse\u001b[0m\u001b[0;34m)\u001b[0m\u001b[0;34m)\u001b[0m\u001b[0;34m\u001b[0m\u001b[0;34m\u001b[0m\u001b[0m\n",
      "\u001b[0;32m~/anaconda3/lib/python3.7/site-packages/ibm_watson/language_translator_v3.py\u001b[0m in \u001b[0;36mtranslate\u001b[0;34m(self, text, model_id, source, target, **kwargs)\u001b[0m\n\u001b[1;32m    151\u001b[0m             \u001b[0mparams\u001b[0m\u001b[0;34m=\u001b[0m\u001b[0mparams\u001b[0m\u001b[0;34m,\u001b[0m\u001b[0;34m\u001b[0m\u001b[0;34m\u001b[0m\u001b[0m\n\u001b[1;32m    152\u001b[0m             \u001b[0mjson\u001b[0m\u001b[0;34m=\u001b[0m\u001b[0mdata\u001b[0m\u001b[0;34m,\u001b[0m\u001b[0;34m\u001b[0m\u001b[0;34m\u001b[0m\u001b[0m\n\u001b[0;32m--> 153\u001b[0;31m             accept_json=True)\n\u001b[0m\u001b[1;32m    154\u001b[0m         \u001b[0;32mreturn\u001b[0m \u001b[0mresponse\u001b[0m\u001b[0;34m\u001b[0m\u001b[0;34m\u001b[0m\u001b[0m\n\u001b[1;32m    155\u001b[0m \u001b[0;34m\u001b[0m\u001b[0m\n",
      "\u001b[0;32m~/anaconda3/lib/python3.7/site-packages/ibm_cloud_sdk_core/base_service.py\u001b[0m in \u001b[0;36mrequest\u001b[0;34m(self, method, url, accept_json, headers, params, json, data, files, **kwargs)\u001b[0m\n\u001b[1;32m    356\u001b[0m                 \u001b[0merror_message\u001b[0m \u001b[0;34m=\u001b[0m \u001b[0;34m'Unauthorized: Access is denied due to '\u001b[0m\u001b[0;31m \u001b[0m\u001b[0;31m\\\u001b[0m\u001b[0;34m\u001b[0m\u001b[0;34m\u001b[0m\u001b[0m\n\u001b[1;32m    357\u001b[0m                                 \u001b[0;34m'invalid credentials'\u001b[0m\u001b[0;34m\u001b[0m\u001b[0;34m\u001b[0m\u001b[0m\n\u001b[0;32m--> 358\u001b[0;31m             \u001b[0;32mraise\u001b[0m \u001b[0mApiException\u001b[0m\u001b[0;34m(\u001b[0m\u001b[0mresponse\u001b[0m\u001b[0;34m.\u001b[0m\u001b[0mstatus_code\u001b[0m\u001b[0;34m,\u001b[0m \u001b[0merror_message\u001b[0m\u001b[0;34m,\u001b[0m \u001b[0mhttp_response\u001b[0m\u001b[0;34m=\u001b[0m\u001b[0mresponse\u001b[0m\u001b[0;34m)\u001b[0m\u001b[0;34m\u001b[0m\u001b[0;34m\u001b[0m\u001b[0m\n\u001b[0m\u001b[1;32m    359\u001b[0m \u001b[0;34m\u001b[0m\u001b[0m\n\u001b[1;32m    360\u001b[0m     \u001b[0;34m@\u001b[0m\u001b[0mstaticmethod\u001b[0m\u001b[0;34m\u001b[0m\u001b[0;34m\u001b[0m\u001b[0m\n",
      "\u001b[0;31mApiException\u001b[0m: Error: Unauthorized: Access is denied due to invalid credentials, Code: 401"
     ]
    }
   ],
   "source": [
    "import json\n",
    "translation = language_translator.translate(\n",
    "    text='Hello',\n",
    "    model_id='en-es').get_result()\n",
    "print(json.dumps(translation, indent=2, ensure_ascii=False))"
   ]
  },
  {
   "cell_type": "code",
   "execution_count": null,
   "metadata": {},
   "outputs": [],
   "source": []
  },
  {
   "cell_type": "code",
   "execution_count": 34,
   "metadata": {},
   "outputs": [],
   "source": [
    "from ibm_watson import LanguageTranslatorV3\n",
    "\n",
    "language_translator = LanguageTranslatorV3(\n",
    "    version='version',\n",
    "    username='Mahmoud',\n",
    "    password='M@hmoud@104@105',\n",
    "    url='https://gateway-lon.watsonplatform.net/language-translator/api'\n",
    ")"
   ]
  },
  {
   "cell_type": "code",
   "execution_count": null,
   "metadata": {},
   "outputs": [],
   "source": []
  },
  {
   "cell_type": "code",
   "execution_count": 35,
   "metadata": {},
   "outputs": [
    {
     "ename": "ApiException",
     "evalue": "Error: Unauthorized: Access is denied due to invalid credentials, Code: 401",
     "output_type": "error",
     "traceback": [
      "\u001b[0;31m---------------------------------------------------------------------------\u001b[0m",
      "\u001b[0;31mApiException\u001b[0m                              Traceback (most recent call last)",
      "\u001b[0;32m<ipython-input-35-567e45aee3a7>\u001b[0m in \u001b[0;36m<module>\u001b[0;34m\u001b[0m\n\u001b[1;32m      2\u001b[0m translation = language_translator.translate(\n\u001b[1;32m      3\u001b[0m     \u001b[0mtext\u001b[0m\u001b[0;34m=\u001b[0m\u001b[0;34m'Hello'\u001b[0m\u001b[0;34m,\u001b[0m\u001b[0;34m\u001b[0m\u001b[0;34m\u001b[0m\u001b[0m\n\u001b[0;32m----> 4\u001b[0;31m     model_id='en-es').get_result()\n\u001b[0m\u001b[1;32m      5\u001b[0m \u001b[0mprint\u001b[0m\u001b[0;34m(\u001b[0m\u001b[0mjson\u001b[0m\u001b[0;34m.\u001b[0m\u001b[0mdumps\u001b[0m\u001b[0;34m(\u001b[0m\u001b[0mtranslation\u001b[0m\u001b[0;34m,\u001b[0m \u001b[0mindent\u001b[0m\u001b[0;34m=\u001b[0m\u001b[0;36m2\u001b[0m\u001b[0;34m,\u001b[0m \u001b[0mensure_ascii\u001b[0m\u001b[0;34m=\u001b[0m\u001b[0;32mFalse\u001b[0m\u001b[0;34m)\u001b[0m\u001b[0;34m)\u001b[0m\u001b[0;34m\u001b[0m\u001b[0;34m\u001b[0m\u001b[0m\n",
      "\u001b[0;32m~/anaconda3/lib/python3.7/site-packages/ibm_watson/language_translator_v3.py\u001b[0m in \u001b[0;36mtranslate\u001b[0;34m(self, text, model_id, source, target, **kwargs)\u001b[0m\n\u001b[1;32m    151\u001b[0m             \u001b[0mparams\u001b[0m\u001b[0;34m=\u001b[0m\u001b[0mparams\u001b[0m\u001b[0;34m,\u001b[0m\u001b[0;34m\u001b[0m\u001b[0;34m\u001b[0m\u001b[0m\n\u001b[1;32m    152\u001b[0m             \u001b[0mjson\u001b[0m\u001b[0;34m=\u001b[0m\u001b[0mdata\u001b[0m\u001b[0;34m,\u001b[0m\u001b[0;34m\u001b[0m\u001b[0;34m\u001b[0m\u001b[0m\n\u001b[0;32m--> 153\u001b[0;31m             accept_json=True)\n\u001b[0m\u001b[1;32m    154\u001b[0m         \u001b[0;32mreturn\u001b[0m \u001b[0mresponse\u001b[0m\u001b[0;34m\u001b[0m\u001b[0;34m\u001b[0m\u001b[0m\n\u001b[1;32m    155\u001b[0m \u001b[0;34m\u001b[0m\u001b[0m\n",
      "\u001b[0;32m~/anaconda3/lib/python3.7/site-packages/ibm_cloud_sdk_core/base_service.py\u001b[0m in \u001b[0;36mrequest\u001b[0;34m(self, method, url, accept_json, headers, params, json, data, files, **kwargs)\u001b[0m\n\u001b[1;32m    356\u001b[0m                 \u001b[0merror_message\u001b[0m \u001b[0;34m=\u001b[0m \u001b[0;34m'Unauthorized: Access is denied due to '\u001b[0m\u001b[0;31m \u001b[0m\u001b[0;31m\\\u001b[0m\u001b[0;34m\u001b[0m\u001b[0;34m\u001b[0m\u001b[0m\n\u001b[1;32m    357\u001b[0m                                 \u001b[0;34m'invalid credentials'\u001b[0m\u001b[0;34m\u001b[0m\u001b[0;34m\u001b[0m\u001b[0m\n\u001b[0;32m--> 358\u001b[0;31m             \u001b[0;32mraise\u001b[0m \u001b[0mApiException\u001b[0m\u001b[0;34m(\u001b[0m\u001b[0mresponse\u001b[0m\u001b[0;34m.\u001b[0m\u001b[0mstatus_code\u001b[0m\u001b[0;34m,\u001b[0m \u001b[0merror_message\u001b[0m\u001b[0;34m,\u001b[0m \u001b[0mhttp_response\u001b[0m\u001b[0;34m=\u001b[0m\u001b[0mresponse\u001b[0m\u001b[0;34m)\u001b[0m\u001b[0;34m\u001b[0m\u001b[0;34m\u001b[0m\u001b[0m\n\u001b[0m\u001b[1;32m    359\u001b[0m \u001b[0;34m\u001b[0m\u001b[0m\n\u001b[1;32m    360\u001b[0m     \u001b[0;34m@\u001b[0m\u001b[0mstaticmethod\u001b[0m\u001b[0;34m\u001b[0m\u001b[0;34m\u001b[0m\u001b[0m\n",
      "\u001b[0;31mApiException\u001b[0m: Error: Unauthorized: Access is denied due to invalid credentials, Code: 401"
     ]
    }
   ],
   "source": [
    "import json\n",
    "translation = language_translator.translate(\n",
    "    text='Hello',\n",
    "    model_id='en-es').get_result()\n",
    "print(json.dumps(translation, indent=2, ensure_ascii=False))"
   ]
  },
  {
   "cell_type": "code",
   "execution_count": null,
   "metadata": {},
   "outputs": [],
   "source": []
  },
  {
   "cell_type": "code",
   "execution_count": null,
   "metadata": {},
   "outputs": [],
   "source": []
  }
 ],
 "metadata": {
  "kernelspec": {
   "display_name": "Python 3",
   "language": "python",
   "name": "python3"
  },
  "language_info": {
   "codemirror_mode": {
    "name": "ipython",
    "version": 3
   },
   "file_extension": ".py",
   "mimetype": "text/x-python",
   "name": "python",
   "nbconvert_exporter": "python",
   "pygments_lexer": "ipython3",
   "version": "3.7.3"
  }
 },
 "nbformat": 4,
 "nbformat_minor": 1
}
