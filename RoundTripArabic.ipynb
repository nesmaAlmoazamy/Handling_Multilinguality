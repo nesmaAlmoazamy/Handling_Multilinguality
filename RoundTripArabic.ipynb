{
 "cells": [
  {
   "cell_type": "markdown",
   "metadata": {},
   "source": [
    "### This notebook contains 1000 English article where each one has 50 character as a maximum length of words."
   ]
  },
  {
   "cell_type": "code",
   "execution_count": 1,
   "metadata": {},
   "outputs": [],
   "source": [
    "import pandas as pd\n",
    "import numpy as np\n",
    "import matplotlib.pyplot as plt\n",
    "from googletrans import Translator\n",
    "\n",
    "%matplotlib inline\n",
    "dataset = pd.read_csv('data/dataset.csv', sep='\\t', header=None).applymap(str)\n",
    "languages = dataset[dataset.columns[0]].unique()\n",
    "categories = dataset[dataset.columns[1]].unique()\n",
    "# Rename Dataset Columns\n",
    "dataset.columns = [\"language\",\"label\",\"text\"]\n",
    "dataset.head()\n",
    "languagesData=[]\n",
    "loc = 0\n",
    "for i in languages:\n",
    "    name = languages[loc]+\"Data\" \n",
    "    globals()[name] = pd.DataFrame( dataset[dataset.language == i])\n",
    "    loc += 1\n",
    "    \n",
    "englishData = englishData[1:1000]"
   ]
  },
  {
   "cell_type": "code",
   "execution_count": 2,
   "metadata": {},
   "outputs": [
    {
     "name": "stdout",
     "output_type": "stream",
     "text": [
      "  language        label                                               text\n",
      "1  english  advertising  trump asks sec to mull half-year corporate fil...\n",
      "2  english  advertising  wall st. up on trade hopes, s&p equals longest...\n",
      "3  english  advertising  asian shares hit one-year low on turkey, china...\n",
      "4  english  advertising  asian stocks weaken as turkey worries weigh, d...\n",
      "5  english  advertising  most asian shares edge up after wall st. gains...\n"
     ]
    },
    {
     "name": "stderr",
     "output_type": "stream",
     "text": [
      "Using TensorFlow backend.\n"
     ]
    },
    {
     "data": {
      "text/html": [
       "<div>\n",
       "<style scoped>\n",
       "    .dataframe tbody tr th:only-of-type {\n",
       "        vertical-align: middle;\n",
       "    }\n",
       "\n",
       "    .dataframe tbody tr th {\n",
       "        vertical-align: top;\n",
       "    }\n",
       "\n",
       "    .dataframe thead th {\n",
       "        text-align: right;\n",
       "    }\n",
       "</style>\n",
       "<table border=\"1\" class=\"dataframe\">\n",
       "  <thead>\n",
       "    <tr style=\"text-align: right;\">\n",
       "      <th></th>\n",
       "      <th>language</th>\n",
       "      <th>label</th>\n",
       "      <th>text</th>\n",
       "    </tr>\n",
       "  </thead>\n",
       "  <tbody>\n",
       "    <tr>\n",
       "      <th>1</th>\n",
       "      <td>english</td>\n",
       "      <td>advertising</td>\n",
       "      <td>trump asks sec to mull halfyear corporate fili...</td>\n",
       "    </tr>\n",
       "    <tr>\n",
       "      <th>2</th>\n",
       "      <td>english</td>\n",
       "      <td>advertising</td>\n",
       "      <td>wall st up on trade hopes sp equals longest bu...</td>\n",
       "    </tr>\n",
       "    <tr>\n",
       "      <th>3</th>\n",
       "      <td>english</td>\n",
       "      <td>advertising</td>\n",
       "      <td>asian shares hit oneyear low on turkey china w...</td>\n",
       "    </tr>\n",
       "    <tr>\n",
       "      <th>4</th>\n",
       "      <td>english</td>\n",
       "      <td>advertising</td>\n",
       "      <td>asian stocks weaken as turkey worries weigh do...</td>\n",
       "    </tr>\n",
       "    <tr>\n",
       "      <th>5</th>\n",
       "      <td>english</td>\n",
       "      <td>advertising</td>\n",
       "      <td>most asian shares edge up after wall st gains ...</td>\n",
       "    </tr>\n",
       "  </tbody>\n",
       "</table>\n",
       "</div>"
      ],
      "text/plain": [
       "  language        label                                               text\n",
       "1  english  advertising  trump asks sec to mull halfyear corporate fili...\n",
       "2  english  advertising  wall st up on trade hopes sp equals longest bu...\n",
       "3  english  advertising  asian shares hit oneyear low on turkey china w...\n",
       "4  english  advertising  asian stocks weaken as turkey worries weigh do...\n",
       "5  english  advertising  most asian shares edge up after wall st gains ..."
      ]
     },
     "execution_count": 2,
     "metadata": {},
     "output_type": "execute_result"
    }
   ],
   "source": [
    "def lower_words(text):\n",
    "    text = text.str.lower()\n",
    "    return text\n",
    "\n",
    "englishData['text'] = lower_words(englishData['text'])\n",
    "input_str = englishData['text']\n",
    "print(englishData.head())\n",
    "\n",
    "import seaborn as sn\n",
    "import pandas as pd\n",
    "import numpy as np\n",
    "import matplotlib.pyplot as plt\n",
    "import re\n",
    "def remove_surl(text):\n",
    "    text = text.apply(lambda x: re.split('https:\\/\\/.*', str(x))[0])\n",
    "    return text\n",
    "\n",
    "def remove_url(text):\n",
    "    text = text.apply(lambda x: re.split('http:\\/\\/.*', str(x))[0])\n",
    "    return text\n",
    "\n",
    "englishData['text'] = remove_url(englishData['text'])\n",
    "englishData['text'] = remove_surl(englishData['text'])\n",
    "\n",
    "englishData.head()\n",
    "def remove_numbers(text):\n",
    "    text = text.str.replace('\\d+', '')\n",
    "    return text\n",
    "\n",
    "\n",
    "englishData['text'] = remove_numbers(englishData['text'])\n",
    "englishData.head()\n",
    "def remove_punctuations(text):\n",
    "    text = text.str.replace('[^\\w\\s]','')\n",
    "    return text\n",
    "\n",
    "\n",
    "englishData['text'] = remove_punctuations(englishData['text'])\n",
    "englishData.head()\n",
    "\n",
    "def remove_blank_space(col):\n",
    "    col = col.str.strip()\n",
    "    col = col.replace('\\s+', ' ', regex=True)   \n",
    "    return col\n",
    "\n",
    "\n",
    "englishData['text'] = remove_blank_space(englishData.text)\n",
    "englishData.head()\n",
    "import nltk\n",
    "from nltk.corpus import stopwords\n",
    "from keras.preprocessing.text import Tokenizer\n",
    "def remove_stop_words(text, stop):    \n",
    "    text.apply(lambda x: [item for item in x if item not in stop])\n",
    "    return text\n",
    "\n",
    "stop = stopwords.words('english')\n",
    "remove_stop_words(englishData['text'],stop)\n",
    "englishData.head()\n",
    "\n"
   ]
  },
  {
   "cell_type": "code",
   "execution_count": 3,
   "metadata": {},
   "outputs": [],
   "source": [
    "df = pd.DataFrame(englishData[\"label\"]) \n",
    "# pd.DataFrame(data=englishData[\"text\"][1:10])\n",
    "df[\"text\"] = englishData['text'].str.split().str[1:100].str.join(\" \")\n",
    "translator = Translator()\n",
    "\n",
    "mylist = list( df[\"text\"])\n",
    "df[\"Arabic\"] = df.text.map(lambda x: translator.translate(x,  dest=\"ar\").text)"
   ]
  },
  {
   "cell_type": "code",
   "execution_count": 4,
   "metadata": {},
   "outputs": [
    {
     "data": {
      "text/html": [
       "<div>\n",
       "<style scoped>\n",
       "    .dataframe tbody tr th:only-of-type {\n",
       "        vertical-align: middle;\n",
       "    }\n",
       "\n",
       "    .dataframe tbody tr th {\n",
       "        vertical-align: top;\n",
       "    }\n",
       "\n",
       "    .dataframe thead th {\n",
       "        text-align: right;\n",
       "    }\n",
       "</style>\n",
       "<table border=\"1\" class=\"dataframe\">\n",
       "  <thead>\n",
       "    <tr style=\"text-align: right;\">\n",
       "      <th></th>\n",
       "      <th>label</th>\n",
       "      <th>text</th>\n",
       "      <th>Arabic</th>\n",
       "    </tr>\n",
       "  </thead>\n",
       "  <tbody>\n",
       "    <tr>\n",
       "      <th>1</th>\n",
       "      <td>advertising</td>\n",
       "      <td>asks sec to mull halfyear corporate filings vs...</td>\n",
       "      <td>يسأل ثانية للنظر في طلبات الشركات نصف السنة مق...</td>\n",
       "    </tr>\n",
       "    <tr>\n",
       "      <th>2</th>\n",
       "      <td>advertising</td>\n",
       "      <td>st up on trade hopes sp equals longest bull ru...</td>\n",
       "      <td>التباطؤ في الآمال التجارية: sp تساوي أطول فترة...</td>\n",
       "    </tr>\n",
       "    <tr>\n",
       "      <th>3</th>\n",
       "      <td>advertising</td>\n",
       "      <td>shares hit oneyear low on turkey china worries...</td>\n",
       "      <td>الأسهم الصينية تتراجع إلى أدنى مستوياتها مع ال...</td>\n",
       "    </tr>\n",
       "    <tr>\n",
       "      <th>4</th>\n",
       "      <td>advertising</td>\n",
       "      <td>stocks weaken as turkey worries weigh dollar s...</td>\n",
       "      <td>الأسهم الأسيوية تضعف مع قلق تركيا من ارتفاع ال...</td>\n",
       "    </tr>\n",
       "    <tr>\n",
       "      <th>5</th>\n",
       "      <td>advertising</td>\n",
       "      <td>asian shares edge up after wall st gains but c...</td>\n",
       "      <td>الأسهم الأسيوية ترتفع بعد المكاسب التي حققتها ...</td>\n",
       "    </tr>\n",
       "  </tbody>\n",
       "</table>\n",
       "</div>"
      ],
      "text/plain": [
       "         label                                               text  \\\n",
       "1  advertising  asks sec to mull halfyear corporate filings vs...   \n",
       "2  advertising  st up on trade hopes sp equals longest bull ru...   \n",
       "3  advertising  shares hit oneyear low on turkey china worries...   \n",
       "4  advertising  stocks weaken as turkey worries weigh dollar s...   \n",
       "5  advertising  asian shares edge up after wall st gains but c...   \n",
       "\n",
       "                                              Arabic  \n",
       "1  يسأل ثانية للنظر في طلبات الشركات نصف السنة مق...  \n",
       "2  التباطؤ في الآمال التجارية: sp تساوي أطول فترة...  \n",
       "3  الأسهم الصينية تتراجع إلى أدنى مستوياتها مع ال...  \n",
       "4  الأسهم الأسيوية تضعف مع قلق تركيا من ارتفاع ال...  \n",
       "5  الأسهم الأسيوية ترتفع بعد المكاسب التي حققتها ...  "
      ]
     },
     "execution_count": 4,
     "metadata": {},
     "output_type": "execute_result"
    }
   ],
   "source": [
    "df.head()"
   ]
  },
  {
   "cell_type": "code",
   "execution_count": 5,
   "metadata": {},
   "outputs": [],
   "source": [
    "df.to_csv(\"mydatasetWitharabicText.csv\")"
   ]
  },
  {
   "cell_type": "code",
   "execution_count": 6,
   "metadata": {},
   "outputs": [],
   "source": [
    "df[\"NewEnglish\"] = df.Arabic.map(lambda x: translator.translate(x,  dest=\"en\").text)"
   ]
  },
  {
   "cell_type": "code",
   "execution_count": 7,
   "metadata": {},
   "outputs": [],
   "source": [
    "df.to_csv(\"mydatasetWitharabicEnglishText.csv\")"
   ]
  },
  {
   "cell_type": "code",
   "execution_count": 8,
   "metadata": {},
   "outputs": [
    {
     "data": {
      "text/html": [
       "<div>\n",
       "<style scoped>\n",
       "    .dataframe tbody tr th:only-of-type {\n",
       "        vertical-align: middle;\n",
       "    }\n",
       "\n",
       "    .dataframe tbody tr th {\n",
       "        vertical-align: top;\n",
       "    }\n",
       "\n",
       "    .dataframe thead th {\n",
       "        text-align: right;\n",
       "    }\n",
       "</style>\n",
       "<table border=\"1\" class=\"dataframe\">\n",
       "  <thead>\n",
       "    <tr style=\"text-align: right;\">\n",
       "      <th></th>\n",
       "      <th>label</th>\n",
       "      <th>text</th>\n",
       "      <th>Arabic</th>\n",
       "      <th>NewEnglish</th>\n",
       "    </tr>\n",
       "  </thead>\n",
       "  <tbody>\n",
       "    <tr>\n",
       "      <th>1</th>\n",
       "      <td>advertising</td>\n",
       "      <td>asks sec to mull halfyear corporate filings vs...</td>\n",
       "      <td>يسأل ثانية للنظر في طلبات الشركات نصف السنة مق...</td>\n",
       "      <td>Asked again to look at half-year corporate req...</td>\n",
       "    </tr>\n",
       "    <tr>\n",
       "      <th>2</th>\n",
       "      <td>advertising</td>\n",
       "      <td>st up on trade hopes sp equals longest bull ru...</td>\n",
       "      <td>التباطؤ في الآمال التجارية: sp تساوي أطول فترة...</td>\n",
       "      <td>Deceleration in business hopes: sp equals the ...</td>\n",
       "    </tr>\n",
       "    <tr>\n",
       "      <th>3</th>\n",
       "      <td>advertising</td>\n",
       "      <td>shares hit oneyear low on turkey china worries...</td>\n",
       "      <td>الأسهم الصينية تتراجع إلى أدنى مستوياتها مع ال...</td>\n",
       "      <td>Chinese stocks fall to their lowest levels wit...</td>\n",
       "    </tr>\n",
       "    <tr>\n",
       "      <th>4</th>\n",
       "      <td>advertising</td>\n",
       "      <td>stocks weaken as turkey worries weigh dollar s...</td>\n",
       "      <td>الأسهم الأسيوية تضعف مع قلق تركيا من ارتفاع ال...</td>\n",
       "      <td>Asian stocks weaken as Turkey worries about do...</td>\n",
       "    </tr>\n",
       "    <tr>\n",
       "      <th>5</th>\n",
       "      <td>advertising</td>\n",
       "      <td>asian shares edge up after wall st gains but c...</td>\n",
       "      <td>الأسهم الأسيوية ترتفع بعد المكاسب التي حققتها ...</td>\n",
       "      <td>Asian stocks rise after Wall Street gains, but...</td>\n",
       "    </tr>\n",
       "  </tbody>\n",
       "</table>\n",
       "</div>"
      ],
      "text/plain": [
       "         label                                               text  \\\n",
       "1  advertising  asks sec to mull halfyear corporate filings vs...   \n",
       "2  advertising  st up on trade hopes sp equals longest bull ru...   \n",
       "3  advertising  shares hit oneyear low on turkey china worries...   \n",
       "4  advertising  stocks weaken as turkey worries weigh dollar s...   \n",
       "5  advertising  asian shares edge up after wall st gains but c...   \n",
       "\n",
       "                                              Arabic  \\\n",
       "1  يسأل ثانية للنظر في طلبات الشركات نصف السنة مق...   \n",
       "2  التباطؤ في الآمال التجارية: sp تساوي أطول فترة...   \n",
       "3  الأسهم الصينية تتراجع إلى أدنى مستوياتها مع ال...   \n",
       "4  الأسهم الأسيوية تضعف مع قلق تركيا من ارتفاع ال...   \n",
       "5  الأسهم الأسيوية ترتفع بعد المكاسب التي حققتها ...   \n",
       "\n",
       "                                          NewEnglish  \n",
       "1  Asked again to look at half-year corporate req...  \n",
       "2  Deceleration in business hopes: sp equals the ...  \n",
       "3  Chinese stocks fall to their lowest levels wit...  \n",
       "4  Asian stocks weaken as Turkey worries about do...  \n",
       "5  Asian stocks rise after Wall Street gains, but...  "
      ]
     },
     "execution_count": 8,
     "metadata": {},
     "output_type": "execute_result"
    }
   ],
   "source": [
    "df.head()"
   ]
  },
  {
   "cell_type": "code",
   "execution_count": null,
   "metadata": {},
   "outputs": [],
   "source": []
  },
  {
   "cell_type": "code",
   "execution_count": 9,
   "metadata": {},
   "outputs": [],
   "source": [
    "from keras.layers import GRU,Dropout,BatchNormalization\n",
    "from sklearn.model_selection import train_test_split\n",
    "import keras\n",
    "from keras.preprocessing.sequence import pad_sequences\n",
    "from sklearn.preprocessing import LabelEncoder\n",
    "from keras.utils import np_utils\n",
    "from keras.preprocessing.text import Tokenizer\n",
    "from keras import layers\n",
    "from keras.models import Sequential\n",
    "from keras.layers import Flatten, Dense, GRU,Dropout,BatchNormalization,RepeatVector,Permute\n",
    "\n",
    "\n",
    "def plot_history(history):\n",
    "    acc = history.history['acc']\n",
    "    val_acc = history.history['val_acc']\n",
    "    loss = history.history['loss']\n",
    "    val_loss = history.history['val_loss']\n",
    "    x = range(1, len(acc) + 1)\n",
    "\n",
    "    plt.figure(figsize=(12, 5))\n",
    "    plt.subplot(1, 2, 1)\n",
    "    plt.plot(x, acc, 'b', label='Training acc')\n",
    "    plt.plot(x, val_acc, 'r', label='Validation acc')\n",
    "    plt.title('Training and validation accuracy')\n",
    "    plt.legend()\n",
    "    plt.subplot(1, 2, 2)\n",
    "    plt.plot(x, loss, 'b', label='Training loss')\n",
    "    plt.plot(x, val_loss, 'r', label='Validation loss')\n",
    "    plt.title('Training and validation loss')\n",
    "    plt.legend()\n"
   ]
  },
  {
   "cell_type": "code",
   "execution_count": 10,
   "metadata": {},
   "outputs": [],
   "source": [
    "X = df.text\n",
    "Y = df.label\n",
    "encoder = LabelEncoder()\n",
    "encoder.fit(Y)\n",
    "\n",
    "Xtrain, Xtest, Ytrain, Ytest = train_test_split(\n",
    "   X, Y, test_size=0.25, random_state=1000)\n",
    "\n"
   ]
  },
  {
   "cell_type": "code",
   "execution_count": 11,
   "metadata": {},
   "outputs": [],
   "source": [
    "def myfunc(Xtrain,Ytrain,Xtest,Ytest,shape):\n",
    "    Ytrain = encoder.transform(Ytrain)\n",
    "    # convert integers to dummy variables (i.e. one hot encoded)\n",
    "    Ytrain = np_utils.to_categorical(Ytrain)\n",
    "\n",
    "    Ytest = encoder.transform(Ytest)\n",
    "    # convert integers to dummy variables (i.e. one hot encoded)\n",
    "    Ytest = np_utils.to_categorical(Ytest)\n",
    "\n",
    "\n",
    "    tokenizer = Tokenizer(num_words=5000)\n",
    "    tokenizer.fit_on_texts(Xtrain)\n",
    "\n",
    "    Xtrain = tokenizer.texts_to_sequences(Xtrain)\n",
    "    Xtest = tokenizer.texts_to_sequences(Xtest)\n",
    "\n",
    "    vocab_size = len(tokenizer.word_index) + 1  # Adding 1 because of reserved 0 index\n",
    "\n",
    "    maxlen = 100\n",
    "\n",
    "    Xtrain = pad_sequences(Xtrain, padding='post', maxlen=maxlen)\n",
    "    Xtest = pad_sequences(Xtest, padding='post', maxlen=maxlen)\n",
    "\n",
    "    def create_embedding_matrix(filepath, word_index, embedding_dim):\n",
    "    \tvocab_size = len(word_index) + 1  # Adding again 1 because of reserved 0 index\n",
    "    \tembedding_matrix = np.zeros((vocab_size, embedding_dim))\n",
    "    \twith open(filepath) as f:\n",
    "    \t\tfor line in f:\n",
    "    \t\t    word, *vector = line.split()\n",
    "    \t\t    if word in word_index:\n",
    "    \t\t        idx = word_index[word] \n",
    "    \t\t        embedding_matrix[idx] = np.array(vector, dtype=np.float32)[:embedding_dim]\n",
    "    \treturn embedding_matrix\n",
    "\n",
    "    embedding_dim = 50\n",
    "    embedding_matrix = create_embedding_matrix(\n",
    "        'data/glove.6B.50d.txt',\n",
    "        tokenizer.word_index, embedding_dim)\n",
    "    model = Sequential()\n",
    "    model.add(layers.Embedding(vocab_size, embedding_dim, \n",
    "    \t                   weights=[embedding_matrix], \n",
    "    \t                   input_length=maxlen, \n",
    "    \t                   trainable=True))\n",
    "    model.add(GRU(256, return_sequences=True))\n",
    "    model.add(Dense(256, activation='tanh'))\n",
    "    model.add(GRU( 256, return_sequences=False))\n",
    "\n",
    "\n",
    "    # model.add(Dropout(0.2))\n",
    "    model.add(layers.Dense(shape, activation='sigmoid'))\n",
    "    model.compile(optimizer='adam',\n",
    "        loss='categorical_crossentropy',\n",
    "        metrics=['accuracy'])\n",
    "    model.summary()\n",
    "\n",
    "\n",
    "    history = model.fit(Xtrain, Ytrain,\n",
    "            epochs=20,\n",
    "            verbose=True,\n",
    "            validation_data=(Xtest, Ytest))\n",
    "    loss, accuracy = model.evaluate(Xtrain, Ytrain, verbose=True)\n",
    "    print(\"Training Accuracy: {:.4f}\".format(accuracy))\n",
    "    loss, accuracy = model.evaluate(Xtest, Ytest, verbose=True)\n",
    "    print(\"Testing Accuracy:  {:.4f}\".format(accuracy))\n",
    "    plot_history(history)\n",
    "    return model\n",
    "\n"
   ]
  },
  {
   "cell_type": "code",
   "execution_count": 14,
   "metadata": {},
   "outputs": [
    {
     "data": {
      "text/plain": [
       "749"
      ]
     },
     "execution_count": 14,
     "metadata": {},
     "output_type": "execute_result"
    }
   ],
   "source": [
    "len(Ytrain)"
   ]
  },
  {
   "cell_type": "markdown",
   "metadata": {},
   "source": [
    "### The dataset without the concatenation of the  translated rows "
   ]
  },
  {
   "cell_type": "code",
   "execution_count": 16,
   "metadata": {},
   "outputs": [
    {
     "name": "stdout",
     "output_type": "stream",
     "text": [
      "_________________________________________________________________\n",
      "Layer (type)                 Output Shape              Param #   \n",
      "=================================================================\n",
      "embedding_2 (Embedding)      (None, 100, 50)           603150    \n",
      "_________________________________________________________________\n",
      "gru_3 (GRU)                  (None, 100, 256)          235776    \n",
      "_________________________________________________________________\n",
      "dense_3 (Dense)              (None, 100, 256)          65792     \n",
      "_________________________________________________________________\n",
      "gru_4 (GRU)                  (None, 256)               393984    \n",
      "_________________________________________________________________\n",
      "dense_4 (Dense)              (None, 11)                2827      \n",
      "=================================================================\n",
      "Total params: 1,301,529\n",
      "Trainable params: 1,301,529\n",
      "Non-trainable params: 0\n",
      "_________________________________________________________________\n",
      "WARNING:tensorflow:From /home/nesma/anaconda3/envs/ImageProcessingLab/lib/python3.6/site-packages/tensorflow/python/ops/math_ops.py:3066: to_int32 (from tensorflow.python.ops.math_ops) is deprecated and will be removed in a future version.\n",
      "Instructions for updating:\n",
      "Use tf.cast instead.\n",
      "Train on 749 samples, validate on 250 samples\n",
      "Epoch 1/20\n",
      "749/749 [==============================] - 13s 18ms/step - loss: 2.3049 - acc: 0.1602 - val_loss: 2.3818 - val_acc: 0.0880\n",
      "Epoch 2/20\n",
      "749/749 [==============================] - 11s 14ms/step - loss: 2.1771 - acc: 0.1789 - val_loss: 2.2868 - val_acc: 0.1160\n",
      "Epoch 3/20\n",
      "749/749 [==============================] - 12s 16ms/step - loss: 2.0924 - acc: 0.2256 - val_loss: 2.2486 - val_acc: 0.1520\n",
      "Epoch 4/20\n",
      "749/749 [==============================] - 12s 15ms/step - loss: 2.0605 - acc: 0.2296 - val_loss: 2.4006 - val_acc: 0.1280\n",
      "Epoch 5/20\n",
      "749/749 [==============================] - 11s 14ms/step - loss: 2.0482 - acc: 0.2377 - val_loss: 2.1170 - val_acc: 0.1400\n",
      "Epoch 6/20\n",
      "749/749 [==============================] - 11s 14ms/step - loss: 1.9220 - acc: 0.2710 - val_loss: 2.1770 - val_acc: 0.1640\n",
      "Epoch 7/20\n",
      "749/749 [==============================] - 10s 14ms/step - loss: 1.8958 - acc: 0.3017 - val_loss: 2.2237 - val_acc: 0.1520\n",
      "Epoch 8/20\n",
      "749/749 [==============================] - 11s 14ms/step - loss: 1.8180 - acc: 0.3204 - val_loss: 2.0207 - val_acc: 0.2000\n",
      "Epoch 9/20\n",
      "749/749 [==============================] - 10s 14ms/step - loss: 1.7249 - acc: 0.3218 - val_loss: 2.0245 - val_acc: 0.2400\n",
      "Epoch 10/20\n",
      "749/749 [==============================] - 10s 14ms/step - loss: 1.5117 - acc: 0.3872 - val_loss: 2.0259 - val_acc: 0.2680\n",
      "Epoch 11/20\n",
      "749/749 [==============================] - 12s 16ms/step - loss: 1.4846 - acc: 0.4139 - val_loss: 2.0577 - val_acc: 0.2960\n",
      "Epoch 12/20\n",
      "749/749 [==============================] - 10s 14ms/step - loss: 1.2917 - acc: 0.5207 - val_loss: 1.8482 - val_acc: 0.3880\n",
      "Epoch 13/20\n",
      "749/749 [==============================] - 11s 14ms/step - loss: 1.0667 - acc: 0.5968 - val_loss: 2.0532 - val_acc: 0.3680\n",
      "Epoch 14/20\n",
      "749/749 [==============================] - 11s 15ms/step - loss: 0.9877 - acc: 0.6248 - val_loss: 1.7302 - val_acc: 0.4400\n",
      "Epoch 15/20\n",
      "749/749 [==============================] - 12s 16ms/step - loss: 0.8380 - acc: 0.6943 - val_loss: 1.7022 - val_acc: 0.4760\n",
      "Epoch 16/20\n",
      "749/749 [==============================] - 11s 15ms/step - loss: 0.6403 - acc: 0.7704 - val_loss: 1.8450 - val_acc: 0.4920\n",
      "Epoch 17/20\n",
      "749/749 [==============================] - 11s 14ms/step - loss: 0.5078 - acc: 0.8318 - val_loss: 1.9539 - val_acc: 0.4360\n",
      "Epoch 18/20\n",
      "749/749 [==============================] - 10s 14ms/step - loss: 0.4337 - acc: 0.8611 - val_loss: 2.0397 - val_acc: 0.4640\n",
      "Epoch 19/20\n",
      "749/749 [==============================] - 11s 15ms/step - loss: 0.3232 - acc: 0.8945 - val_loss: 2.0784 - val_acc: 0.4640\n",
      "Epoch 20/20\n",
      "749/749 [==============================] - 12s 16ms/step - loss: 0.2455 - acc: 0.9172 - val_loss: 2.1443 - val_acc: 0.4400\n",
      "749/749 [==============================] - 3s 4ms/step\n",
      "Training Accuracy: 0.9533\n",
      "250/250 [==============================] - 1s 4ms/step\n",
      "Testing Accuracy:  0.4400\n"
     ]
    },
    {
     "data": {
      "text/plain": [
       "<keras.engine.sequential.Sequential at 0x7fea4bb67ef0>"
      ]
     },
     "execution_count": 16,
     "metadata": {},
     "output_type": "execute_result"
    },
    {
     "data": {
      "image/png": "[encoded data removed]",
      "text/plain": [
       "<Figure size 864x360 with 2 Axes>"
      ]
     },
     "metadata": {
      "needs_background": "light"
     },
     "output_type": "display_data"
    }
   ],
   "source": [
    "myfunc(Xtrain,Ytrain,Xtest,Ytest,11)"
   ]
  },
  {
   "cell_type": "code",
   "execution_count": 17,
   "metadata": {},
   "outputs": [],
   "source": [
    "frames = [Xtrain, df.text]\n",
    "Xtrain = pd.concat(frames)"
   ]
  },
  {
   "cell_type": "code",
   "execution_count": 18,
   "metadata": {},
   "outputs": [],
   "source": [
    "frames = [Ytrain, df.label]\n",
    "Ytrain = pd.concat(frames)\n"
   ]
  },
  {
   "cell_type": "code",
   "execution_count": 19,
   "metadata": {},
   "outputs": [
    {
     "data": {
      "text/plain": [
       "1748"
      ]
     },
     "execution_count": 19,
     "metadata": {},
     "output_type": "execute_result"
    }
   ],
   "source": [
    "len(Ytrain)"
   ]
  },
  {
   "cell_type": "markdown",
   "metadata": {},
   "source": [
    "### The concatenated Dataframe of the original English text and the translated text\n"
   ]
  },
  {
   "cell_type": "code",
   "execution_count": 21,
   "metadata": {},
   "outputs": [
    {
     "name": "stdout",
     "output_type": "stream",
     "text": [
      "_________________________________________________________________\n",
      "Layer (type)                 Output Shape              Param #   \n",
      "=================================================================\n",
      "embedding_4 (Embedding)      (None, 100, 50)           726350    \n",
      "_________________________________________________________________\n",
      "gru_7 (GRU)                  (None, 100, 256)          235776    \n",
      "_________________________________________________________________\n",
      "dense_7 (Dense)              (None, 100, 256)          65792     \n",
      "_________________________________________________________________\n",
      "gru_8 (GRU)                  (None, 256)               393984    \n",
      "_________________________________________________________________\n",
      "dense_8 (Dense)              (None, 11)                2827      \n",
      "=================================================================\n",
      "Total params: 1,424,729\n",
      "Trainable params: 1,424,729\n",
      "Non-trainable params: 0\n",
      "_________________________________________________________________\n",
      "Train on 1748 samples, validate on 250 samples\n",
      "Epoch 1/20\n",
      "1748/1748 [==============================] - 25s 14ms/step - loss: 2.2397 - acc: 0.1819 - val_loss: 2.2333 - val_acc: 0.1680\n",
      "Epoch 2/20\n",
      "1748/1748 [==============================] - 23s 13ms/step - loss: 2.1010 - acc: 0.2197 - val_loss: 2.1819 - val_acc: 0.1840\n",
      "Epoch 3/20\n",
      "1748/1748 [==============================] - 23s 13ms/step - loss: 1.9869 - acc: 0.2643 - val_loss: 2.0266 - val_acc: 0.2160\n",
      "Epoch 4/20\n",
      "1748/1748 [==============================] - 28s 16ms/step - loss: 1.8213 - acc: 0.3141 - val_loss: 1.7840 - val_acc: 0.3280\n",
      "Epoch 5/20\n",
      "1748/1748 [==============================] - 25s 14ms/step - loss: 1.5892 - acc: 0.3833 - val_loss: 1.8468 - val_acc: 0.3400\n",
      "Epoch 6/20\n",
      "1748/1748 [==============================] - 23s 13ms/step - loss: 1.4451 - acc: 0.4199 - val_loss: 1.4743 - val_acc: 0.4280\n",
      "Epoch 7/20\n",
      "1748/1748 [==============================] - 23s 13ms/step - loss: 1.1315 - acc: 0.5715 - val_loss: 1.3421 - val_acc: 0.4960\n",
      "Epoch 8/20\n",
      "1748/1748 [==============================] - 24s 14ms/step - loss: 0.8960 - acc: 0.6733 - val_loss: 0.8983 - val_acc: 0.6840\n",
      "Epoch 9/20\n",
      "1748/1748 [==============================] - 23s 13ms/step - loss: 0.6051 - acc: 0.7809 - val_loss: 0.8682 - val_acc: 0.6920\n",
      "Epoch 10/20\n",
      "1748/1748 [==============================] - 23s 13ms/step - loss: 0.4597 - acc: 0.8421 - val_loss: 0.5764 - val_acc: 0.8160\n",
      "Epoch 11/20\n",
      "1748/1748 [==============================] - 25s 14ms/step - loss: 0.3187 - acc: 0.8930 - val_loss: 0.4785 - val_acc: 0.8200\n",
      "Epoch 12/20\n",
      "1748/1748 [==============================] - 23s 13ms/step - loss: 0.2142 - acc: 0.9268 - val_loss: 0.3034 - val_acc: 0.9000\n",
      "Epoch 13/20\n",
      "1748/1748 [==============================] - 23s 13ms/step - loss: 0.1459 - acc: 0.9462 - val_loss: 0.1598 - val_acc: 0.9520\n",
      "Epoch 14/20\n",
      "1748/1748 [==============================] - 23s 13ms/step - loss: 0.1246 - acc: 0.9497 - val_loss: 0.1787 - val_acc: 0.9360\n",
      "Epoch 15/20\n",
      "1748/1748 [==============================] - 25s 15ms/step - loss: 0.1014 - acc: 0.9582 - val_loss: 0.2724 - val_acc: 0.9000\n",
      "Epoch 16/20\n",
      "1748/1748 [==============================] - 25s 14ms/step - loss: 0.1517 - acc: 0.9394 - val_loss: 0.1218 - val_acc: 0.9560\n",
      "Epoch 17/20\n",
      "1748/1748 [==============================] - 25s 14ms/step - loss: 0.0680 - acc: 0.9668 - val_loss: 0.0757 - val_acc: 0.9640\n",
      "Epoch 18/20\n",
      "1748/1748 [==============================] - 24s 14ms/step - loss: 0.0552 - acc: 0.9708 - val_loss: 0.0605 - val_acc: 0.9720\n",
      "Epoch 19/20\n",
      "1748/1748 [==============================] - 24s 14ms/step - loss: 0.0506 - acc: 0.9691 - val_loss: 0.0569 - val_acc: 0.9720\n",
      "Epoch 20/20\n",
      "1748/1748 [==============================] - 26s 15ms/step - loss: 0.0495 - acc: 0.9703 - val_loss: 0.0501 - val_acc: 0.9800\n",
      "1748/1748 [==============================] - 8s 4ms/step\n",
      "Training Accuracy: 0.9731\n",
      "250/250 [==============================] - 1s 4ms/step\n",
      "Testing Accuracy:  0.9800\n"
     ]
    },
    {
     "data": {
      "text/plain": [
       "<keras.engine.sequential.Sequential at 0x7fe9e052acf8>"
      ]
     },
     "execution_count": 21,
     "metadata": {},
     "output_type": "execute_result"
    },
    {
     "data": {
      "image/png": "[encoded data removed]",
      "text/plain": [
       "<Figure size 864x360 with 2 Axes>"
      ]
     },
     "metadata": {
      "needs_background": "light"
     },
     "output_type": "display_data"
    }
   ],
   "source": [
    "myfunc(Xtrain,Ytrain,Xtest,Ytest,11)\n"
   ]
  },
  {
   "cell_type": "markdown",
   "metadata": {},
   "source": [
    "<b><i> Conclusion: \n",
    "\n",
    "The Experiment result after the round trip translation is: \n",
    "    \n",
    "Training Accuracy: 0.9731\n",
    "\n",
    "Testing Accuracy:  0.9800\n",
    "    \n",
    "The Model Results without using the translation is:\n",
    "\n",
    "Training Accuracy: 0.9533\n",
    "\n",
    "Testing Accuracy:  0.4400 <b> <i>"
   ]
  }
 ],
 "metadata": {
  "kernelspec": {
   "display_name": "Python 3",
   "language": "python",
   "name": "python3"
  },
  "language_info": {
   "codemirror_mode": {
    "name": "ipython",
    "version": 3
   },
   "file_extension": ".py",
   "mimetype": "text/x-python",
   "name": "python",
   "nbconvert_exporter": "python",
   "pygments_lexer": "ipython3",
   "version": "3.6.8"
  }
 },
 "nbformat": 4,
 "nbformat_minor": 2
}
