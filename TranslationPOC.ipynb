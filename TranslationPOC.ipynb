{
 "cells": [
  {
   "cell_type": "markdown",
   "metadata": {},
   "source": [
    "# Translation POC"
   ]
  },
  {
   "cell_type": "code",
<<<<<<< HEAD
   "execution_count": 1,
=======
   "execution_count": 45,
>>>>>>> latex
   "metadata": {},
   "outputs": [],
   "source": [
    "import pandas as pd\n",
    "import numpy as np\n",
    "import matplotlib.pyplot as plt\n",
    "%matplotlib inline "
   ]
  },
  {
   "cell_type": "code",
<<<<<<< HEAD
   "execution_count": 2,
=======
   "execution_count": 46,
>>>>>>> latex
   "metadata": {},
   "outputs": [],
   "source": [
    "dataset = pd.read_csv('../data/dataset.csv', sep='\\t', header=None).applymap(str)\n",
    "languages = dataset[dataset.columns[0]].unique()\n",
    "categories = dataset[dataset.columns[1]].unique()"
   ]
  },
  {
   "cell_type": "code",
<<<<<<< HEAD
   "execution_count": 3,
=======
   "execution_count": 47,
   "metadata": {},
   "outputs": [
    {
     "data": {
      "text/html": [
       "<div>\n",
       "<style scoped>\n",
       "    .dataframe tbody tr th:only-of-type {\n",
       "        vertical-align: middle;\n",
       "    }\n",
       "\n",
       "    .dataframe tbody tr th {\n",
       "        vertical-align: top;\n",
       "    }\n",
       "\n",
       "    .dataframe thead th {\n",
       "        text-align: right;\n",
       "    }\n",
       "</style>\n",
       "<table border=\"1\" class=\"dataframe\">\n",
       "  <thead>\n",
       "    <tr style=\"text-align: right;\">\n",
       "      <th></th>\n",
       "      <th>0</th>\n",
       "      <th>1</th>\n",
       "      <th>2</th>\n",
       "    </tr>\n",
       "  </thead>\n",
       "  <tbody>\n",
       "    <tr>\n",
       "      <th>0</th>\n",
       "      <td>english</td>\n",
       "      <td>advertising</td>\n",
       "      <td>Exclusive: U.S. government seeks Facebook help...</td>\n",
       "    </tr>\n",
       "    <tr>\n",
       "      <th>1</th>\n",
       "      <td>english</td>\n",
       "      <td>advertising</td>\n",
       "      <td>Trump asks SEC to mull half-year corporate fil...</td>\n",
       "    </tr>\n",
       "    <tr>\n",
       "      <th>2</th>\n",
       "      <td>english</td>\n",
       "      <td>advertising</td>\n",
       "      <td>Wall St. up on trade hopes, S&amp;P equals longest...</td>\n",
       "    </tr>\n",
       "    <tr>\n",
       "      <th>3</th>\n",
       "      <td>english</td>\n",
       "      <td>advertising</td>\n",
       "      <td>Asian shares hit one-year low on Turkey, China...</td>\n",
       "    </tr>\n",
       "    <tr>\n",
       "      <th>4</th>\n",
       "      <td>english</td>\n",
       "      <td>advertising</td>\n",
       "      <td>Asian stocks weaken as Turkey worries weigh, d...</td>\n",
       "    </tr>\n",
       "  </tbody>\n",
       "</table>\n",
       "</div>"
      ],
      "text/plain": [
       "         0            1                                                  2\n",
       "0  english  advertising  Exclusive: U.S. government seeks Facebook help...\n",
       "1  english  advertising  Trump asks SEC to mull half-year corporate fil...\n",
       "2  english  advertising  Wall St. up on trade hopes, S&P equals longest...\n",
       "3  english  advertising  Asian shares hit one-year low on Turkey, China...\n",
       "4  english  advertising  Asian stocks weaken as Turkey worries weigh, d..."
      ]
     },
     "execution_count": 47,
     "metadata": {},
     "output_type": "execute_result"
    }
   ],
   "source": [
    "dataset.head()"
   ]
  },
  {
   "cell_type": "code",
   "execution_count": 48,
>>>>>>> latex
   "metadata": {},
   "outputs": [],
   "source": [
    "# Rename Dataset Columns\n",
    "dataset.columns = [\"Language\",\"Label\",\"Text\"]\n",
    "dataset.head()\n",
    "languagesData=[]\n",
    "loc = 0\n",
    "for i in languages:\n",
    "    name = languages[loc]+\"Data\" \n",
    "    globals()[name] = pd.DataFrame( dataset[dataset.Language == i])\n",
    "    loc += 1"
   ]
  },
  {
   "cell_type": "code",
<<<<<<< HEAD
   "execution_count": 63,
   "metadata": {},
   "outputs": [],
   "source": [
    "import pandas as pd\n",
    "from googletrans import Translator\n",
    "\n",
    "df = pd.DataFrame(data=frenchData[\"Text\"][1:10])\n",
    "\n",
    "translator = Translator()\n",
    "#mylist = list( df[\"Text\"])\n",
    "df[\"Arabic\"] = df.Text.map(lambda x: translator.translate(x,  dest=\"ar\").text)\n",
    "\n"
=======
   "execution_count": 50,
   "metadata": {},
   "outputs": [
    {
     "data": {
      "text/plain": [
       "array(['english', 'albanian', 'arabic', 'bulgarian', 'chinese',\n",
       "       'croatian', 'czech', 'danish', 'dutch', 'estonian', 'finnish',\n",
       "       'french', 'german', 'greek', 'hebrew', 'hungarian', 'icelandic',\n",
       "       'italian', 'japanese', 'korean', 'lithuanian', 'norwegian',\n",
       "       'polish', 'portuguese', 'romanian', 'russian', 'serbian',\n",
       "       'slovenian', 'spanish', 'swedish', 'turkish', 'ukrainian'],\n",
       "      dtype=object)"
      ]
     },
     "execution_count": 50,
     "metadata": {},
     "output_type": "execute_result"
    }
   ],
   "source": [
    "languages = dataset[dataset.columns[0]].unique()\n",
    "languages"
   ]
  },
  {
   "cell_type": "code",
   "execution_count": 49,
   "metadata": {},
   "outputs": [
    {
     "data": {
      "text/plain": [
       "array(['advertising', 'agriculture', 'animation', 'arts_and_crafts',\n",
       "       'entertainment', 'astrology', 'vehicles', 'games',\n",
       "       'books_and_literature', 'business', 'gambling', 'jobs', 'clothing',\n",
       "       'comic_books', 'dating', 'education', 'adult', 'food', 'health',\n",
       "       'hobbies_and_interests', 'humor', 'illegal_content', 'investing',\n",
       "       'jewelry', 'logistics', 'marketing', 'movies', 'music', 'hacking',\n",
       "       'media', 'finance', 'pets', 'politics', 'religion',\n",
       "       'sci_fi_and_fantasy', 'science', 'shopping', 'society', 'sports',\n",
       "       'tech', 'teens', 'television', 'travel', 'under_construction',\n",
       "       'weather'], dtype=object)"
      ]
     },
     "execution_count": 49,
     "metadata": {},
     "output_type": "execute_result"
    }
   ],
   "source": [
    "#arabicData\n",
    "categories = dataset[dataset.columns[1]].unique()\n",
    "categories"
>>>>>>> latex
   ]
  },
  {
   "cell_type": "code",
<<<<<<< HEAD
   "execution_count": 61,
=======
   "execution_count": 52,
>>>>>>> latex
   "metadata": {},
   "outputs": [
    {
     "data": {
      "text/html": [
       "<div>\n",
       "<style scoped>\n",
       "    .dataframe tbody tr th:only-of-type {\n",
       "        vertical-align: middle;\n",
       "    }\n",
       "\n",
       "    .dataframe tbody tr th {\n",
       "        vertical-align: top;\n",
       "    }\n",
       "\n",
       "    .dataframe thead th {\n",
       "        text-align: right;\n",
       "    }\n",
       "</style>\n",
       "<table border=\"1\" class=\"dataframe\">\n",
       "  <thead>\n",
       "    <tr style=\"text-align: right;\">\n",
       "      <th></th>\n",
<<<<<<< HEAD
       "      <th>Text</th>\n",
       "      <th>Arabic</th>\n",
=======
       "      <th>Language</th>\n",
       "      <th>Label</th>\n",
       "      <th>Text</th>\n",
>>>>>>> latex
       "    </tr>\n",
       "  </thead>\n",
       "  <tbody>\n",
       "    <tr>\n",
<<<<<<< HEAD
       "      <th>20170</th>\n",
       "      <td>By OlivierLa puce la plus intéressante du lot ...</td>\n",
       "      <td>بواسطة Olivier ، يجب أن تكون الشريحة الأكثر إث...</td>\n",
       "    </tr>\n",
       "    <tr>\n",
       "      <th>20171</th>\n",
       "      <td>Home / PEOPLE / Mélanie Da Cruz maman : Anthon...</td>\n",
       "      <td>الصفحة الرئيسية / الناس / ميلاني دا كروز مومز:...</td>\n",
       "    </tr>\n",
       "    <tr>\n",
       "      <th>20172</th>\n",
       "      <td>Arabie saoudite : plus de deux millions de fid...</td>\n",
       "      <td>المملكة العربية السعودية: يبدأ أكثر من مليوني ...</td>\n",
       "    </tr>\n",
       "    <tr>\n",
       "      <th>20173</th>\n",
       "      <td>21 août 2018 à 10h16 | Par El Mehdi BerradaMoh...</td>\n",
       "      <td>21 أغسطس ، 2018 في الساعة 10:16 | بقلم المهدي ...</td>\n",
       "    </tr>\n",
       "    <tr>\n",
       "      <th>20174</th>\n",
       "      <td>By Gregori PujolC’est chez Showroomprive que S...</td>\n",
       "      <td>بواسطة Gregori PujolIt في Showroomprive أن SFR...</td>\n",
       "    </tr>\n",
       "    <tr>\n",
       "      <th>20175</th>\n",
       "      <td>By Gaël Weiss Un vieux téléphone fixe à cadran...</td>\n",
       "      <td>بقلم غايل فايس هاتف للاتصال الدوار القديم. رصي...</td>\n",
       "    </tr>\n",
       "    <tr>\n",
       "      <th>20176</th>\n",
       "      <td>Tunisie : Youssef Chahed, un bilan dans le rou...</td>\n",
       "      <td>تونس: يوسف شاهد ، تقرير في المنطقة الحمراء بعد...</td>\n",
       "    </tr>\n",
       "    <tr>\n",
       "      <th>20177</th>\n",
       "      <td>Tunisie : heurts à Ben Guerdane contre la ferm...</td>\n",
       "      <td>تونس: اشتباكات في بن قردان ضد إغلاق المعبر الح...</td>\n",
       "    </tr>\n",
       "    <tr>\n",
       "      <th>20178</th>\n",
       "      <td>By Gregori PujolCe Pop-Up Store offrira jusqu’...</td>\n",
       "      <td>بقلم Gregori Pujol ، ستوفر هذه النافذة المنبثق...</td>\n",
=======
       "      <th>5091</th>\n",
       "      <td>arabic</td>\n",
       "      <td>entertainment</td>\n",
       "      <td>تشاهدونا اليوم علي قناة ON Sport 2 مباريات الد...</td>\n",
       "    </tr>\n",
       "    <tr>\n",
       "      <th>5092</th>\n",
       "      <td>arabic</td>\n",
       "      <td>entertainment</td>\n",
       "      <td>سِنغري يسأل هواسا عن عضوها المفضل من Big Bang!...</td>\n",
       "    </tr>\n",
       "    <tr>\n",
       "      <th>5093</th>\n",
       "      <td>arabic</td>\n",
       "      <td>entertainment</td>\n",
       "      <td>يعنى ضاضا كان بيحترم الدولة ودلوقتى مبقاش يحتر...</td>\n",
       "    </tr>\n",
       "    <tr>\n",
       "      <th>5094</th>\n",
       "      <td>arabic</td>\n",
       "      <td>entertainment</td>\n",
       "      <td>بارك بوم تحيي معجبيها كفنانة من وكالة D Nation...</td>\n",
       "    </tr>\n",
       "    <tr>\n",
       "      <th>5095</th>\n",
       "      <td>arabic</td>\n",
       "      <td>entertainment</td>\n",
       "      <td>تشكيل فريقي نجوم إف سي والمقاولون العرب لمواجه...</td>\n",
>>>>>>> latex
       "    </tr>\n",
       "  </tbody>\n",
       "</table>\n",
       "</div>"
      ],
      "text/plain": [
<<<<<<< HEAD
       "                                                    Text  \\\n",
       "20170  By OlivierLa puce la plus intéressante du lot ...   \n",
       "20171  Home / PEOPLE / Mélanie Da Cruz maman : Anthon...   \n",
       "20172  Arabie saoudite : plus de deux millions de fid...   \n",
       "20173  21 août 2018 à 10h16 | Par El Mehdi BerradaMoh...   \n",
       "20174  By Gregori PujolC’est chez Showroomprive que S...   \n",
       "20175  By Gaël Weiss Un vieux téléphone fixe à cadran...   \n",
       "20176  Tunisie : Youssef Chahed, un bilan dans le rou...   \n",
       "20177  Tunisie : heurts à Ben Guerdane contre la ferm...   \n",
       "20178  By Gregori PujolCe Pop-Up Store offrira jusqu’...   \n",
       "\n",
       "                                                  Arabic  \n",
       "20170  بواسطة Olivier ، يجب أن تكون الشريحة الأكثر إث...  \n",
       "20171  الصفحة الرئيسية / الناس / ميلاني دا كروز مومز:...  \n",
       "20172  المملكة العربية السعودية: يبدأ أكثر من مليوني ...  \n",
       "20173  21 أغسطس ، 2018 في الساعة 10:16 | بقلم المهدي ...  \n",
       "20174  بواسطة Gregori PujolIt في Showroomprive أن SFR...  \n",
       "20175  بقلم غايل فايس هاتف للاتصال الدوار القديم. رصي...  \n",
       "20176  تونس: يوسف شاهد ، تقرير في المنطقة الحمراء بعد...  \n",
       "20177  تونس: اشتباكات في بن قردان ضد إغلاق المعبر الح...  \n",
       "20178  بقلم Gregori Pujol ، ستوفر هذه النافذة المنبثق...  "
      ]
     },
     "execution_count": 61,
=======
       "     Language          Label  \\\n",
       "5091   arabic  entertainment   \n",
       "5092   arabic  entertainment   \n",
       "5093   arabic  entertainment   \n",
       "5094   arabic  entertainment   \n",
       "5095   arabic  entertainment   \n",
       "\n",
       "                                                   Text  \n",
       "5091  تشاهدونا اليوم علي قناة ON Sport 2 مباريات الد...  \n",
       "5092  سِنغري يسأل هواسا عن عضوها المفضل من Big Bang!...  \n",
       "5093  يعنى ضاضا كان بيحترم الدولة ودلوقتى مبقاش يحتر...  \n",
       "5094  بارك بوم تحيي معجبيها كفنانة من وكالة D Nation...  \n",
       "5095  تشكيل فريقي نجوم إف سي والمقاولون العرب لمواجه...  "
      ]
     },
     "execution_count": 52,
>>>>>>> latex
     "metadata": {},
     "output_type": "execute_result"
    }
   ],
   "source": [
<<<<<<< HEAD
    "df"
=======
    "arabicData.head()"
>>>>>>> latex
   ]
  },
  {
   "cell_type": "code",
<<<<<<< HEAD
   "execution_count": 6,
   "metadata": {},
   "outputs": [],
   "source": [
    "df[\"NewEnglish\"] = df.Arabic.map(lambda x: translator.translate(x,  dest=\"en\").text)\n"
=======
   "execution_count": 5,
   "metadata": {},
   "outputs": [],
   "source": [
    "import pandas as pd\n",
    "from googletrans import Translator\n",
    "\n",
    "df = pd.DataFrame(data=frenchData[\"Text\"][1:10])\n",
    "\n",
    "translator = Translator()\n",
    "#mylist = list( df[\"Text\"])\n",
    "df[\"Arabic\"] = df.Text.map(lambda x: translator.translate(x,  dest=\"ar\").text)\n",
    "\n"
>>>>>>> latex
   ]
  },
  {
   "cell_type": "code",
<<<<<<< HEAD
   "execution_count": 7,
=======
   "execution_count": 99,
>>>>>>> latex
   "metadata": {},
   "outputs": [
    {
     "data": {
      "text/html": [
       "<div>\n",
       "<style scoped>\n",
       "    .dataframe tbody tr th:only-of-type {\n",
       "        vertical-align: middle;\n",
       "    }\n",
       "\n",
       "    .dataframe tbody tr th {\n",
       "        vertical-align: top;\n",
       "    }\n",
       "\n",
       "    .dataframe thead th {\n",
       "        text-align: right;\n",
       "    }\n",
       "</style>\n",
       "<table border=\"1\" class=\"dataframe\">\n",
       "  <thead>\n",
       "    <tr style=\"text-align: right;\">\n",
       "      <th></th>\n",
       "      <th>Text</th>\n",
       "      <th>Arabic</th>\n",
<<<<<<< HEAD
       "      <th>NewEnglish</th>\n",
=======
>>>>>>> latex
       "    </tr>\n",
       "  </thead>\n",
       "  <tbody>\n",
       "    <tr>\n",
<<<<<<< HEAD
       "      <th>1</th>\n",
       "      <td>Trump asks SEC to mull half-year corporate fil...</td>\n",
       "      <td>ترامب يطلب من هيئة الأوراق المالية والبورصات د...</td>\n",
       "      <td>Trump is asking the Securities and Exchange Co...</td>\n",
       "    </tr>\n",
       "    <tr>\n",
       "      <th>2</th>\n",
       "      <td>Wall St. up on trade hopes, S&amp;P equals longest...</td>\n",
       "      <td>ارتفاع وول ستريت على آمال التجارة ، ستاندرد آن...</td>\n",
       "      <td>Wall Street's rise on trade hopes, Standard &amp; ...</td>\n",
       "    </tr>\n",
       "    <tr>\n",
       "      <th>3</th>\n",
       "      <td>Asian shares hit one-year low on Turkey, China...</td>\n",
       "      <td>الأسهم الأسيوية تصل إلى أدنى مستوى خلال عام مع...</td>\n",
       "      <td>Asian stocks hit a one-year low amid concerns ...</td>\n",
       "    </tr>\n",
       "    <tr>\n",
       "      <th>4</th>\n",
       "      <td>Asian stocks weaken as Turkey worries weigh, d...</td>\n",
       "      <td>الأسهم الأسيوية تضعف مع قلق تركيا ، وارتفاع ال...</td>\n",
       "      <td>Asian stocks weaken with concern of Turkey, do...</td>\n",
       "    </tr>\n",
       "    <tr>\n",
       "      <th>5</th>\n",
       "      <td>Most Asian shares edge up after Wall St. gains...</td>\n",
       "      <td>معظم الأسهم الأسيوية ترتفع بعد مكاسب وول ستريت...</td>\n",
       "      <td>Most Asian shares are up after Wall Street gai...</td>\n",
       "    </tr>\n",
       "    <tr>\n",
       "      <th>6</th>\n",
       "      <td>Musk bid for Tesla: no formal offer, no firm d...</td>\n",
       "      <td>عرض Musk لـ Tesla: لا يوجد عرض رسمي ، ولا توجد...</td>\n",
       "      <td>Tesla's Musk: There is no formal offer, no dea...</td>\n",
       "    </tr>\n",
       "    <tr>\n",
       "      <th>7</th>\n",
       "      <td>Wall St. rallies on solid earnings, U.S.-China...</td>\n",
       "      <td>وول ستريت ترتفع وسط أرباح قوية ، والمحادثات ال...</td>\n",
       "      <td>Wall Street rises amid strong earnings, US-Chi...</td>\n",
       "    </tr>\n",
       "    <tr>\n",
       "      <th>8</th>\n",
       "      <td>Iran says no OPEC member can take over its sha...</td>\n",
       "      <td>إيران تقول إنه لا يمكن لأي عضو في أوبك تولي حص...</td>\n",
       "      <td>Iran says no OPEC member can take its share of...</td>\n",
       "    </tr>\n",
       "    <tr>\n",
       "      <th>9</th>\n",
       "      <td>Online courses in data science that could help...</td>\n",
       "      <td>دورات عبر الإنترنت في علوم البيانات والتي يمكن...</td>\n",
       "      <td>Online courses in data science which can help ...</td>\n",
=======
       "      <th>20170</th>\n",
       "      <td>By OlivierLa puce la plus intéressante du lot ...</td>\n",
       "      <td>بواسطة Olivier ، يجب أن تكون الشريحة الأكثر إث...</td>\n",
       "    </tr>\n",
       "    <tr>\n",
       "      <th>20171</th>\n",
       "      <td>Home / PEOPLE / Mélanie Da Cruz maman : Anthon...</td>\n",
       "      <td>الصفحة الرئيسية / الناس / ميلاني دا كروز مومز:...</td>\n",
       "    </tr>\n",
       "    <tr>\n",
       "      <th>20172</th>\n",
       "      <td>Arabie saoudite : plus de deux millions de fid...</td>\n",
       "      <td>المملكة العربية السعودية: يبدأ أكثر من مليوني ...</td>\n",
       "    </tr>\n",
       "    <tr>\n",
       "      <th>20173</th>\n",
       "      <td>21 août 2018 à 10h16 | Par El Mehdi BerradaMoh...</td>\n",
       "      <td>21 أغسطس ، 2018 في الساعة 10:16 | بقلم المهدي ...</td>\n",
       "    </tr>\n",
       "    <tr>\n",
       "      <th>20174</th>\n",
       "      <td>By Gregori PujolC’est chez Showroomprive que S...</td>\n",
       "      <td>بواسطة Gregori PujolIt في Showroomprive أن SFR...</td>\n",
>>>>>>> latex
       "    </tr>\n",
       "  </tbody>\n",
       "</table>\n",
       "</div>"
      ],
      "text/plain": [
<<<<<<< HEAD
       "                                                Text  \\\n",
       "1  Trump asks SEC to mull half-year corporate fil...   \n",
       "2  Wall St. up on trade hopes, S&P equals longest...   \n",
       "3  Asian shares hit one-year low on Turkey, China...   \n",
       "4  Asian stocks weaken as Turkey worries weigh, d...   \n",
       "5  Most Asian shares edge up after Wall St. gains...   \n",
       "6  Musk bid for Tesla: no formal offer, no firm d...   \n",
       "7  Wall St. rallies on solid earnings, U.S.-China...   \n",
       "8  Iran says no OPEC member can take over its sha...   \n",
       "9  Online courses in data science that could help...   \n",
       "\n",
       "                                              Arabic  \\\n",
       "1  ترامب يطلب من هيئة الأوراق المالية والبورصات د...   \n",
       "2  ارتفاع وول ستريت على آمال التجارة ، ستاندرد آن...   \n",
       "3  الأسهم الأسيوية تصل إلى أدنى مستوى خلال عام مع...   \n",
       "4  الأسهم الأسيوية تضعف مع قلق تركيا ، وارتفاع ال...   \n",
       "5  معظم الأسهم الأسيوية ترتفع بعد مكاسب وول ستريت...   \n",
       "6  عرض Musk لـ Tesla: لا يوجد عرض رسمي ، ولا توجد...   \n",
       "7  وول ستريت ترتفع وسط أرباح قوية ، والمحادثات ال...   \n",
       "8  إيران تقول إنه لا يمكن لأي عضو في أوبك تولي حص...   \n",
       "9  دورات عبر الإنترنت في علوم البيانات والتي يمكن...   \n",
       "\n",
       "                                          NewEnglish  \n",
       "1  Trump is asking the Securities and Exchange Co...  \n",
       "2  Wall Street's rise on trade hopes, Standard & ...  \n",
       "3  Asian stocks hit a one-year low amid concerns ...  \n",
       "4  Asian stocks weaken with concern of Turkey, do...  \n",
       "5  Most Asian shares are up after Wall Street gai...  \n",
       "6  Tesla's Musk: There is no formal offer, no dea...  \n",
       "7  Wall Street rises amid strong earnings, US-Chi...  \n",
       "8  Iran says no OPEC member can take its share of...  \n",
       "9  Online courses in data science which can help ...  "
      ]
     },
     "execution_count": 7,
=======
       "                                                    Text  \\\n",
       "20170  By OlivierLa puce la plus intéressante du lot ...   \n",
       "20171  Home / PEOPLE / Mélanie Da Cruz maman : Anthon...   \n",
       "20172  Arabie saoudite : plus de deux millions de fid...   \n",
       "20173  21 août 2018 à 10h16 | Par El Mehdi BerradaMoh...   \n",
       "20174  By Gregori PujolC’est chez Showroomprive que S...   \n",
       "\n",
       "                                                  Arabic  \n",
       "20170  بواسطة Olivier ، يجب أن تكون الشريحة الأكثر إث...  \n",
       "20171  الصفحة الرئيسية / الناس / ميلاني دا كروز مومز:...  \n",
       "20172  المملكة العربية السعودية: يبدأ أكثر من مليوني ...  \n",
       "20173  21 أغسطس ، 2018 في الساعة 10:16 | بقلم المهدي ...  \n",
       "20174  بواسطة Gregori PujolIt في Showroomprive أن SFR...  "
      ]
     },
     "execution_count": 99,
>>>>>>> latex
     "metadata": {},
     "output_type": "execute_result"
    }
   ],
   "source": [
<<<<<<< HEAD
    "df"
=======
    "df.head()"
   ]
  },
  {
   "cell_type": "code",
   "execution_count": 7,
   "metadata": {},
   "outputs": [],
   "source": [
    "#df[\"NewEnglish\"] = df.Arabic.map(lambda x: translator.translate(x,  dest=\"en\").text)\n"
>>>>>>> latex
   ]
  },
  {
   "cell_type": "code",
<<<<<<< HEAD
   "execution_count": 9,
   "metadata": {},
   "outputs": [
    {
     "name": "stdout",
     "output_type": "stream",
     "text": [
      "Collecting ibm-watson>=3.0.3\n",
      "\u001b[?25l  Downloading https://files.pythonhosted.org/packages/af/82/a0a8555e37c6822bc63b6170d6f30d3681c3ec987b3ab9b8f83f9b3887a3/ibm-watson-3.0.4.tar.gz (246kB)\n",
      "\u001b[K    100% |████████████████████████████████| 256kB 27.4MB/s ta 0:00:01\n",
      "\u001b[?25hRequirement already satisfied, skipping upgrade: requests<3.0,>=2.0 in /home/kamel/anaconda3/lib/python3.7/site-packages (from ibm-watson>=3.0.3) (2.21.0)\n",
      "Requirement already satisfied, skipping upgrade: python_dateutil>=2.5.3 in /home/kamel/anaconda3/lib/python3.7/site-packages (from ibm-watson>=3.0.3) (2.8.0)\n",
      "Collecting websocket-client==0.48.0 (from ibm-watson>=3.0.3)\n",
      "\u001b[?25l  Downloading https://files.pythonhosted.org/packages/8a/a1/72ef9aa26cfe1a75cee09fc1957e4723add9de098c15719416a1ee89386b/websocket_client-0.48.0-py2.py3-none-any.whl (198kB)\n",
      "\u001b[K    100% |████████████████████████████████| 204kB 1.1MB/s ta 0:00:01\n",
      "\u001b[?25hCollecting ibm_cloud_sdk_core>=0.2.0 (from ibm-watson>=3.0.3)\n",
      "  Downloading https://files.pythonhosted.org/packages/50/61/2c197bf3898f3ef74b22adc595a15f315d8c45c5ca7586dbe93b8b947825/ibm-cloud-sdk-core-0.4.2.tar.gz\n",
      "Requirement already satisfied, skipping upgrade: chardet<3.1.0,>=3.0.2 in /home/kamel/anaconda3/lib/python3.7/site-packages (from requests<3.0,>=2.0->ibm-watson>=3.0.3) (3.0.4)\n",
      "Requirement already satisfied, skipping upgrade: certifi>=2017.4.17 in /home/kamel/anaconda3/lib/python3.7/site-packages (from requests<3.0,>=2.0->ibm-watson>=3.0.3) (2019.3.9)\n",
      "Requirement already satisfied, skipping upgrade: idna<2.9,>=2.5 in /home/kamel/anaconda3/lib/python3.7/site-packages (from requests<3.0,>=2.0->ibm-watson>=3.0.3) (2.8)\n",
      "Requirement already satisfied, skipping upgrade: urllib3<1.25,>=1.21.1 in /home/kamel/anaconda3/lib/python3.7/site-packages (from requests<3.0,>=2.0->ibm-watson>=3.0.3) (1.24.1)\n",
      "Requirement already satisfied, skipping upgrade: six>=1.5 in /home/kamel/anaconda3/lib/python3.7/site-packages (from python_dateutil>=2.5.3->ibm-watson>=3.0.3) (1.12.0)\n",
      "Building wheels for collected packages: ibm-watson, ibm-cloud-sdk-core\n",
      "  Building wheel for ibm-watson (setup.py) ... \u001b[?25ldone\n",
      "\u001b[?25h  Stored in directory: /home/kamel/.cache/pip/wheels/b0/b4/42/15563549063278065c74f6fabcd9eae12666230edebbac9a66\n",
      "  Building wheel for ibm-cloud-sdk-core (setup.py) ... \u001b[?25ldone\n",
      "\u001b[?25h  Stored in directory: /home/kamel/.cache/pip/wheels/16/27/32/7d296851e2bf81e0965e313cedd4f1bc08d3eab4eaae7c133d\n",
      "Successfully built ibm-watson ibm-cloud-sdk-core\n",
      "Installing collected packages: websocket-client, ibm-cloud-sdk-core, ibm-watson\n",
      "Successfully installed ibm-cloud-sdk-core-0.4.2 ibm-watson-3.0.4 websocket-client-0.48.0\n"
     ]
    }
   ],
   "source": [
    "!pip install --upgrade \"ibm-watson>=3.0.3\""
=======
   "execution_count": null,
   "metadata": {},
   "outputs": [],
   "source": []
  },
  {
   "cell_type": "markdown",
   "metadata": {},
   "source": [
    "# Watson IBM POC"
   ]
  },
  {
   "cell_type": "code",
   "execution_count": 250,
   "metadata": {
    "scrolled": true
   },
   "outputs": [
    {
     "data": {
      "text/plain": [
       "array(['english', 'albanian', 'arabic', 'bulgarian', 'chinese',\n",
       "       'croatian', 'czech', 'danish', 'dutch', 'estonian', 'finnish',\n",
       "       'french', 'german', 'greek', 'hebrew', 'hungarian', 'icelandic',\n",
       "       'italian', 'japanese', 'korean', 'lithuanian', 'norwegian',\n",
       "       'polish', 'portuguese', 'romanian', 'russian', 'serbian',\n",
       "       'slovenian', 'spanish', 'swedish', 'turkish', 'ukrainian'],\n",
       "      dtype=object)"
      ]
     },
     "execution_count": 250,
     "metadata": {},
     "output_type": "execute_result"
    }
   ],
   "source": [
    "#!pip install --upgrade \"ibm-watson>=3.0.3\"\n",
    "languages = dataset[dataset.columns[0]].unique()\n",
    "languages"
>>>>>>> latex
   ]
  },
  {
   "cell_type": "code",
<<<<<<< HEAD
   "execution_count": 111,
=======
   "execution_count": 293,
   "metadata": {},
   "outputs": [],
   "source": [
    "ar = pd.DataFrame(data=arabicData[\"Text\"])\n",
    "#df2 = df2.to_json()\n",
    "text = ar['Text']\n",
    "text.to_csv('text.csv', header=['txt'])\n",
    "#text2.columns = [\"id\", \"text\"]"
   ]
  },
  {
   "cell_type": "code",
   "execution_count": 294,
   "metadata": {},
   "outputs": [],
   "source": [
    "txt = pd.read_csv('text.csv')\n",
    "#txt.columns = [\"id\", \"txt\"]\n",
    "txt = txt.txt\n",
    "txt.to_csv('txt.csv',header=['txt'])\n"
   ]
  },
  {
   "cell_type": "code",
   "execution_count": 295,
>>>>>>> latex
   "metadata": {},
   "outputs": [
    {
     "data": {
      "text/plain": [
<<<<<<< HEAD
       "20169    Home / GEEK / Le gouvernement américain interd...\n",
       "20170    By OlivierLa puce la plus intéressante du lot ...\n",
       "20171    Home / PEOPLE / Mélanie Da Cruz maman : Anthon...\n",
       "20172    Arabie saoudite : plus de deux millions de fid...\n",
       "20173    21 août 2018 à 10h16 | Par El Mehdi BerradaMoh...\n",
       "20174    By Gregori PujolC’est chez Showroomprive que S...\n",
       "20175    By Gaël Weiss Un vieux téléphone fixe à cadran...\n",
       "20176    Tunisie : Youssef Chahed, un bilan dans le rou...\n",
       "20177    Tunisie : heurts à Ben Guerdane contre la ferm...\n",
       "20178    By Gregori PujolCe Pop-Up Store offrira jusqu’...\n",
       "20179    La Libye annonce la réouverture du principal p...\n",
       "20180    Home / PEOPLE / Le bébé prend un coup de scalp...\n",
       "20181    Algérie : le ministre de la Santé annonce que ...\n",
       "20182    Home / PEOPLE / Découvrez la règle improbable ...\n",
       "20183    By Anne Cagan Crédit Kate Crawford and Vladan ...\n",
       "20184    By Gregori Pujol[shortcode_jdg_promo label=”GB...\n",
       "20185    Élections en Mauritanie : un paysage politique...\n",
       "20186    By MathieuLe fair-play avant tout La petite hy...\n",
       "20187    Guerre commerciale Turquie-États-Unis : Erdoga...\n",
       "20188    Réseaux sociaux Home / GEEK / Bon Plan : Windo...\n",
       "20189    Maroc : le rétablissement du service militaire...\n",
       "20190    Tourisme : la France revoit à la baisse le ris...\n",
       "20191    Jeune Afrique Business+ Diplomatie Droits de l...\n",
       "20192    Home / PEOPLE / Cette mannequin veut vendre sa...\n",
       "20193    Home / PEOPLE / Le frère d’Ariana Grande sera ...\n",
       "20194    By Gregori PujolGearbest propose actuellement ...\n",
       "20195    By Gregori PujolIl ne vous reste plus que quel...\n",
       "20196    Maroc – Mustapha Aziz : le testament de Lahcen...\n",
       "20197    Migrants : le bras de fer Maroc-Espagne 29 aoû...\n",
       "20198    Algérie – États-Unis : la diplomatie par le sp...\n",
       "                               ...                        \n",
       "24012    Tiens c'est pas mal, comme site !Par exemple, ...\n",
       "24013    Je me met ça dans un coin.Je tourne habituelle...\n",
       "24014    Ce mois-ci, nous vous offrons un fond d'écran ...\n",
       "24015    par koalisa | Août 29, 2018 | Voyage | 21 comm...\n",
       "24016    Version imprimable Le trio Viva for Life 2018 ...\n",
       "24017    7 Commentaires Polina sur 3 septembre 2018 à 1...\n",
       "24018    Les Rencontres Médiévales 7, 8 et 9 septembre ...\n",
       "24019    C'est trop drôle: Des liens magnet (torrent) o...\n",
       "24020    Intel interdit de faire des benchmarks de ses ...\n",
       "24021    Wavre : Cinéma en plein air Vous souhaitez viv...\n",
       "24022    Version imprimable Maison Cantillon: Traiteur ...\n",
       "24023    Pour réviser la conjugaison des verbes à l'imp...\n",
       "24024    Pour réviser la conjugaison des verbes à l'imp...\n",
       "24025    Cyclisme : Les points-nœuds, qu’est-ce que c’e...\n",
       "24026    J'adore le travail de ce photographe !https://...\n",
       "24027    « Presque 500 milliards de dollars, c’est le m...\n",
       "24028    Je vois absolument tous les bigots sur interne...\n",
       "24029    La prochaine fois qu'un raciste vous dit que l...\n",
       "24030    FlickrNo, this is not a set for a sci-fi movie...\n",
       "24031     TSD - Mes enemis ne sont pas mon dieu(Mixed B...\n",
       "24032    FlickrA new hotel, AC Hotel Montreal (Marriott...\n",
       "24033    Ce mois-ci, nous vous offrons un fond d'écran ...\n",
       "24034    Un super site pour les prévisions météo:- pas ...\n",
       "24035    Braderie de Waterloo 2018 : Devinez qui sera l...\n",
       "24036    Quatrième de couverture : Sujet :Vous vous rév...\n",
       "24037    Nivelles : Cela cavale chez les Aclots Nivelle...\n",
       "24038    Je suis mort de rire: L'anti-adware le plus po...\n",
       "24039    Sous le coude: Comment investiguer les lenteur...\n",
       "24040    Version imprimable Nuit de Feux à Hélécine (+v...\n",
       "24041    par koalisa | Sep 11, 2018 | Non classé , Voya...\n",
       "Name: Text, Length: 3873, dtype: object"
      ]
     },
     "execution_count": 111,
=======
       "(1992,)"
      ]
     },
     "execution_count": 295,
>>>>>>> latex
     "metadata": {},
     "output_type": "execute_result"
    }
   ],
   "source": [
<<<<<<< HEAD
    "df2 = pd.DataFrame(data=frenchData[\"Text\"])\n",
    "#df2 = df2.to_json()\n",
    "text2 = df2['Text']\n",
    "df2.Text"
=======
    "ar_txt = pd.DataFrame()\n",
    "text = pd.read_csv('txt.csv').txt\n",
    "text.shape"
>>>>>>> latex
   ]
  },
  {
   "cell_type": "code",
<<<<<<< HEAD
   "execution_count": 123,
=======
   "execution_count": 223,
>>>>>>> latex
   "metadata": {},
   "outputs": [
    {
     "name": "stdout",
     "output_type": "stream",
     "text": [
<<<<<<< HEAD
      "{\n",
      "  \"translations\": [\n",
      "    {\n",
      "      \"translation\": \"20170 By OlivierThe most interesting chip in the lot ... 20171 Home/PEOPLE/Mélanie Da Cruz maman: Anthon ... 20172 Saudi Arabia: more than two million fid ... 20173 21 August 2018 at 10h16 | By El Mehdi BerradaMoh ... 20174 By Gregori PujolC ' est chez Showroomprive que S. .. 20175 By Gaël Weiss Un vieux téléphone à cadran ... 20176 Tunisia: Youssef Chahed, un bilan dans le rou ... 20177 Tunisia: clashes à Ben Guerdane against the ferm ... 20178 By Gregori PujolThis Pop-Up Store will offer until ... 20179 Libya announces the reopening of the main p ... 20180 Home/PEOPLE/The baby is taking a scalp ... 20181 Algeria: the Minister of Health announces that ... 20182 Home/PEOPLE/Discover the improbable rule ... 20183 By Anne Cagan Credit Kate Crawford and Vladan ... 20184 By Gregori Pujol [shortcode_jdg_promo label = GB ... 20185 Elections in Mauritania: a political landscape ... 20186 By Mathieule fair-play before all La petite hy ... 20187 Trade war Turkey-United States: Erdoga ... 20188 Social Networks Home/GEEK/Bon Plan: Windo ... 20189 Morocco: the re-establishment of military service ... 20190 Tourism: la France resees à la downside le ris ... 20191 Jeune Afrique Business + Diplomatie Rights de l ... 20192 Home/PEOPLE/This mannequin wants to sell sa ... 20193 Home/PEOPLE/Le brother d' Ariana Grande sera ... 20194 By Gregori PujolGearbest proposes 20195 By Gregori PujolIl you have no more than 20196 Morocco-Mustapha Aziz: the will of Lahcen ... 20197 Migrants: le arm de fer Maroc-Spain 29 aoû ... 20198 Algeria-United States: Diplomacy by the sp ... ... 24012 Tiens is not bad, as a site!For example, ... 24013 I usually turn around ... 24014 This month we offer you a wallpaper ... 24015 by koalisa | August 29, 2018 | Travel | 21 comm ... 24016 Printable version The Viva for Life Trio 2018 ... 24017 7 Comments Polina on 3 September 2018 to 1 ... 24018 Les Rencontres Médiévales 7, 8 et 9 septembre ... 24019 C' est trop drôle: Des liens magnet (torrent) o ... 24020 Intel bans de faire des benchmarks de ses ... 24021 Wavre: Cinéma en plein air You want viv ... 24022 Printable version Maison Cantillon: Traiteur ... 24023 To revise the conjugation of verbs at the imp ... 24024 To revise the conjugation of the verbs at the imp ... 24025 Cycling: The points-nodes, what is it e ... 24026 I love the work of this photographer!Https:// ... 24027 \\\" Almost 500 billion dollars is the m ... 24028 I see absolutely all bigots on internal ... 24029 The next time a racist tells you that l ... 24030 FlickrNo, this is not a set for a sci-fi movie ... 24031 TSD-My enemas are not my god (Mixed B. .. 24032 FlickrA new hotel, AC Hotel Montreal (Marriott ... 24033 This month we offer you a wallpaper ... 24034 A super site for weather forecasting: - not ... 24035 Braderie de Waterloo 2018: Guess who will be l ... 24036 Coverage: Subject: You are rev ... 24037 Nivelles: This is in the Aclots Nivelle ... 24038 I have died of laughter: The most anti-adware ... 24039 Under the elbow: How to invest slowness ... 24040 Printable version Nuit de Feux à Hélécine (+ v ... 24041 par koalisa | Sep 11, 2018 | Unclassified, Voya ...\\nName: Text, Length: 3873, dtype: object\"\n",
      "    }\n",
      "  ],\n",
      "  \"word_count\": 580,\n",
      "  \"character_count\": 3638\n",
      "}\n"
=======
      "50\n",
      "100\n",
      "150\n",
      "200\n"
>>>>>>> latex
     ]
    }
   ],
   "source": [
<<<<<<< HEAD
    "# coding=utf-8\n",
    "from __future__ import print_function\n",
    "import json\n",
    "from ibm_watson import LanguageTranslatorV3\n",
    "\n",
    "language_translator = LanguageTranslatorV3(\n",
    "    version='2019-05-30',\n",
    "    ### url is optional, and defaults to the URL below. Use the correct URL for your region.\n",
    "    url='https://gateway-lon.watsonplatform.net/language-translator/api',\n",
    "    iam_apikey='4mnlzKaDJg5bK8HN9PWd6fGu5fCSfGm4lHDr8wrXM8hl')\n",
    "\n",
    "# Authenticate with username/password if your service instance doesn't provide an API key\n",
    "# language_translator = LanguageTranslatorV3(\n",
    "#     version='2018-05-01',\n",
    "#     username='YOUR SERVICE USERNAME',\n",
    "#     password='YOUR SERVICE PASSWORD')\n",
    "\n",
    "## Translate\n",
    "translation = language_translator.translate(\n",
    "    text=str(text2), model_id='fr-en').get_result()\n",
    "print(json.dumps(translation, indent=2, ensure_ascii=False))\n",
=======
    "listt = [50,100,150,200]\n",
    "for j in listt:\n",
    "    print(j)"
   ]
  },
  {
   "cell_type": "code",
   "execution_count": 296,
   "metadata": {},
   "outputs": [
    {
     "name": "stdout",
     "output_type": "stream",
     "text": [
      "{\n",
      "  \"languages\": [\n",
      "    {\n",
      "      \"language\": \"af\",\n",
      "      \"name\": \"Afrikaans\"\n",
      "    },\n",
      "    {\n",
      "      \"language\": \"ar\",\n",
      "      \"name\": \"Arabic\"\n",
      "    },\n",
      "    {\n",
      "      \"language\": \"az\",\n",
      "      \"name\": \"Azerbaijani\"\n",
      "    },\n",
      "    {\n",
      "      \"language\": \"ba\",\n",
      "      \"name\": \"Bashkir\"\n",
      "    },\n",
      "    {\n",
      "      \"language\": \"be\",\n",
      "      \"name\": \"Belarusian\"\n",
      "    },\n",
      "    {\n",
      "      \"language\": \"bg\",\n",
      "      \"name\": \"Bulgarian\"\n",
      "    },\n",
      "    {\n",
      "      \"language\": \"bn\",\n",
      "      \"name\": \"Bengali\"\n",
      "    },\n",
      "    {\n",
      "      \"language\": \"bs\",\n",
      "      \"name\": \"Bosnian\"\n",
      "    },\n",
      "    {\n",
      "      \"language\": \"ca\",\n",
      "      \"name\": \"Catalan\"\n",
      "    },\n",
      "    {\n",
      "      \"language\": \"cs\",\n",
      "      \"name\": \"Czech\"\n",
      "    },\n",
      "    {\n",
      "      \"language\": \"cv\",\n",
      "      \"name\": \"Chuvash\"\n",
      "    },\n",
      "    {\n",
      "      \"language\": \"da\",\n",
      "      \"name\": \"Danish\"\n",
      "    },\n",
      "    {\n",
      "      \"language\": \"de\",\n",
      "      \"name\": \"German\"\n",
      "    },\n",
      "    {\n",
      "      \"language\": \"el\",\n",
      "      \"name\": \"Greek\"\n",
      "    },\n",
      "    {\n",
      "      \"language\": \"en\",\n",
      "      \"name\": \"English\"\n",
      "    },\n",
      "    {\n",
      "      \"language\": \"eo\",\n",
      "      \"name\": \"Esperanto\"\n",
      "    },\n",
      "    {\n",
      "      \"language\": \"es\",\n",
      "      \"name\": \"Spanish\"\n",
      "    },\n",
      "    {\n",
      "      \"language\": \"et\",\n",
      "      \"name\": \"Estonian\"\n",
      "    },\n",
      "    {\n",
      "      \"language\": \"eu\",\n",
      "      \"name\": \"Basque\"\n",
      "    },\n",
      "    {\n",
      "      \"language\": \"fa\",\n",
      "      \"name\": \"Persian\"\n",
      "    },\n",
      "    {\n",
      "      \"language\": \"fi\",\n",
      "      \"name\": \"Finnish\"\n",
      "    },\n",
      "    {\n",
      "      \"language\": \"fr\",\n",
      "      \"name\": \"French\"\n",
      "    },\n",
      "    {\n",
      "      \"language\": \"gu\",\n",
      "      \"name\": \"Gujarati\"\n",
      "    },\n",
      "    {\n",
      "      \"language\": \"he\",\n",
      "      \"name\": \"Hebrew\"\n",
      "    },\n",
      "    {\n",
      "      \"language\": \"hi\",\n",
      "      \"name\": \"Hindi\"\n",
      "    },\n",
      "    {\n",
      "      \"language\": \"ht\",\n",
      "      \"name\": \"Haitian\"\n",
      "    },\n",
      "    {\n",
      "      \"language\": \"hu\",\n",
      "      \"name\": \"Hungarian\"\n",
      "    },\n",
      "    {\n",
      "      \"language\": \"hy\",\n",
      "      \"name\": \"Armenian\"\n",
      "    },\n",
      "    {\n",
      "      \"language\": \"id\",\n",
      "      \"name\": \"Indonesian\"\n",
      "    },\n",
      "    {\n",
      "      \"language\": \"is\",\n",
      "      \"name\": \"Icelandic\"\n",
      "    },\n",
      "    {\n",
      "      \"language\": \"it\",\n",
      "      \"name\": \"Italian\"\n",
      "    },\n",
      "    {\n",
      "      \"language\": \"ja\",\n",
      "      \"name\": \"Japanese\"\n",
      "    },\n",
      "    {\n",
      "      \"language\": \"ka\",\n",
      "      \"name\": \"Georgian\"\n",
      "    },\n",
      "    {\n",
      "      \"language\": \"kk\",\n",
      "      \"name\": \"Kazakh\"\n",
      "    },\n",
      "    {\n",
      "      \"language\": \"km\",\n",
      "      \"name\": \"Central Khmer\"\n",
      "    },\n",
      "    {\n",
      "      \"language\": \"ko\",\n",
      "      \"name\": \"Korean\"\n",
      "    },\n",
      "    {\n",
      "      \"language\": \"ku\",\n",
      "      \"name\": \"Kurdish\"\n",
      "    },\n",
      "    {\n",
      "      \"language\": \"ky\",\n",
      "      \"name\": \"Kirghiz\"\n",
      "    },\n",
      "    {\n",
      "      \"language\": \"lt\",\n",
      "      \"name\": \"Lithuanian\"\n",
      "    },\n",
      "    {\n",
      "      \"language\": \"lv\",\n",
      "      \"name\": \"Latvian\"\n",
      "    },\n",
      "    {\n",
      "      \"language\": \"ml\",\n",
      "      \"name\": \"Malayalam\"\n",
      "    },\n",
      "    {\n",
      "      \"language\": \"mn\",\n",
      "      \"name\": \"Mongolian\"\n",
      "    },\n",
      "    {\n",
      "      \"language\": \"nb\",\n",
      "      \"name\": \"Norwegian Bokmal\"\n",
      "    },\n",
      "    {\n",
      "      \"language\": \"nl\",\n",
      "      \"name\": \"Dutch\"\n",
      "    },\n",
      "    {\n",
      "      \"language\": \"nn\",\n",
      "      \"name\": \"Norwegian Nynorsk\"\n",
      "    },\n",
      "    {\n",
      "      \"language\": \"pa\",\n",
      "      \"name\": \"Panjabi\"\n",
      "    },\n",
      "    {\n",
      "      \"language\": \"pl\",\n",
      "      \"name\": \"Polish\"\n",
      "    },\n",
      "    {\n",
      "      \"language\": \"ps\",\n",
      "      \"name\": \"Pushto\"\n",
      "    },\n",
      "    {\n",
      "      \"language\": \"pt\",\n",
      "      \"name\": \"Portuguese\"\n",
      "    },\n",
      "    {\n",
      "      \"language\": \"ro\",\n",
      "      \"name\": \"Romanian\"\n",
      "    },\n",
      "    {\n",
      "      \"language\": \"ru\",\n",
      "      \"name\": \"Russian\"\n",
      "    },\n",
      "    {\n",
      "      \"language\": \"sk\",\n",
      "      \"name\": \"Slovakian\"\n",
      "    },\n",
      "    {\n",
      "      \"language\": \"so\",\n",
      "      \"name\": \"Somali\"\n",
      "    },\n",
      "    {\n",
      "      \"language\": \"sq\",\n",
      "      \"name\": \"Albanian\"\n",
      "    },\n",
      "    {\n",
      "      \"language\": \"sv\",\n",
      "      \"name\": \"Swedish\"\n",
      "    },\n",
      "    {\n",
      "      \"language\": \"ta\",\n",
      "      \"name\": \"Tamil\"\n",
      "    },\n",
      "    {\n",
      "      \"language\": \"te\",\n",
      "      \"name\": \"Telugu\"\n",
      "    },\n",
      "    {\n",
      "      \"language\": \"tr\",\n",
      "      \"name\": \"Turkish\"\n",
      "    },\n",
      "    {\n",
      "      \"language\": \"uk\",\n",
      "      \"name\": \"Ukrainian\"\n",
      "    },\n",
      "    {\n",
      "      \"language\": \"ur\",\n",
      "      \"name\": \"Urdu\"\n",
      "    },\n",
      "    {\n",
      "      \"language\": \"vi\",\n",
      "      \"name\": \"Vietnamese\"\n",
      "    },\n",
      "    {\n",
      "      \"language\": \"zh\",\n",
      "      \"name\": \"Simplified Chinese\"\n",
      "    },\n",
      "    {\n",
      "      \"language\": \"zh-TW\",\n",
      "      \"name\": \"Traditional Chinese\"\n",
      "    }\n",
      "  ]\n",
      "}\n"
     ]
    }
   ],
   "source": [
    "import json\n",
    "from ibm_watson import LanguageTranslatorV3\n",
    "\n",
    "language_translator = LanguageTranslatorV3(\n",
    "    version='2019-05-30',\n",
    "    ### url is optional, and defaults to the URL below. Use the correct URL for your region.\n",
    "    url='https://gateway-lon.watsonplatform.net/language-translator/api',\n",
    "    iam_apikey='0OikiP4vprsFkwEoEAIQam-u7E-cZ6aBjdHh_6iWqtjU')\n",
    "\n",
    "languages = language_translator.list_identifiable_languages().get_result()\n",
    "print(json.dumps(languages, indent=2))"
   ]
  },
  {
   "cell_type": "code",
   "execution_count": 297,
   "metadata": {},
   "outputs": [],
   "source": [
    "# coding=utf-8\n",
    "from __future__ import print_function\n",
    "from requests.exceptions import Timeout\n",
    "import json\n",
    "from ibm_watson import LanguageTranslatorV3\n",
    "\n",
    "\n",
    "\n",
    "language_translator = LanguageTranslatorV3(\n",
    "    version='2019-05-30',\n",
    "    ### url is optional, and defaults to the URL below. Use the correct URL for your region.\n",
    "    url='https://gateway-lon.watsonplatform.net/language-translator/api',\n",
    "    iam_apikey='0OikiP4vprsFkwEoEAIQam-u7E-cZ6aBjdHh_6iWqtjU')\n",
    "\n",
    "# Authenticate with username/password if your service instance doesn't provide an API key\n",
    "# language_translator = LanguageTranslatorV3(\n",
    "#     version='2018-05-01',\n",
    "#     username='YOUR SERVICE USERNAME',\n",
    "#     password='YOUR SERVICE PASSWORD')\n",
    "mylist = []\n",
    "## Translate\n",
    "\n",
    "\n",
    "\n",
    "for i in range(0,50):\n",
    "    \n",
    "    translation = language_translator.translate(\n",
    "    text=str(text.iloc[i]), model_id='ar-en').get_result()\n",
    "    out = json.dumps(translation, indent=2, ensure_ascii=False)\n",
    "    mylist.append(out)\n",
    "    \n",
    "\n",
    "#print(json.dumps(translation, indent=2, ensure_ascii=False))\n",
>>>>>>> latex
    "\n",
    "\n",
    "\n"
   ]
<<<<<<< HEAD
=======
  },
  {
   "cell_type": "code",
   "execution_count": 290,
   "metadata": {},
   "outputs": [],
   "source": [
    "# for i in range(56,57):\n",
    "#     translation = language_translator.translate(\n",
    "#     text=str(text.iloc[i]), model_id='ar-en').get_result()\n",
    "#     out = json.dumps(translation, indent=2, ensure_ascii=False)\n",
    "#     mylist.append(out)"
   ]
  },
  {
   "cell_type": "code",
   "execution_count": 298,
   "metadata": {},
   "outputs": [
    {
     "data": {
      "text/plain": [
       "['{\\n  \"translations\": [\\n    {\\n      \"translation\": \"Today, you see us on the ON channel 2, the Egyptian league games, to follow the goals, the news, the summaries, the studios, and the analysis.\"\\n    }\\n  ],\\n  \"word_count\": 17,\\n  \"character_count\": 121\\n}',\n",
       " '{\\n  \"translations\": [\\n    {\\n      \"translation\": \"Sangha asks Huawei about her favorite member of Big Bang! 5 hours. Writing a comment written by Shaked on the August 13 episode of \\\\\"Plex Take Care of My Refrigerator\\\\\", Huaasa revealed that she had been a big fan of the Big Bang band since middle school. She said, \\\\\"The first and last party I had had a Big Bang band.\\\\\" Sengri then asked her about her favorite member, and with a smile of shame she replied: \\\\\" I don\\'t like just one person. I love everybody.\\\\\" But Sengri continued to convince her to choose a member, and she said, \\\\\" Please don\\'t misunderstand me. I\\'m really forcing myself to choose a person. I think my favorite is Tawang.\\\\\" As Sangari isn\\'t the one who succumb quickly, he asked her about her favorite second member, with the fact that Tawang is currently married. The sisters of Huasa-je Dragon were chosen as the second member. The bright side was that she chose him as the third member, but Sangaroo did not seem satisfied and thanked her.\"\\n    }\\n  ],\\n  \"word_count\": 136,\\n  \"character_count\": 777\\n}',\n",
       " '{\\n  \"translations\": [\\n    {\\n      \"translation\": \"I mean, a biter that respected the state and my country was not respected by the people of God, let you let him enter the cage, so we would be disguisitely less of his literature.\"\\n    }\\n  ],\\n  \"word_count\": 19,\\n  \"character_count\": 111\\n}',\n",
       " '{\\n  \"translations\": [\\n    {\\n      \"translation\": \"Park Bom greet her fans as an artist from DNA for entertainment for the first time! 19 hours. Written through Toka on 15 August, images and videos of the artist Park Bom were published via the DN Account for official entertainment. A former 2NE1 member posted Sylvie\\'s photos and wrote: \\\\\"Official welcome ~\\\\\" A post shared by D-NATION Entertainment (@dnation_official) on Aug 14, 2018 at 2:54am PDT, as DN participated in a video entertainment for Park Baum where she was messing with her manager. A post shared by D-NATION Entertainment (@dnation_official) on Aug 15, 2018 at 2:55am PDT This is the first time that DN has shared publications for Park Bom. After seeing this, the fans think that her solo return will be a close uncle. Follow us for more updates on the start of the new Parm owl with D Nation for entertainment!\"\\n    }\\n  ],\\n  \"word_count\": 120,\\n  \"character_count\": 681\\n}',\n",
       " '{\\n  \"translations\": [\\n    {\\n      \"translation\": \"The formation of the teams of Arab FC and Arab Contractors to face them in the third round of the Dorrickeel team and Arab Contractors to face them in the third round of the league. Follow us to: On Instagram Twitter \"\\n    }\\n  ],\\n  \"word_count\": 29,\\n  \"character_count\": 188\\n}',\n",
       " '{\\n  \"translations\": [\\n    {\\n      \"translation\": \"Paralympic weightlifter Sherif Othman talks about how to get ready before the Paralympics, Sherif Othman talk about how to prepare before the competitions, part of today\\'s \\\\\"15th August\\\\\" episode of the \\\\\"Play-On\\\\\" program, in which the Arab Contractors Club matches the third round match of the Egyptian Premier League, and the coverage of the \\\\\"Football industry\\\\\" conference, and the meeting with the Minister of Youth and Sports about encouraging sports investment in the Egyptian clubs, and meeting the Egyptian heroes with the African Paralympic Championship to raise the African championship. Al-Athiya, and the beginning of the career of Egypt\\'s new coach Javier Agri with the Pharaohy, in preparation for the next game against Niger in the second round of qualifying for the African Cup of Nations. To watch more episodes: https://bit.ly/2McOzBO Subscribe to the official channel: http://bit.ly/ONSPORT. On the basis of all local and global sports events, the program consists of the main paragraph in which Kareem is hosting an elite speech from sports stars and experts to analyze everything on the scene from tournaments, matches, deals and statements both in Egypt and beyond. The program also includes a miscellaneous news item and a paragraph for the latest developments on the Suchal Midia, presented by Bilal Rizk, Marihan Amr, Amal Saleh and Enji Yahya. : Follow us on the On Sport Live Streaming:: FaceBook: Instagram: Twier:: \"\\n    }\\n  ],\\n  \"word_count\": 196,\\n  \"character_count\": 1232\\n}',\n",
       " '{\\n  \"translations\": [\\n    {\\n      \"translation\": \"Ismaili coach Amr Fahim talks about the formation of the team in front of the Al-Ismaili coach, Fahim, who is talking about the formation of the team in front of the Union on Friday, August 17, August 17, from the programme of #Stad_Egypt, which is presented by Al-Islamiya and Ismaili in the third round of the Egyptian Premier League match, which ended with the Egyptian Premier League winning results at 1-0, the analytic studio before the match and the discussion of the formation of the teams and the technical and arbitral analysis of the game, and the guests of the episode, as well as the guests of the episode: K. Walid Salah ad-Din. Muhammad, please. Mohamed Salah Abu Jaish To watch more episodes: http://bit.ly/Stad-Masr Subscribe to the official channel: http://bit.ly/ONSPORT, Egypt Stadium, a sports program that airs game days, analyzes the games directly and performance of the players and professional managers with a bouquet of sports analysis stars, in the hospitality of a number of media stars, led by senior media, Ahmed Shubir, media, Saif Zaher, Karim Khattab and Ibrahim Abdel-Jawad, and is shown on the ON Spurport during matches. Follow us on the On Sport Live Streaming:: Facebook: https: Instagram: https: Twitter: https: https: \"\\n    }\\n  ],\\n  \"word_count\": 161,\\n  \"character_count\": 1020\\n}',\n",
       " '{\\n  \"translations\": [\\n    {\\n      \"translation\": \"The Bikhone of EXO and the Rapper Logo reveal the title of their collaboration song + release date! 10 hours. The song will be titled \\'Young\\', and it is planned to be unveiled on 31 August at 6 p.m. Korea time through several Korean and global musical platforms. Cooperation will be issued under the STATION x 0 project. Are you excited about this historic collaboration? The writer, Bark Asala, is an Iraqi, Iraqi, studying medicine, starting my interest in Korean art since 2010, also interested in spreading Korean culture on social media sites. Translator, writer and responsible for the cultural section at the Kibuena site. Nikki Minaj thanks BTS for their support for her new album! On the Mosaisena website, Keppoena presented an Arabic content about Korean culture and art, which includes Korean pop, Korean drama, and general subjects about the Republic of Korea and its people. Contact usFor entries about K-Pop section you can send an e-mail via e-mail via a mail via a mail via a Korean cultural partition [emil protected] for copyright © 2014. Created by itgyp. Powered by itgyp.\"\\n    }\\n  ],\\n  \"word_count\": 161,\\n  \"character_count\": 1028\\n}',\n",
       " '{\\n  \"translations\": [\\n    {\\n      \"translation\": \"iPhone Screen Description A Saudi application will offer many technical, desktop and electronic options, and many other options for sale can be displayed and communicate with other advertising owners, bidder for the goods, or in general, to easily search for a particular product, to receive letters and notifications for the preferred goods of the application of the preferred goods, you can communicate with us through saudisales-support@ctit.awsapps.com, or through our Twitter account. https://twitter.com/saudi4sales?lang = en\"\\n    }\\n  ],\\n  \"word_count\": 71,\\n  \"character_count\": 513\\n}',\n",
       " '{\\n  \"translations\": [\\n    {\\n      \"translation\": \"Al-Ahli contracts the modification of the contracts of Azaro, Shennawi, Ajay, Maher, and Hamdya on-Ahly, and Ajay, Maher, and Hamdy, part of the episode of today, 19 August 2018, part of the episode of Al-Alam Al-Youm, which is attended by Amira Abd Al-Mohsen, a sports journalist in the Wafd newspaper, and in which he discussed with him a tour to the headlines of the Egyptian and world newspapers, and the National Ready for the Tigris Valley and the candidate names to succeed Hani Ramzy in Al-Ahli, and the return of France to the top of the FIFA category after 16 years. Watch the full episode: https://youtu.be/WjQx50Sp-HE Media Online: https://bit.ly/2O0Kl0I The Media ON Program is interested in the most prominent sports news and the World Cup, and reviews a tour of the most exclusive sports news on social networking sites Facebook Instangram Twitter \"\\n    }\\n  ],\\n  \"word_count\": 113,\\n  \"character_count\": 687\\n}',\n",
       " '{\\n  \"translations\": [\\n    {\\n      \"translation\": \"I want to draw a roadmap for the Egypt team, which is part of the episode of 19 August 2018 from the Media On Program presented by Amira Gamal, and in which the guest of the delegation, Kareem Abdul Mohsen, the sports journalist of Al-Wafd, discussed with him a tour of the headlines of the Egyptian and world newspapers, and the readiness of the community today to the Tigris Valley and the names of the candidate to succeed Hani Ramzy in Al-Ahli, and the return of France to the top of FIFA\\'s classification after 16 years. Watch the full episode: https://youtu.be/WjQx50Sp-HE Media Online: https://bit.ly/2O0Kl0I The Media ON Program is interested in the most prominent sports news and the World Cup, and reviews a tour of the most exclusive sports news on social networking sites Facebook Instangram Twitter \"\\n    }\\n  ],\\n  \"word_count\": 107,\\n  \"character_count\": 639\\n}',\n",
       " '{\\n  \"translations\": [\\n    {\\n      \"translation\": \"The schedule of the first round matches of the Italian league matches the first round matches of the Italian league, part of today\\'s episode, from the special coverage of 18 August 2018, by media Muhammad Al-Hamoudi, and talks about the control of the Italian clubs for everything until 2010, and then the start of the crisis, and the start of the crisis, and he hosted the schedule of the first round of the Italian league, and hosted the schedule of the first round of the Italian league. The worst in the Italian transfer market from his point of view and assessment of the Rome deals this season and a display of the size of the Italian Merca-League tunnels this year, the most prominent figures and the gains of Ronaldo\\'s joining Juventus. To see more special coverage of the game: http://bit.ly/TaghtyaKhasa-August Subscribe to the official channel: http://bit.ly/ONSPORT On Sport \\\\\" is an Egyptian sports channel broadcasting various Egyptian and international sports events broadcasting the most important sports channels such as Chelsea, Juventus Channel and Bayern TV, and the channel includes the brightest analysts and sports media professionals. Follow us on the On Spring Live Streaming | | Facebook | https: Instagram | https: Twitter | https://twitter.com/ONsportEg | https://www.ontveg.com\"\\n    }\\n  ],\\n  \"word_count\": 194,\\n  \"character_count\": 1211\\n}',\n",
       " '{\\n  \"translations\": [\\n    {\\n      \"translation\": \"Omar Abdullah: Mirkato Rome is good economically and in the long term, Abdullah: Mirkato Rome is good economically, and in the long run, part of today\\'s episode of private coverage from the channel of 18 August 2018, and talks about the control of the Italian clubs for everything until 2010, and then the start of the crisis and the beginning of the crisis at the beginning of the Italian League, and hosted by the technical analyst for the first round of the Italian league, and he hosts the schedule of the first round of the Italian league. Adel Saad talks about the best and worst of the Italian transfer market from his point of view and his assessment of the Rome deals this season and a display of the size of the Italian league\\'s spending this year and the most prominent figures and gains regarding Ronaldo\\'s joining Juventus. To see more special coverage of the game: http://bit.ly/TaghtyaKhasa-August Subscribe to the official channel: http://bit.ly/ONSPORT On Sport \\\\\" is an Egyptian sports channel broadcasting various Egyptian and international sports events broadcasting the most important sports channels such as Chelsea, Juventus Channel and Bayern TV, and the channel includes the brightest analysts and sports media professionals. Follow us on the On Spring Live Streaming | | Facebook | https: Instagram | https: Twitter | https://twitter.com/ONsportEg | https://www.ontveg.com\"\\n    }\\n  ],\\n  \"word_count\": 200,\\n  \"character_count\": 1237\\n}',\n",
       " '{\\n  \"translations\": [\\n    {\\n      \"translation\": \"Go7 to mark the Billboard Top 10 \\'for the most exciting rounds\\' after their legendary tour in the USA! 10 hours. He wrote through park Asala the Go7 squad proved and worthy of its global fame in the United States this summer! The boys\\' tour of the USA was ranked 9th for the Billboard Top 10 for the most exciting concerts, which rely on college ticket sales and the number of attendees. Goto has been selected with several global celebrities Katilur Swift, Journey and more. According to the Billboard Boxscore, the Got7 concert was held on July 6 in California. It got $1,303,154 U.S. dollars with a total of 9.600 fans. \\\\\"Although this is the first appearance of Got7 in the \\'most exciting round\\' scheme, they have appeared in the Billboard\\'s second charts in the past years,\\\\\" said Eric, who came in tenth place. In 2014, the band topped the Billboard World album chart, and entered the \\'Social 50\\' scheme for 51 weeks, and came second in April 2016.The \\\\\"The GOT7 World Tour on You\\\\\" will end in Hong Kong on August 24, but with the huge global fame that the Kibub has achieved recently, such as the ceremony that BTS members will hold at the Citi Field in New York. So we can expect Go7 to return on the road soon.\"\\n    }\\n  ],\\n  \"word_count\": 207,\\n  \"character_count\": 1245\\n}',\n",
       " '{\\n  \"translations\": [\\n    {\\n      \"translation\": \"Cooper, his problem is that he has no clear offensive sentences, which is not an offensive style, every night in the name of Salah, but the defense, Lord, we defend, as long as we don\\'t catch a korah, we will never find it like this.\"\\n    }\\n  ],\\n  \"word_count\": 30,\\n  \"character_count\": 153\\n}',\n",
       " '{\\n  \"translations\": [\\n    {\\n      \"translation\": \"We\\'ll be tempted to talk about his happiness and spending a lot of money in the past 15 hours. Written through Shehed on August 18th, Sengri joined the crew of the \\\\\"Salty Tour\\\\\" program as a guest during their trip to China. Before the start of the tour, Sengri said, \\\\\"I used to have very fancy parties, inviting many foreign guests and celebrity chefs, but I am trying to do the round modestly.\\\\\" Later during the day, Sangaroos looked sad because Park Na Ray had to sleep in the penal room because she had exceeded the budget by $3.42. He spent the night counting the budget and planning a proper tour of the budget. He admitted to Jung John Young saying, \\\\\" This is the hardest program I\\'ve participated in since my entertainment with Big Bang. If you don\\'t pay attention, that\\'s how you\\'ll be. I was surprised.\\\\\" In the morning, the tour began with a breakfast at a famous place for the city of Garus-Gill in Korea. A cup of coffee and a slice of cake cost $4.36. \\\\\"Coffee is really light,\\\\\" said Park Na Ray. The rest of the members complained about the amount of food. And to cheer them up, we were tempted to dance for them. When Sengre said that 4.47 (5,000 won) was expensive for coffee and candy. \\\\\"It\\'s the first time I see Sengri saying that 5,000 won is expensive,\\\\\" commented Jung John Young. \\\\\"While I was planning the tour and checking every order, I thought about the life I lived,\\\\\" Sgri said. During the interview, Sengri said: \\\\\" What I was thinking during photography was that I was happy with that amount of money, so what was all the money you spent so far? The worst is that after spending a lot of money, I was sometimes unhappy. I can certainly feel happy for small things. This made me look at my spending money in the past. I thought about a lot of things.\\\\\"\"\\n    }\\n  ],\\n  \"word_count\": 255,\\n  \"character_count\": 1467\\n}',\n",
       " '{\\n  \"translations\": [\\n    {\\n      \"translation\": \"The news is wrong. Please correct the information ... The match between Zamalek and the Union ... Al-Hilal apologized for the safety of Ahli as al-Ahli did not respond to the agreed date. I hope that on the online channel the news will be scrutinized before it is published.\"\\n    }\\n  ],\\n  \"word_count\": 34,\\n  \"character_count\": 197\\n}',\n",
       " '{\\n  \"translations\": [\\n    {\\n      \"translation\": \"Agiri: I am the first in charge of the players\\' choices: I am responsible for the choices of players in the team, part of the episode on Sunday, 19 August 2018, from the Egyptian League program, 2018-2019, from media player Saif Zaher and talk about his ambitions with the national team. He talks about his responsibility in choosing the players in the team and explaining whether he will play in the same way as Cooper or he will change them and explain the criteria that will be chosen by the players, and he will reveal the criteria that the players will choose, and clarify the criteria for playing games and also hosting Ahmed Naji talking about the guards. The closest to the next team camp and the attitude of Sharif tips, and Mohamed Omar, the Union coach, is talking about the atmosphere of the team of Alexandria and hosting Ahmed Suleiman, Osama Araqi and Issam Salem. To watch the full episode: https://youtu.be/Qq8mnMF1FDQ to see more of the Egyptian Premier League program 2018-2019: http://bit.ly/018-019 is an Egyptian sports channel that broadcasts various Egyptian and international sports events broadcasting the most important sports channels such as Chelsea, Juventus and Bayern, and the channel includes the brightest analysts and sports media professionals. | https://bit.ly/2pXZRQE YouTube | | Instagram | Twiner | | https://www.ontveg.com\"\\n    }\\n  ],\\n  \"word_count\": 173,\\n  \"character_count\": 1089\\n}',\n",
       " '{\\n  \"translations\": [\\n    {\\n      \"translation\": \"I am Zamalawi, and I was 100 % sure that you are impossible to be stupid, and you lose the audience. You consider him to be a big public base worker for two years after the trouble and tired of long and old, and sure we want to keep it.\"\\n    }\\n  ],\\n  \"word_count\": 34,\\n  \"character_count\": 182\\n}',\n",
       " '{\\n  \"translations\": [\\n    {\\n      \"translation\": \"\\'Station X 0\\' shares a cute video of a bikhone from EXO and Koko as a song for their next collaboration song \\'Young\\'! 16 hours. Writing a comment on the 20th of August, Pikhone and Loko fans with a cute video of their upcoming song \\'Young\\', as the new main tune for SM Station, are scheduled to be released on 31 August at 6 p.m. Korea time. In the video, the duo announced the exact date of the new song, Peckhun denied the reimaging and said, \\\\\"Well, that\\'s our concept.\\\\\" A post shared by STATION (@smdownstation) on Aug 20, 2018 at 1:00am PDT\"\\n    }\\n  ],\\n  \"word_count\": 82,\\n  \"character_count\": 506\\n}',\n",
       " '{\\n  \"translations\": [\\n    {\\n      \"translation\": \"Journalist Salah Muntaser, 84, presented his testimony in the era of Abdel Nasser in his recently published book \\\\\"Today\\'s Book\\\\\" under the title: \\\\\"My Testimony on the Age of Abdel Nasser.\\\\\" The years of victory and refraction, he denied that his testimony was hurt because he was not injured or victims of the July 25 revolution, where he did not take an inch of land and was not placed under guard, and did not stop his work with the press, which began his career in today\\'s News House in January 1953, just six months after the revolution. The movement had to have an acceptable face of reputable reputable to the army and citizens. It was also the rank of the most senior member of the Free Officers. Major General Mohammad Najib, who dropped the king\\'s candidate in the elections for the Free Officers Club, and his valiant role in the 1948 Palestine war, was chosen twice and this choice was good because it was accepted by all parties. Farouq abdicled to his son Ahmed Fuad from the throne quietly and without resistance. On Saturday, 26 July, 26 July, the boat of Ras El Tin in Alexandria left the case of Farouk, his wife Nariman and his son, Crown Prince Ahmed Fouad, and less than a year later, in particular on 18 June 1952, the monarchy was abolished and the republic declared. The constituent committee of the Free Officers, headed by Gamal Abdel Nasser, who took the first two revolutionary actions on Sept. 9, was formed 47 days after the first movement of the Agrarian Reform Law and the Second Law on the Organization of Parties, which was issued in one day. Nasser, along with fellow members of the Revolutionary Command Council, then fought a battle against President Najib, who accused him of taking power. He was also accused of having links to the Brotherhood\\'s plot in the Manchia incident, and was exempted from the presidency of the republic on 14 November 1954. Thus, Nasser became the head of power. He entered the battle for negotiations with the English, who were occupying the Canal area, and reached the Treaty of Eniglio of Egypt and the departure of the last British soldier on 18 June 1956, and then his battle against the pressure of America to enter the Baghdad Pact under the pretext of protecting the region from the communist danger. In his ruling on the popular forces, Nasser adopted the beginning of the Liberation Organization, then the National Union, which changed to the Socialist Union under the concept of collecting the categories of the people within one framework supporting the ruler, who is fighting the enemies of the revolution. As a result, political action has tended to support peasants and workers at the expense of the Afghans and intellectuals, which has led to the deterioration of the middle class, which over the years has protected Egypt\\'s values, arts and manners. Abdel Nasser\\'s first global appearance at the Bandung Conference in Indonesia in 1955, attended by leaders of 29 countries from Asia and Africa, was an opportunity for Nasser to meet popular leadership such as Indian leader Nehru and Chinese Prime Minister Xuan Lai and Indonesian President Sukarno. The participants in the conference represented more than half of the world\\'s population and represented the vigilance and cooperation of the peoples of Asia and Africa as a force against a world dominated by the Great Powers of America and the Soviet Union. In his view, the conference was an opportunity to promote the July Revolution, which did not emerge before the conference, through its six objectives: the eradication of colonialism, the eradication of monopoly and the control of capital, the eradication of feudalism, the establishment of a national army, the establishment of social justice, and the establishment of a democratic life. Who reviews history finds that the road to the June defeat started from the triple aggression on Egypt 1956 and then the unity with Syria 1958, which did not turn out for the project of development and then secession in 1961, since the Yemen war of 1962. Abdel Nasser made the decision to nationalize the Suez Canal in July 56 in response to the refusal of America and the World Bank to finance the High Dam, which gave Abdel Nasser a certificate of appreciation of millions over the decision. However, it was said that the decision of nationalization had no reason and that the channel would have returned to Egypt after 12 years according to its own agreement, but the nationalization was a moral, moral and psychological victory for millions of Egyptians in the face of the Great State. The victor of Syria was behind the decision of Egypt\\'s involvement in the Yemen war for five years, as a large number of our armed forces were martyred in a mountainous land and a guerrilla war, and the Egyptian army\\'s war was delayed and the Egyptian army manoeuvres retreated, and Egypt entered the June war without a shelter that would protect the Egyptian planes, because of the June war. The reason for the June war was to appease the people of Syria, and Israel was able to appease the people of Syria on 5 June during 3 hours, destroying 85 % of our weapons. The air, and once we came to the news that Israel had mobilized its forces on the Syrian front, confirmed that it was not correct 24 hours later, but the political leadership under the Syria complex decided to push the rest of our forces in Egypt, as if we were a superpower, to cross the channel to Sinai without having a clear mission based on attacking or defending, and for each of the two ways, plans and missions that did not exist. Thus, Egypt entered a war that was assumed by Israel and supported by America that we announced it while we were not ready for it, and its result changed the history of the conflict, and despite the October war, but the region is still paying the price. Despite the revolution\\'s desire to reform, it was sceptical of non-military, and reliance on them became \\\\\"people of trust\\\\\" in exchange for downplaying the people of experience. Nasser believed that political action and pluralism were impeding his social justice project, so he did not encourage free thinking and called the descriptions of the enemies of the revolution, the reactionary, and other qualities that had an impact on the thought of millions of people, so that he seemed to gain money. He is a thief who is sucking the blood of the people, thinking about the shadow of the day. However, he registered to Nasser that he faced the defeat of June with serious work in rebuilding the armed forces, which achieved the October victory later. Nor did he live up to his country, he helped other countries in their legitimate fight against colonialism. Most African countries witnessed Nasser\\'s role in liberating them. He also has his personality strength through his charisma, charisma and charisma. On 28 September 1970, his funeral witnessed millions of people who did not believe that he could die like all human beings and imagine that life ended as it remained until God had inherited the earth and the rest of it.\"\\n    }\\n  ],\\n  \"word_count\": 927,\\n  \"character_count\": 5241\\n}',\n",
       " '{\\n  \"translations\": [\\n    {\\n      \"translation\": \"My knowledge is Abdullah Al-Nadeem. Knight of the newspaper article Abdullah Al-Nadeem. Faris, the journalist of the newspaper, writes-Khalid on my day, known as Abdullah Al-Nadeem (1845-1896) in the \\\\\"Fiancé of the Iraqi Revolution\\\\\", the author of the \\\\\"Tinket Revolution\\\\\", the first of which was published on 6 June 1881, which was described by the Nadeem as a literary newspaper, which followed us with judgment, dabs, serendities, and the benefits of the funny ones. Al-Nadeem participated in the Egyptian Army Revolution, the first to join the military formations of civilians, and was chosen by the leader of the revolution, Ahmed Araqi, to talk about the corrupt situation and the foreign influence, and he was critical of the Khadio Pasha, and in this regard, Nadim said, \\\\\" I declare the love of the ministry, and I condemn the tyranny in the country, and I condemn the tyranny of the country, and I condemn the tyranny of the ministry, and I condemn the darkness of the rulers, and I do not know them, and I do not know them except with the ignorance of the myths, and I do not care for them, and I do not care for them, and they do not care for them, and they fill the forums. When Kromer worked to foment sedition between the Copts and Muslims from the sons of Egypt, he was the first to confront him and the fact that many of the associations that included Muslim and Christian religious figures and intellectuals from Muslims and Copts began to spread the spirit of unity among the people of the Egyptian people to resist the sedition, which he tried to inflame the head of the English colonizer, and it was natural that he was angry at the head of the English colonizer, and the decision to exile him was once again to be away from Egypt because of the spirit of resistance and the struggle that he was broadcasting in the Egyptians. In Jaffa, Nadeem attacks the Ottoman Sultan, he is expelled and he goes to Astana and there is a meeting with the beauty of the Afghan religion to begin another journey of struggle and struggle. He wrote his famous book \\\\\"The Spikes\\\\\" in which he replied to what he said and written by the pharmacists who attacked Egypt hard, and because of this book, which was heavily attacked by the high door and the Ottoman authority, the prison nebula was deposited, but he was still sticking to the resistance as he was running away from prison to publish in the \\\\\"Brigade\\\\\" and \\\\\"Professor\\\\\", the most important newspapers in Egypt at the time. Dr. Abdullatif Hamza, in his book published recently by the General Authority, reveals to us the lack of culture under the title of the \\\\\"Literature of the Press article\\\\\". He states that the professor\\'s magazine, which witnessed the death of Nadeem, and calmness following the incidents of the Iraqi revolution, has assumed the defense of the East against the delusions of the West, and for the East to wake up from its sleep and catch up with the West, which is far ahead of civilization and progress. In the first number 34, April 11, 1893, Al-Nadeem wrote an article about the relationship between the East and the West with enthusiasm, and the reader feels that he is a powerful wrestler who threw himself in a field, all of which are strong heroes. Al-Nadeem was forming a popular rally for the revolution, and he was the link between the leaders of the military revolution and those broad civil masses, and he worked to collect the popular signatures, which, Ahmed Araqi, represented the Egyptian people in front of the late Egyptian ruler, and Al-Nadeem, who visited villages, and Al-Kafur, and he was speaking at the top of his voice, using the gift of the feat that was given to him by God, and he was famous among the people for his speech, and he was famous among the people, and he was famous among the people, and he listened to his speeches and talk to him. Nadeem points to some of the paid pens, religious, scientific and industrial associations attributed to the Europeans and the spread of these associations in the East, and they have corrupted the relationship between the East and the West. If the East and the Europeans were left to enjoy the fruit of the mixtures, they were able to enjoy the fruit of love, and what led them to love and spoil the intentions and spoil the intentions of those writers who won the East and the West, and they saw the lies on it. If you were like us, we would have done the word of Europe, which is frequented by the names of the East, whenever it truly does, the royal colonization, or religious spread, and the copyright between the religious and property forces, so I made the first ambassador, the Safir, and the second is a executioner. He added every European king to the title of the King\\'s protection of religion. He says in his address to the king or emperor as well as the Christian religion. The nebula responds to the first charge that Europe has attached to the east, which is a charge of the \\\\\"delay\\\\\", and the nebula responds that it is the Europeans who wanted it to the east until it becomes a bank of their goods. The second charge is that the ethics of the East and its faith are one of the reasons for its delay. However, the East has been called upon to say this. They have committed a lot of taboos, imitating them to Europeans, not more or less. In this regard, Al-Nadeem says, \\\\\"By doing so, those who are not in these positions and scandals are neither eastern nor Western, and Europe has taken the means to implement its opinions and reach its destinations from the east.\\\\\" Is the East in desperate need of Western intervention? This argument is used by the West to colonize the East, and shows how the kings of the East themselves feared the people of the Lord, Baron, Count, etc., and did not try to promote the nation and raise it on the diet and defend the country\\'s rights. It did not return it with the useful or guiding newspapers in this way, and took the nebula balance between the European and its self-interest and its country on the one hand, and its country on the one hand, and its fears of the European danger on the other hand. Defending the Ottoman Empire defends the Ottoman Empire, he says, \\\\\"If this is a Christian religion, it is an Islamic state between eight Christian countries, and every country is a chant in a piece it occupies in the name of preserving its borders.\\\\\" But the religious hetero called for many of its kingdoms to be removed from their obedience. The Ottoman Empire blames the Ottoman Empire for giving the railway a commitment to the Europeans, who found it a way to intervene in the affairs of East Nations. For the body, the railway is one of the greatest ills Europe will take to intervene in the name of protecting the property of its followers. Al-Nadeem adds, \\\\\"We see many of the morons who have statesmanship in the name of Europe. They remind them of the power, lack of foresight, mismanagement, and the cruelty of rulers, and if they turn to say that they are the most steadfast, the best of them, and their best determination, they are at a point where the enemy of Europe is aggressive.\\\\\" Al-Nadeem reveals the means of the Europeans to seize the east on the pretext of reform and civil deployment, as France did in Tunisia and Algeria, where they had a law that violated Islamic law. It took judges subordinate to them to implement it. Russia also entered Maru, Herat and Bukhara under the pretext of protecting them from its enemies. She turned her into markets for the discharge of her goods. Her language was published there to execute the languages of death by death of religion, diet and national jealousy. England also entered Egypt by calling its people, on the basis of the support of the honorable center, and the formation of a stable government along the lines of the governments of Europe. It has done its best in improving and organizing by its discretion, and has not found the unears of Samah and the working hands. They also pushed the Egyptians away from service and shoved strangers into interests so that thousands of Egyptians could not find sustenance. They also played down Egyptian students in their schools and more than the use of foreigners in them. The nebula has poured blame on the Egyptians; their princes are mired in fun and luxury, and their minds are silent, and their exectation or intellectuals are not exposed to religion or politics. The Nebula does not direct the criticism of Europeans, saying, \\\\\" I do not blame the Europeans for this, they seek in their interests and the expansion of their kingdoms and their trade. The East sees them know for great works in their country, and they look at them with the view of the singer from death, and they do not move to match them or to stop the tide of their interference. They see them as robbing their hopes and loyalty work, and they are broken in their clothes, and they are not in their clothes, and they hear loud voices in their absence. They show them the voices of people who are keen on glory and honor. If they go to the roads, they will get their hands on their hands, and they are in their hands, and they are in their hands as the spoils of the spoils that are left to the sheds.\\\\\" Due to health conditions, or most likely political, to leave Egypt, and to the paradox of the newspaper in which he made his spelling, she was well exposed to his ideas and opinions. On the third of June, 1893, the Nadeem, in a speech entitled \\\\\"Salute and Peace\\\\\", invited the readers to thank the readers for their good care and demand for it. He told them that he had withstood a range of charges against him, including religious intolerance, and that he was a revolutionary editor, and that he had advised the actions of the Europeans, and thanked the newspapers that defended him against such charges as the pro-Al-Ahram newspaper, Al-Watan newspaper, and some foreign newspapers in Egypt and Europe. He concludes his article by saying, \\\\\"I would have if I had lasted my plate, but I had a weakness in it, and all the doctors referred to the change of air outside the Egyptian radius.\\\\\"\"\\n    }\\n  ],\\n  \"word_count\": 1232,\\n  \"character_count\": 7400\\n}',\n",
       " '{\\n  \"translations\": [\\n    {\\n      \"translation\": \"Ahmed Ezz: The main reason for their criticism in the Egyptian league is \\\\\"Physical Force Teams\\\\\" Ahmed Ezz: The foreign attackers are the main reason for their assignment in the Egyptian league. \\\\\"The Physical Force Teams\\\\\" is part of the \\\\\"20 August 2018\\\\\" episode of the Egyptian-League program, which is presented by senior media Captain Ahmed Shubir, with analysis of the Egyptian football news and the Egyptian League News 2018-2019, and the performance of Zamalek and his league matches with Coach Gross, and the performance of al-Ahli and his league matches with Coach Carteron, and discussing the physical strength of the foreign attackers, and he is discussing the physical strength of the foreign attackers. The main reason for their assignment in the Egyptian league, the review of public theory in the selection of the foreign coach about the Egyptian coach, and the comment on the appointment of the federation of the ball. Hani Ramzy is the general coach of the Egyptian national team under the leadership of Mexico, Javier Agri, and the intervention of artist Yasser Galal and his response to the rumors about his power to some Egyptian clubs and the guests of the episode: K. Amr Anwar and artistic analyst Ahmed Ezz ok. Khalid Jalal. To watch more episodes: http://bit.ly/018-019 Subscribe to the official channel: http://bit.ly/ONSPORT. The Egyptian League program is a sports program presented by Captain Saif Zaher and Captain Ahmed Shubir, and an elite of Egyptian football analysts, with an analysis of the Egyptian league games 2018-2019, and the performance of the players and technical managers: Follow us on the On. \"\\n    }\\n  ],\\n  \"word_count\": 195,\\n  \"character_count\": 1199\\n}',\n",
       " '{\\n  \"translations\": [\\n    {\\n      \"translation\": \"The artist Yasser Galal goes out of his silence and clarifies the rumors about his power to some Egyptian clubs, Yasser Jalal, who comes out of his silence and clarifies the rumors about his power to some Egyptian clubs, part of the episode of \\\\\"August 20, 2018\\\\\" from the Egyptian Football League program, \\\\\"August 20, 2018\\\\\". It is presented by senior media Captain Ahmed Shubir, in which the Egyptian football news, the Egyptian League News, and the Egyptian Premier League, performance and league games with Coach Gross, and the performance of Al-Ahli and his matches in the league with Coach Carteron, and discussing the physical strength of the foreign attackers, which is the main reason. Their revenge in the Egyptian league, the review of public theory in the selection of the foreign coach about the Egyptian coach, and the comment on the appointment of the federation of the ball. Hani Ramzy is the general coach of the Egyptian national team under the leadership of Mexico, Javier Agri, and the intervention of artist Yasser Galal and his response to the rumors about his power to some Egyptian clubs and the guests of the episode: K. Amr Anwar and artistic analyst Ahmed Ezz ok. Khalid Jalal. To watch more episodes: http://bit.ly/018-019 Subscribe to the official channel: http://bit.ly/ONSPORT. The Egyptian League program is a sports program presented by Captain Saif Zaher and Captain Ahmed Shubir, and an elite of Egyptian football analysts, with an analysis of the Egyptian league games 2018-2019, and the performance of the players and technical managers: Follow us on the On. \"\\n    }\\n  ],\\n  \"word_count\": 193,\\n  \"character_count\": 1181\\n}',\n",
       " '{\\n  \"translations\": [\\n    {\\n      \"translation\": \"Bikhone and Loko share a new thrill video in preparation for a return with \\'YOUNG\\'! 10 hours. Written by park Asala The list of Pixon and Loko revealed a new video behind the scenes of their cooperative track \\\\\"YOUNG\\\\\"! In the clip, Loko and Bichone shared how they have never tried a song like this before. While Peckhuon revealed that he agreed to this cooperation immediately when he heard that he would be with Loko. Asking the release on 31 August .A post shared by STATION (@smtedownstation) on Aug 22, 2018 at 2:00am PDT as previously revealed as an attractive image of a bikinon:\"\\n    }\\n  ],\\n  \"word_count\": 87,\\n  \"character_count\": 488\\n}',\n",
       " '{\\n  \"translations\": [\\n    {\\n      \"translation\": \"Kareem Hafez. Ali Ghazal. Ramadan is my prayer. Abdul Shafi. -Allan. Sam Morsi. Cook. They don\\'t have any right to join the Egypt team. Mohamed Hamdi Nasser Maher. Good to collect. Salah Mohsen. Ayman Ashraf. Happy Omar. You should give them a full chance.\"\\n    }\\n  ],\\n  \"word_count\": 49,\\n  \"character_count\": 211\\n}',\n",
       " '{\\n  \"translations\": [\\n    {\\n      \"translation\": \"Fmr. Atttorney General: Trap loks weeping the SessionsFormer attorney general under President George W. Push Alberto Gonsales Days at President Trap\\'s Atttors on General Jeff Versions of the Department of the Department of Justice.\"\\n    }\\n  ],\\n  \"word_count\": 32,\\n  \"character_count\": 233\\n}',\n",
       " '{\\n  \"translations\": [\\n    {\\n      \"translation\": \"BTS Squad tops all current master plans with \\'IDOL\\'! 7 hours. Written through park Asala on 24 August at 6 p.m. Korea Time, BTS released the recycled album \\\\\"Love Yourself: Answer\\\\\" with the song President \\'IDOL\\'. Shortly after, the song became the first in a number of current time charts. At 8 p.m., the song took first place in the six major charts in Korea, including: Melon, Genie, Bugs, Mnet, Naver, and Sorbada. The second songs of the album topped the charts, where the song \\'Euphoria\\' came in second and the song \\'I\\'m Fine\\' was ranked third in the Mellon chart.\"\\n    }\\n  ],\\n  \"word_count\": 99,\\n  \"character_count\": 613\\n}',\n",
       " '{\\n  \"translations\": [\\n    {\\n      \"translation\": \"Mukhtar Mokhtar: The Piramiddes team performs well in the league this season, selected: The Piramidds team is doing well in the league this season. \\\\\"23 August 2018\\\\\" from the Egyptian 2018-2019 episode of the Egyptian Football League and the Egyptian Football League, and the Egyptian Premier League, which ended with the Ahli 1-0 victory, the club\\'s new policy in the Egyptian Premier League, and the performance of the Biramidds team in the Egyptian Premier League, and a special dialogue with Hani Ramzy, the general coach of the Egyptian and modern national team. On the Egypt team and the formation of the team under the leadership of Javier Aguirre, a crisis in guarding the team\\'s goal and a professional list for the Egypt team to face Niger in the second round of the African Cup of Nations qualifiers. http://bit.ly/018-019 Egyptian Premier League (http://bit.ly/018-019) is a sports program presented by Captain Saif Zaher and Captain Ahmed Shubert and an elite team of Egyptian football analysts and an analysis of the Egyptian league games 2018-2019. \"\\n    }\\n  ],\\n  \"word_count\": 147,\\n  \"character_count\": 864\\n}',\n",
       " '{\\n  \"translations\": [\\n    {\\n      \"translation\": \"Numbers, stats, and comparison between Arab Contractors Club, Enbiardone, and statistics and comparison between Arab Contractors Club and Enby, part of the episode of today 24 August 2018 from the programme of #Stad_Egypt, presented by Kareem Khattab and in which a direct analysis of the match of Arab Contractors and Enppi in the Egyptian league in hosting the sports analyst Abu Griesha, Walid Salah ad-Din and Adel Mustafa. To watch more episodes: https://bit.ly/2OUwLN1 Subscribe to the official channel: http://bit.ly/ONSPORT, Egypt Stadium, a sports program that airs game days, analyzes the games directly and performance of the players and professional managers with a bouquet of sports analysis stars, in the hospitality of a number of media stars, led by senior media, Ahmed Shubir, media, Saif Zaher, Karim Khattab and Ibrahim Abdel-Jawad, and is shown on the ON Spurport during matches. : Follow us on the On Sport Live Streaming:: FaceBook: https:: https: \"\\n    }\\n  ],\\n  \"word_count\": 121,\\n  \"character_count\": 762\\n}',\n",
       " '{\\n  \"translations\": [\\n    {\\n      \"translation\": \"Zamalek announce the readiness of Mustafa Fathi and Ayman Hefni to fight the match against Al-Njoumalek, announcing the readiness of Mustafa Fathi and Ayman Hefni, part of the episode of \\\\\"23rd August 2018\\\\\" from the Egyptian 2018-2019 episode of the Egyptian Football League and the Egyptian Football League, which ended in the Egyptian league championship, which ended with the National Club winning 1-0 this season, the club\\'s new policy in the Egyptian Premier League, and a special dialogue with Hani Ramzy, the general coach of the national team. Egypt is talking about the Egypt team and the formation of the team under the leadership of Javier Aguirre and a crisis in guarding the team\\'s goal and the professional list of the Egypt team to face the Niger in the second round of the African Cup of Nations qualifiers. http://bit.ly/018-019 Egyptian Premier League (http://bit.ly/018-019) is a sports program presented by Captain Saif Zaher and Captain Ahmed Shubert and an elite team of Egyptian football analysts and an analysis of the Egyptian league games 2018-2019. \"\\n    }\\n  ],\\n  \"word_count\": 147,\\n  \"character_count\": 876\\n}',\n",
       " '{\\n  \"translations\": [\\n    {\\n      \"translation\": \"It is goat to see the guest of the trp that is not to be accepted and at the American American demand and open government, working for the people, not for the top 1 % only, whiche is what is trump as the one. Dissing to have a disc as head of government in office for one single oment! A read time for America.\"\\n    }\\n  ],\\n  \"word_count\": 63,\\n  \"character_count\": 329\\n}',\n",
       " '{\\n  \"translations\": [\\n    {\\n      \"translation\": \"BTS band and with its huge popularity sweep the global iTunes charts for a huge number of countries around the world with the new album and its songs! Nine hours. \\\\\"Love Yourself: The Answer\\\\\" was written on 24 August, and shortly after a very short period, the album was released on 24 August, including the United States, Canada, Japan, the United Kingdom and Brazil. At 9 a.m. on 25 August, the song \\\\\"IDOL\\\\\" topped the iTunes song for songs in 66 countries, including the United States, the United Kingdom and Canada. The song \\\\\"IDOL\\\\\" in collaboration with Nicki Minaj topped the charts in nine different regions. They did not only issue the chart of songs in the United States of America, but they occupied the first mattress with other songs. At 9 a.m. Korean time, the first ten mattresses were all BTS. And the other songs came in the 50th mattress of the chart. Congrats to BTS on their great achievement!\"\\n    }\\n  ],\\n  \"word_count\": 146,\\n  \"character_count\": 910\\n}',\n",
       " '{\\n  \"translations\": [\\n    {\\n      \"translation\": \"Thank God for the grace of the mind, because of this, in Port Said, on the basis of injustice, because of injustice, and we were surprised to hear the famous sentences of al-Ahli, if Israel is to encourage Israel. We know why the camel is really moving, and God, if the Ahli, Israel, will encourage Israel.\"\\n    }\\n  ],\\n  \"word_count\": 41,\\n  \"character_count\": 236\\n}',\n",
       " '{\\n  \"translations\": [\\n    {\\n      \"translation\": \"You know about the statistics of the Egyptian team and the Alexandria Union with Ahmed Khairrif on the statistics of the Egyptian team and the Alexandria Union with Ahmed Khairy, part of today\\'s \\\\\"25th August 2018\\\\\" episode of the \\\\\"Stadad\\\\\" program, which is presented by the Egyptian media, Saif Zaher, with a direct analysis of the Egyptian match and the Alexandria Union as part of the fourth round of the Mamluz league, which ended in a 2-2 draw, and the statistics of the Egyptian team and the Alexandria federation, the Egyptian league standings, 2018/2019, and the guests of the episode as well as the guests of the episode. Ayman Younis, Amr al-Dsuki and Mohamed Salah Abreqisha. To watch more episodes, https://bit.ly/2OUwLN1 will host a sports program that will broadcast the match days, and the performance of the players and professional managers with a bunch of sports analysis stars, in the hospitality of a number of media stars, led by senior media, Ahmed Shubir, media, Saif Zaher, Kareem Khattab and Ibrahim Abdel-Jawad, and is shown on the ON Spurport during the games. : https://bit.ly/2pXZRQE YouTube: FaceBook:: https://www.ontveg.com\"\\n    }\\n  ],\\n  \"word_count\": 136,\\n  \"character_count\": 884\\n}',\n",
       " '{\\n  \"translations\": [\\n    {\\n      \"translation\": \"The atmosphere and cues before the Egyptian match and the Alexandria Union in the fourth round of the 2018-2018 round of the Egyptian match and the meeting, part of the fourth round of the 2018-2018 round, part of the episode of \\\\\"25th August 2018\\\\\", part of the episode of \\\\\"25th August 2018\\\\\" from the \\\\\"August 25 2018\\\\\" episode of the programme, which is presented by the media, with a direct analysis of the match between Egypt and Al-Ittihad, which ended in the fourth round, which ended in a 2-2 draw, and the statistics of the Egyptian team and the Alexandria federation, the Egyptian league standings, 2018/2019, and the guests of the episode as well as the guests of the episode. Ayman Younis, Amr al-Dsuki and Mohamed Salah Abreqisha. To watch more episodes: https://bit.ly/2OUwLN1 Subscribe to the official channel: http://bit.ly/ONSPORT, Egypt Stadium, a sports program that airs game days, analyzes the games directly and performance of the players and professional managers with a bouquet of sports analysis stars, in the hospitality of a number of media stars, led by senior media, Ahmed Shubir, media, Saif Zaher, Karim Khattab and Ibrahim Abdel-Jawad, and is shown on the ON Spurport during matches. Follow us on the On: \"\\n    }\\n  ],\\n  \"word_count\": 142,\\n  \"character_count\": 938\\n}',\n",
       " '{\\n  \"translations\": [\\n    {\\n      \"translation\": \"You know the secret of spraying the gospel prior to any match of the national team or the Zamalek team, before any match of the National or Zamalek team, part of the episode of today, August 24, 2018, by the media, Ahmed Shubir and Kareem Khattab, and in the fourth round of the Egyptian league, which ended with the victory of the Arab Contractors and Enppi in the fourth round of the Egyptian league, which ended with the victory of al-Ahli 2-0, the Al-Ahli and the border guards, which ended with the victory of al-Ahli 2-0, and the review of the Egyptian league standings of 2018/2019, and the guests of the episode: Sports analyst Abu Grishka Kok. Walid Salah ad-Din and Adel Mustafa Wook. Taha Ismail Locke. Emad tired. To watch more episodes: https://bit.ly/2OUwLN1 Subscribe to the official channel: http://bit.ly/ONSPORT, Egypt Stadium, a sports program that airs game days, analyzes the games directly and performance of the players and professional managers with a bouquet of sports analysis stars, in the hospitality of a number of media stars, led by senior media, Ahmed Shubir, media, Saif Zaher, Karim Khattab and Ibrahim Abdel-Jawad, and is shown on the ON Spurport during matches. Follow us on the On: \"\\n    }\\n  ],\\n  \"word_count\": 159,\\n  \"character_count\": 934\\n}',\n",
       " '{\\n  \"translations\": [\\n    {\\n      \"translation\": \"14 August, 2018 4:46 M 3 hours ago, 10 minutes ago Best look at Toyota Land Cruiser 2020 Next Generation A box .Based on the recent news from a Japanese magazine, artist Shuaib Kalanya created a design that reveals the Toyota Land Cruiser 2020 .The next generation doesn\\'t look radically different than the current model, as lamps, bumps, and netsage will get redesign. Otherwise, differences seem limited, and are expected to be a Japanese off-road road car that must remain loyal to its successive generations. Land Cruiser will increase in size by 4.95 meters, 1.98 meters wide, 1.9m, and the engine will be 1.92 meters wide, 1.92 meters wide, and 1.92 meters wide, in addition to the version of 8 Snr. The safety and communication of Toyota included wireless charging, a vertical display screen showing the most important information in the windshield, a pre-collision alert, a pedestrian detection, a heat departure alert, and a stay assistant in the next year or the following year, and as its price starts from 183,540 riyals by model 2018 in Saudi Arabia, it could rise by 5 % to the range of 185,000 riyals by model 2020.\"\\n    }\\n  ],\\n  \"word_count\": 230,\\n  \"character_count\": 1364\\n}',\n",
       " '{\\n  \"translations\": [\\n    {\\n      \"translation\": \"August 15, 2018 5:30 PM-27 minutes ago the gravity of ABS lighting and how to detect the cause of the failure of the ABS brake system, is designed to prevent the release of the ABS brakes in the shortest possible distance, and the system may be exposed to the safety of the car, and the system may be exposed to the problem before it gets worse. Fans sound at the brake oil level and whether there is a decrease or not, where the oil level must be in the brake pack between the Min and Max.3-if the brake fluid level is correct, check the car computer error, and then unplug the battery cable from the car. If these steps fail and do not shut down the ABS, a specialist is required to inspect the vehicle to verify the safety of the wires and the wiring of the ABS sensors, or to clean or change the sensitive ones. Current news\"\\n    }\\n  ],\\n  \"word_count\": 182,\\n  \"character_count\": 1010\\n}',\n",
       " '{\\n  \"translations\": [\\n    {\\n      \"translation\": \"August 18, 2018-12:00 Since 9 hours ago, 16 minutes Hyundai ionic 2020 appears in the new form while testing A A A square, following the receipt of Hyundai ionic 2019 for new safety regulations such as automatic suppression of emergency and intelligent control in the next year, the image of the car with a density of new updates has been taken next year. In addition to new air vents, we see new air vents and new backlights, and while we have not seen pictures of the car\\'s interior, it is expected that the model will be received for performance improvements as the current power generators and batteries are constantly evolving, but there is no official confirmation yet. Ionika Hycool with the electric plug will come with the same engine, but with a more powerful electric motor and a larger ion battery pack, which means the possibility of walking for only 46 kilometers without using a drop of gasoline, with total power remaining at 139. Finally, the electrical electronic version gives up the oil engines completely to use an electric motor with 118 horsepower and a total of 295 newton torque, with a net electric route up to 200 kilometers. Current news\"\\n    }\\n  ],\\n  \"word_count\": 231,\\n  \"character_count\": 1448\\n}',\n",
       " '{\\n  \"translations\": [\\n    {\\n      \"translation\": \"19 August, 2018 6:15, 17 hours ago, 52 minutes. How do you choose the right car seat? A A A box is among all the factors on which buyers build their decision to buy a new car, one of which is not comfortable, but for drivers who suffer from back pain and often drive long distances, they must also focus on the rest of the seats and support them for the back, and while finding the right seat may be a difficult task, we will give you a few tips that may make it easier to put it into the seat. Car, it\\'s one of the main factors in comfort levels that you\\'ll get, for example, sports cars usually have a low position, which increases pressure on the back, and so does some sedan and carcess, so you have to choose a more straight shape than a straight seat, so that it increases the stress on the back seat, and reduces the pressure on the back by evenly distributing it to the lower seat cushion, and finally, the longer seats also allow the easy seats to go out and get in the car. Support under this function. Feature for driver seats, where they can comfort people who suffer back pain, is always available as a choice even in cheaper cars, although they usually come as part of an optional package or higher class, and the lower back usually comes with some ability to modify it, as the base version provides increased support to the lower back area manually, while the most expensive cars provide an additional advantage to provide a comfortable drive, while the most expensive drivers need to have a deeper, lower, and lower end of the back, and the most luxe, and more luxe-capable. For modification, additional support to the driver\\'s thighs increases comfort, especially for long distances, and this feature is also present in many cars at different prices. The advantages of the other seat are more customizable, so while the seat adjustable is easier to find, there are usually no more comfortable seating, so there are not many manual seats normally except for sports cars, in addition to the coming of some electric seats with a memory feature for different preparations, which would be useful. The test of driving experience is the only way to know if the driving experience is the only way to buy it for your convenience, so it\\'s preferred to have a long driving experience for 20 to 30 minutes, so to make sure that you don\\'t feel any pain in the back, and show your interest in the convenience of the sales officer for time, so you know which cars with comfortable seats are available within your own budget. Current news\"\\n    }\\n  ],\\n  \"word_count\": 435,\\n  \"character_count\": 2610\\n}',\n",
       " '{\\n  \"translations\": [\\n    {\\n      \"translation\": \"19 August, 2018 5:30 PM, 10 hours ago, 31 minutes for an oil bulb showing up and disappearing? We have 6 reasons for that A A A box-some drivers may encounter a problem, which is a repeat of the engine oil and its disappearance, which means that the oil does not reach all parts of the engine, which means that the oil does not reach all parts of the engine, which causes the oil to be reduced to all parts of the engine, which is causing the engine to drop oil pressure. If the oil level in the engine increases the amount of oil pressure, poor maintenance may lead to the accumulation of sediment in the engine, and the lack of oil change for long periods increases the oil in the engine, which prevents the oil from reaching the engine parts, which causes the pressure sensor to be damaged, causing the sensor to have a problem with the engine, which causes the engine to light the engine, which is causing damage to the engine, which causes the oil pump to be damaged or caused to cause the problem. Current news\"\\n    }\\n  ],\\n  \"word_count\": 197,\\n  \"character_count\": 1098\\n}',\n",
       " '{\\n  \"translations\": [\\n    {\\n      \"translation\": \"20 August, 2018 5:15, 8 hours ago, 25 minutes. How do airplane toilets work? A square-there are many things that we ask a lot about how they work, and one of them is the method of working toilets on airplanes, which started appearing in modern airplanes in the 1970s, so let\\'s get to know how it works. The system of modern aircraft is based on what is known as the Kember vacuum system, which first appeared on board a Boeing flight in 1982, when the system is based on a blue liquid with a blue liquid name with a vacuum cleaner and a vacuum cleaner. The contents of the toilet with the blue liquid into a closed waste system. At the end of the flight, the contents of the toilet\\'s closed waste system are dumped into a tank in the back of a truck at an airport, and once that tank is full, it is disposed of with the rest of the airport\\'s waste. Current news\"\\n    }\\n  ],\\n  \"word_count\": 148,\\n  \"character_count\": 823\\n}',\n",
       " '{\\n  \"translations\": [\\n    {\\n      \"translation\": \"2. Many reports and news circulating that Saudi Arabia intends to invest in the Lucid Motors for electric cars worth up to $1 billion. This news comes a few days after Saudi Arabia took over a 5 % stake in Tesla at $2.9 billion. On the other hand, many followers and experts expect that Lucid Motors is the next strongest competitor for Tesla, let alone the great tendency of electric cars around the world. It has two years ago under the name Lucid Air, which comes with two engines producing a force greater than 900 horsepower.\"\\n    }\\n  ],\\n  \"word_count\": 99,\\n  \"character_count\": 590\\n}',\n",
       " '{\\n  \"translations\": [\\n    {\\n      \"translation\": \"27 August, 2018 3:06 M 1 hour ago, 21 minutes \\\\\"video\\\\\" whale surprised a number of tourists on a boat in Alaska A A Mahi is the right car in your view of the price and economy and specs for this year? In a video this week about the square, the square site has been launched since 2002, providing the latest news of cars and general information about cars and engines, and every new car in the car world, from specifications to cars, visiting exhibitions, and presenting new experiences and videos every day and directly. Common search words\"\\n    }\\n  ],\\n  \"word_count\": 78,\\n  \"character_count\": 445\\n}',\n",
       " '{\\n  \"translations\": [\\n    {\\n      \"translation\": \" Ferrari 488 Bista Spider officially unveiled three days ago: Ferrari 488 Besta was not expected to provide the same excitement as the Besta Beach, but as with Besta 488 Kubeh, with the pleasure of the exposed Besta 488, with the pleasure of the exposed V8 engine, with the pleasure of the exposed V8 engine, with the strength of the V8, with an impressive capacity of 711 liters and 770 meters of torque, which allows a spectacular acceleration of 711 km, and it can achieve an impressive rate of 200 km/s in only 2.85 seconds. 488 Besta comes at the weight of 1.377kg, an increase of 91 kg compared to the Koppe version, but remains a light vehicle with the same test as the version of the coupe, with a unique design in the version of a coupe with a white color with a unique design blue. The Fiesta 488 Spider has maintained the same aerodynamic additives and the design changes of the Besta 488 Coupe compared to the standard 488 GTB, where the most important of these changes include a larger cap and a large air vent, as well as a larger backwing, separated from carbon fibre and a double-look, which is not yet known for the model price, although it will be limited to the model price of carbon fibre and a double-appearance.\"\\n    }\\n  ],\\n  \"word_count\": 278,\\n  \"character_count\": 1522\\n}',\n",
       " '{\\n  \"translations\": [\\n    {\\n      \"translation\": \"28 August, 2018 3:54 M 2 hours ago, 14 minutes \\\\\"video\\\\\" pilot and helping her perform the Kike A A A What is the right car for you in terms of prices, economy and specs for this year? In a video this week about the square, the square site has been launched since 2002, providing the latest news of cars and general information about cars and engines, and every new car in the car world, from specifications to cars, visiting exhibitions, and presenting new experiences and videos every day and directly. Common search words\"\\n    }\\n  ],\\n  \"word_count\": 76,\\n  \"character_count\": 441\\n}',\n",
       " '{\\n  \"translations\": [\\n    {\\n      \"translation\": \"August 28, 2018 3:00, 3 hours ago, 3 minutes, 6 tips for keeping your car from stealing A A box, and the problem of auto theft is that there is no specific time for theft, and this is no longer a certain time for theft, but it may no longer have time to steal, and this is no longer a time for theft, but it may be that there is no time for theft, but it may happen at midday, if it is not a parking lot in the current era. The wheel is not moving until the car is located in a secret location and is not in a car that can be added by a technician. If he is not in the car, he tried not to park in isolated locations. He tried not to park in isolated places, and he tried not to park in isolated places. He tried not to park in secluded places, and he tried to not park in secluded parking. A sophisticated tracking device that allows the owner of the car to easily know where it is, by sending messages to the mobile, or via the GPS service or the Internet. Current news\"\\n    }\\n  ],\\n  \"word_count\": 212,\\n  \"character_count\": 1159\\n}',\n",
       " '{\\n  \"translations\": [\\n    {\\n      \"translation\": \"29 August, 2018 8:54 am 13 hours ago, 5 minutes \\\\\"video\\\\\" A horse stalking motorcyclists and injuring one A A, what is the right car in your view of the price, economy, and specs for this year? In a video this week about the square, the square site has been launched since 2002, providing the latest news of cars and general information about cars and engines, and every new car in the car world, from specifications to cars, visiting exhibitions, and presenting new experiences and videos every day and directly. Common search words\"\\n    }\\n  ],\\n  \"word_count\": 77,\\n  \"character_count\": 444\\n}',\n",
       " '{\\n  \"translations\": [\\n    {\\n      \"translation\": \"Formula 1 31 August, 2018 935 M 10 hours ago, 28 minutes ago, 28 minutes leading the morning trials and Vettel in the evening trials on the Monza quarter after a major accident on Friday, an A-box, and the Ferrari driver Sebastian Vettel managed to make the fastest time in the second free trials on the Monza. First, in the morning trials, Ferrari driver Sebastian Vettel and Mercedes driver Lewis Hamilton were unable to record the fastest track of the wet track despite the continuous improvement, failing Perez\\'s other Ferrari driver, Kimmy Raikkonen, who was in second place with a margin of 0.50 seconds, while the Frenchman, including Esteban O \\' Keon, was the third team. For his use, Ricardo would be punished for using an engine developed from Reno. Following that, Renault\\'s driver Nico Hulkenberg was punished for returning ten points from the center of his progress in the qualifying round for tomorrow, which was punished for causing him in the second period. In the second period, the class saw a dramatic and strange scene, which was a high-speed crash for the Swedish driver, Marcus Ericsson, following which his cars were hit in the air after hitting them at the checkpoints. This is after the suspicion that the \\\\\"De Aras\\\\\" wing of the Sauber car failed to close after leaving the area allowed to open it. Marcos was transferred to the medical centre for mandatory routine checks, due to the strength of the incident, but the result was sound. The experiments were stopped for 20 minutes to remove the aftermath of the accident. The mechanics soon went to the other Sauber driver\\'s car, Charles Leclerer, to inspect a similar malfunction. DRS OPEN! - Formula 1 (@F1) August 31, 2018 Vettel seeking to reduce the 17-point margin with Lewis Hamilton, the top ranking of the championship, recorded the fastest time of one minute and 21.105 seconds. Luis Hamilton, the driver of the Mercedes team who raised the controversy following his defeat last week, came up with controversial remarks as he pointed out that Ferrari\\'s victory in the Belgian race was due to deception and that he used deceptive things in his car in the third place, while his teammate came in the team at the post. Current news\"\\n    }\\n  ],\\n  \"word_count\": 416,\\n  \"character_count\": 2471\\n}']"
      ]
     },
     "execution_count": 298,
     "metadata": {},
     "output_type": "execute_result"
    }
   ],
   "source": [
    "mylist"
   ]
  },
  {
   "cell_type": "code",
   "execution_count": 316,
   "metadata": {},
   "outputs": [],
   "source": [
    " my_df = pd.DataFrame(mylist)\n",
    "\n",
    "my_df.to_csv('my_csv2.csv', index=False, header=False)\n"
   ]
  },
  {
   "cell_type": "code",
   "execution_count": null,
   "metadata": {},
   "outputs": [],
   "source": []
  },
  {
   "cell_type": "code",
   "execution_count": 317,
   "metadata": {},
   "outputs": [
    {
     "data": {
      "text/plain": [
       "{\\n  \"translations\": [\\n    {\\n      \"translation\": \"Today, you see us on the ON channel 2, the Egyptian league games, to follow the goals, the news, the summaries, the studios, and the analysis.\"\\n    }\\n  ],\\n  \"word_count\": 17,\\n  \"character_count\": 121\\n}    {\\n  \"translations\": [\\n    {\\n      \"translat...\n",
       "Name: 0, dtype: object"
      ]
     },
     "execution_count": 317,
     "metadata": {},
     "output_type": "execute_result"
    }
   ],
   "source": [
    "dd = pd.read_csv('my_csv2.csv')\n",
    "dd.iloc[0]"
   ]
  },
  {
   "cell_type": "code",
   "execution_count": 300,
   "metadata": {},
   "outputs": [],
   "source": [
    "try:\n",
    "    from StringIO import StringIO\n",
    "except ImportError:\n",
    "    from io import StringIO\n",
    "\n",
    "s = StringIO(out)\n",
    "with open('fileName.csv', 'w') as f:\n",
    "    for line in s:\n",
    "        f.write(line)"
   ]
  },
  {
   "cell_type": "code",
   "execution_count": 118,
   "metadata": {},
   "outputs": [
    {
     "ename": "AttributeError",
     "evalue": "'str' object has no attribute 'to_csv'",
     "output_type": "error",
     "traceback": [
      "\u001b[0;31m---------------------------------------------------------------------------\u001b[0m",
      "\u001b[0;31mAttributeError\u001b[0m                            Traceback (most recent call last)",
      "\u001b[0;32m<ipython-input-118-10dd4be77fb1>\u001b[0m in \u001b[0;36m<module>\u001b[0;34m\u001b[0m\n\u001b[0;32m----> 1\u001b[0;31m \u001b[0mout\u001b[0m\u001b[0;34m.\u001b[0m\u001b[0mto_csv\u001b[0m\u001b[0;34m(\u001b[0m\u001b[0;34m'hhh.csv'\u001b[0m\u001b[0;34m)\u001b[0m\u001b[0;34m\u001b[0m\u001b[0;34m\u001b[0m\u001b[0m\n\u001b[0m",
      "\u001b[0;31mAttributeError\u001b[0m: 'str' object has no attribute 'to_csv'"
     ]
    }
   ],
   "source": [
    "out.to_csv('hhh.csv')"
   ]
  },
  {
   "cell_type": "code",
   "execution_count": 62,
   "metadata": {},
   "outputs": [
    {
     "data": {
      "text/plain": [
       "dict"
      ]
     },
     "execution_count": 62,
     "metadata": {},
     "output_type": "execute_result"
    }
   ],
   "source": [
    "type(translation)"
   ]
  },
  {
   "cell_type": "code",
   "execution_count": 112,
   "metadata": {},
   "outputs": [],
   "source": [
    "with open('dict.csv', 'w') as f:\n",
    "    for key in translation.keys():\n",
    "        f.write(\"%s,%s\\n\"%(key,translation[key]))"
   ]
  },
  {
   "cell_type": "code",
   "execution_count": 107,
   "metadata": {
    "scrolled": true
   },
   "outputs": [
    {
     "data": {
      "text/plain": [
       "list"
      ]
     },
     "execution_count": 107,
     "metadata": {},
     "output_type": "execute_result"
    }
   ],
   "source": [
    "\n",
    "xyz = out.split('\"')\n",
    "\n",
    "#with open('out.txt', 'w') as f:  \n",
    " #   f.write(xyz)\n",
    "    \n",
    "xyz\n",
    "del xyz[0:5]\n",
    "xyz\n",
    "str1 = ''.join(xyz)\n",
    "strr = str1.split('\\\\n')\n",
    "type(strr)"
   ]
  },
  {
   "cell_type": "code",
   "execution_count": 111,
   "metadata": {},
   "outputs": [],
   "source": [
    "import numpy as np\n",
    "np.savetxt(\"file_name.csv\", strr, delimiter=\",\", fmt='%s')"
   ]
  },
  {
   "cell_type": "code",
   "execution_count": 109,
   "metadata": {},
   "outputs": [
    {
     "ename": "TypeError",
     "evalue": "a bytes-like object is required, not 'str'",
     "output_type": "error",
     "traceback": [
      "\u001b[0;31m---------------------------------------------------------------------------\u001b[0m",
      "\u001b[0;31mTypeError\u001b[0m                                 Traceback (most recent call last)",
      "\u001b[0;32m<ipython-input-109-d4e1d28f6272>\u001b[0m in \u001b[0;36m<module>\u001b[0;34m\u001b[0m\n\u001b[1;32m      3\u001b[0m \u001b[0;32mwith\u001b[0m \u001b[0mopen\u001b[0m\u001b[0;34m(\u001b[0m\u001b[0;34m'filename'\u001b[0m\u001b[0;34m,\u001b[0m \u001b[0;34m'wb'\u001b[0m\u001b[0;34m)\u001b[0m \u001b[0;32mas\u001b[0m \u001b[0mmyfile\u001b[0m\u001b[0;34m:\u001b[0m\u001b[0;34m\u001b[0m\u001b[0;34m\u001b[0m\u001b[0m\n\u001b[1;32m      4\u001b[0m     \u001b[0mwr\u001b[0m \u001b[0;34m=\u001b[0m \u001b[0mcsv\u001b[0m\u001b[0;34m.\u001b[0m\u001b[0mwriter\u001b[0m\u001b[0;34m(\u001b[0m\u001b[0mmyfile\u001b[0m\u001b[0;34m,\u001b[0m \u001b[0mquoting\u001b[0m\u001b[0;34m=\u001b[0m\u001b[0mcsv\u001b[0m\u001b[0;34m.\u001b[0m\u001b[0mQUOTE_ALL\u001b[0m\u001b[0;34m)\u001b[0m\u001b[0;34m\u001b[0m\u001b[0;34m\u001b[0m\u001b[0m\n\u001b[0;32m----> 5\u001b[0;31m     \u001b[0mwr\u001b[0m\u001b[0;34m.\u001b[0m\u001b[0mwriterow\u001b[0m\u001b[0;34m(\u001b[0m\u001b[0mlist\u001b[0m\u001b[0;34m(\u001b[0m\u001b[0mstrr\u001b[0m\u001b[0;34m)\u001b[0m\u001b[0;34m)\u001b[0m\u001b[0;34m\u001b[0m\u001b[0;34m\u001b[0m\u001b[0m\n\u001b[0m",
      "\u001b[0;31mTypeError\u001b[0m: a bytes-like object is required, not 'str'"
     ]
    }
   ],
   "source": [
    "import csv\n",
    "\n",
    "with open('filename', 'wb') as myfile:\n",
    "    wr = csv.writer(myfile, quoting=csv.QUOTE_ALL)\n",
    "    wr.writerow(strr)"
   ]
  },
  {
   "cell_type": "code",
   "execution_count": 97,
   "metadata": {},
   "outputs": [],
   "source": [
    "f = open(\"test.txt\",\"a\") #opens file with name of \"test.txt\"\n",
    "f.write(str(strr))\n",
    "f.close()"
   ]
  },
  {
   "cell_type": "code",
   "execution_count": 63,
   "metadata": {},
   "outputs": [
    {
     "data": {
      "text/plain": [
       "dict_keys(['translations', 'word_count', 'character_count'])"
      ]
     },
     "execution_count": 63,
     "metadata": {},
     "output_type": "execute_result"
    }
   ],
   "source": [
    "translation.keys()"
   ]
  },
  {
   "cell_type": "code",
   "execution_count": 65,
   "metadata": {},
   "outputs": [
    {
     "data": {
      "text/html": [
       "<div>\n",
       "<style scoped>\n",
       "    .dataframe tbody tr th:only-of-type {\n",
       "        vertical-align: middle;\n",
       "    }\n",
       "\n",
       "    .dataframe tbody tr th {\n",
       "        vertical-align: top;\n",
       "    }\n",
       "\n",
       "    .dataframe thead th {\n",
       "        text-align: right;\n",
       "    }\n",
       "</style>\n",
       "<table border=\"1\" class=\"dataframe\">\n",
       "  <thead>\n",
       "    <tr style=\"text-align: right;\">\n",
       "      <th></th>\n",
       "      <th>0</th>\n",
       "      <th>1</th>\n",
       "    </tr>\n",
       "  </thead>\n",
       "  <tbody>\n",
       "    <tr>\n",
       "      <th>0</th>\n",
       "      <td>translations</td>\n",
       "      <td>[{'translation': '5091 you see us today on the...</td>\n",
       "    </tr>\n",
       "    <tr>\n",
       "      <th>1</th>\n",
       "      <td>word_count</td>\n",
       "      <td>734</td>\n",
       "    </tr>\n",
       "    <tr>\n",
       "      <th>2</th>\n",
       "      <td>character_count</td>\n",
       "      <td>3577</td>\n",
       "    </tr>\n",
       "  </tbody>\n",
       "</table>\n",
       "</div>"
      ],
      "text/plain": [
       "                 0                                                  1\n",
       "0     translations  [{'translation': '5091 you see us today on the...\n",
       "1       word_count                                                734\n",
       "2  character_count                                               3577"
      ]
     },
     "execution_count": 65,
     "metadata": {},
     "output_type": "execute_result"
    }
   ],
   "source": [
    "#\n",
    "pd.DataFrame(translation.items())"
   ]
  },
  {
   "cell_type": "code",
   "execution_count": 64,
   "metadata": {
    "collapsed": true
   },
   "outputs": [
    {
     "data": {
      "text/plain": [
       "[{'translation': '5091 you see us today on the ON Spurport 2 games of the d ...\\n5092 sensei asks Huausa about her favorite member of Big Bang! ...\\n5093 means a biter that was respectful of the state and of my country, which is not a secret.\\n5094 Park Bom greet her fans as an artist from the DNA Nation ...\\n5095 The formation of the Arab Star teams and Arab Contractors to face ...\\n5096 Paralympic weightlifter Sherif Othman talks about how the ...\\n5097 Amr Fahim, Ismaili coach, talks about the formation of Al-Fry ...\\n5098 Pixis of EXO and the Rapper Logo reveal the title of the g ...\\n5099 iPhones Description Description Saudi Application Sil ...\\n5100 Ahli is studying the amendment of the Azaru, Shahnawi, Ajay and M contracts.\\n5101 Agri draws on the roadmap of the Marmiya Ar-Aji ...\\n5102 The schedule of the first round matches of the Italian league ...\\n5103 Omar Abdullah: Mirkato Rome is good economically and on ...\\n5104 Got7 named in Billboard Blueprint Top 10 \\' for the most c ...\\n5105 Cooper\\'s problem is that he has a clear offensive camel in the ...\\n5106 sensei talks about his happiness and spending for a lot of money ...\\n5107 is wrong. Please correct the information ... My match ...\\n5108 Agiri: I am the first in charge of the players\\' choices ...\\n5109, I\\'m a zelkawi, and I was 100 percent sure that you wouldn\\'t be a ...\\n5110 \\'Station X 0\\' shares a nice video of Pixis from EX ...\\n5111: Journalist writer Salah Muntaser (84 years old) presented his testimony ...\\n5112 know Abdullah Al-Nadeem. The Knight of the journalistic article ...\\n5113 Ahmed Ezz: Foreign attackers the main reason for you ...\\n5114 artist Yasser Jalal comes out of his silence and clarifies the truth of the sh ...\\n5115 Bichun and Loko shared a new thrill video prepared ...\\n5116 Hafiz Hafiz Ali Ghazal. Ramadan is my prayer. Abdul Shafi ...\\n5117 Fmr. Attorney General: Trap loks weak atpack ...\\n5118 BTS Squad leads all the current time charts President ...\\n5119 selected selected: The Piramidds team performs well in the ...\\n5120 figures, stats and comparison between the General Contractors Club ...\\n                              ... 7053 September 07 2018 Maroc Telgravakad Minister of Affairs ...\\n705 September 09, 2018-by-by: Doctor of Hassan Hiddadalga-General ...\\n7055 September 13, 2018 Saeed Al-Meradi rearred the problem of the Allen ...\\n7056 August 18 2018 Maroc Talgrav# Like Consul General of the Mum ...\\n7057, August 20, 2018 Maroc Maroc Grown on what he traded posts ...\\n7058 August 25 2018 Maroc Talgrafart The Ministry of Culture and ...\\n7059 August 27 2018 Maroc Talgraviyfolk American Coordinator ...\\n7060 September 07, 2018 Maroc TV, the Ministry of the Affairs of the ...\\n7061 September 07 2018 Maroc Telgravnia Team Olymbek Ace ...\\n7062 September 07 2018 Maroc TV announced the authorities of the world ...\\n7063rd September 09 2018 Maroc TV of the Press Office Ba ...\\n07064 September 09 2018 Maroc Talgravanck National Team ...\\n7065 August 28 2018 Maroc TV declared the national voter al ...\\n7066 August 31 2018 Maroc TV reported Deutsche Welle Channel ...\\n7067 Tate the Extate of Italian Foreign Minister Enzo Mwavero ...\\n7068 The Moroccan Association for Citizenship and the Rights of the ...\\n7069 The Movement for Peace Society announced the largest Islamic party in the Jc ...\\n7070 The Amrati artist has expressed dreams of her happiness with the epifer ...\\n7071 September 04 2018 Maroc Telgravári, Minister of State to ...\\n7072 September 04 2018 Happy New Merzakhd Dakhla, the dissolution of the f ...\\n7073 September 09 2018 Maroc TV is a city of Saidi ...\\n7074 September 09 2018 Maroc TV launched the General Directorate ...\\n7075 The Ministry of Wakfs and Islamic Affairs announced that Fatih ...\\n7076 called the commander of the U.S. Central Command, Joseph missed ...\\n7077 The Secretary-General of the United Nations Antonio Gut has cited ...\\n7078 Marek telegraph, \"Oh, the reassuring breath of my God.\"\\n7079 August 28 2018 Maroc Telgravskal, the Supreme Council of the Salt ...\\n7080 The Committee of Industry, Research and Energy has ratified the parliament ...\\n7081 amounted to cards issued by the banking institutions of the ...\\n7082 The Bureau of the Committee on Education, Culture and Communication decided to ...\\nName: Text, Length: 1992, dtype: object'}]"
      ]
     },
     "execution_count": 64,
     "metadata": {},
     "output_type": "execute_result"
    }
   ],
   "source": [
    "translation['translations']"
   ]
>>>>>>> latex
  }
 ],
 "metadata": {
  "kernelspec": {
   "display_name": "Python 3",
   "language": "python",
   "name": "python3"
  },
  "language_info": {
   "codemirror_mode": {
    "name": "ipython",
    "version": 3
   },
   "file_extension": ".py",
   "mimetype": "text/x-python",
   "name": "python",
   "nbconvert_exporter": "python",
   "pygments_lexer": "ipython3",
   "version": "3.7.3"
  }
 },
 "nbformat": 4,
 "nbformat_minor": 1
}
