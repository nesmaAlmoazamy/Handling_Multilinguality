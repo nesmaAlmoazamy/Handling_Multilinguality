{
 "cells": [
  {
   "cell_type": "markdown",
   "metadata": {},
   "source": [
    "# Multilingual Text Dataset\n",
    "\n",
    "I created this dataset using free API from [Webhose](https://webhose.io/)\n",
    "\n",
    "This dataset contains blog posts labeled by language and by category."
   ]
  },
  {
   "cell_type": "code",
   "execution_count": 1,
   "metadata": {},
   "outputs": [],
   "source": [
    "import seaborn as sn\n",
    "import pandas as pd\n",
    "import numpy as np\n",
    "import matplotlib.pyplot as plt\n",
    "%matplotlib inline "
   ]
  },
  {
   "cell_type": "markdown",
   "metadata": {},
   "source": [
    "First, I need to import data in a dataframe."
   ]
  },
  {
   "cell_type": "code",
   "execution_count": 2,
   "metadata": {},
   "outputs": [],
   "source": [
    "dataset = pd.read_csv('data/dataset.csv', sep='\\t', header=None).applymap(str)"
   ]
  },
  {
   "cell_type": "markdown",
   "metadata": {},
   "source": [
    "then I'm getting labels for languages"
   ]
  },
  {
   "cell_type": "code",
   "execution_count": 3,
   "metadata": {},
   "outputs": [
    {
     "data": {
      "text/plain": [
       "array(['english', 'albanian', 'arabic', 'bulgarian', 'chinese',\n",
       "       'croatian', 'czech', 'danish', 'dutch', 'estonian', 'finnish',\n",
       "       'french', 'german', 'greek', 'hebrew', 'hungarian', 'icelandic',\n",
       "       'italian', 'japanese', 'korean', 'lithuanian', 'norwegian',\n",
       "       'polish', 'portuguese', 'romanian', 'russian', 'serbian',\n",
       "       'slovenian', 'spanish', 'swedish', 'turkish', 'ukrainian'],\n",
       "      dtype=object)"
      ]
     },
     "execution_count": 3,
     "metadata": {},
     "output_type": "execute_result"
    }
   ],
   "source": [
    "languages = dataset[dataset.columns[0]].unique()\n",
    "languages"
   ]
  },
  {
   "cell_type": "markdown",
   "metadata": {},
   "source": [
    "and labels for categories"
   ]
  },
  {
   "cell_type": "code",
   "execution_count": 4,
   "metadata": {},
   "outputs": [
    {
     "data": {
      "text/plain": [
       "45"
      ]
     },
     "execution_count": 4,
     "metadata": {},
     "output_type": "execute_result"
    }
   ],
   "source": [
    "categories = dataset[dataset.columns[1]].unique()\n",
    "len(categories)"
   ]
  },
  {
   "cell_type": "code",
   "execution_count": 5,
   "metadata": {},
   "outputs": [
    {
     "data": {
      "text/html": [
       "<div>\n",
       "<style scoped>\n",
       "    .dataframe tbody tr th:only-of-type {\n",
       "        vertical-align: middle;\n",
       "    }\n",
       "\n",
       "    .dataframe tbody tr th {\n",
       "        vertical-align: top;\n",
       "    }\n",
       "\n",
       "    .dataframe thead th {\n",
       "        text-align: right;\n",
       "    }\n",
       "</style>\n",
       "<table border=\"1\" class=\"dataframe\">\n",
       "  <thead>\n",
       "    <tr style=\"text-align: right;\">\n",
       "      <th></th>\n",
       "      <th>Language</th>\n",
       "      <th>Label</th>\n",
       "      <th>Text</th>\n",
       "    </tr>\n",
       "  </thead>\n",
       "  <tbody>\n",
       "    <tr>\n",
       "      <th>0</th>\n",
       "      <td>english</td>\n",
       "      <td>advertising</td>\n",
       "      <td>Exclusive: U.S. government seeks Facebook help...</td>\n",
       "    </tr>\n",
       "    <tr>\n",
       "      <th>1</th>\n",
       "      <td>english</td>\n",
       "      <td>advertising</td>\n",
       "      <td>Trump asks SEC to mull half-year corporate fil...</td>\n",
       "    </tr>\n",
       "    <tr>\n",
       "      <th>2</th>\n",
       "      <td>english</td>\n",
       "      <td>advertising</td>\n",
       "      <td>Wall St. up on trade hopes, S&amp;P equals longest...</td>\n",
       "    </tr>\n",
       "    <tr>\n",
       "      <th>3</th>\n",
       "      <td>english</td>\n",
       "      <td>advertising</td>\n",
       "      <td>Asian shares hit one-year low on Turkey, China...</td>\n",
       "    </tr>\n",
       "    <tr>\n",
       "      <th>4</th>\n",
       "      <td>english</td>\n",
       "      <td>advertising</td>\n",
       "      <td>Asian stocks weaken as Turkey worries weigh, d...</td>\n",
       "    </tr>\n",
       "  </tbody>\n",
       "</table>\n",
       "</div>"
      ],
      "text/plain": [
       "  Language        Label                                               Text\n",
       "0  english  advertising  Exclusive: U.S. government seeks Facebook help...\n",
       "1  english  advertising  Trump asks SEC to mull half-year corporate fil...\n",
       "2  english  advertising  Wall St. up on trade hopes, S&P equals longest...\n",
       "3  english  advertising  Asian shares hit one-year low on Turkey, China...\n",
       "4  english  advertising  Asian stocks weaken as Turkey worries weigh, d..."
      ]
     },
     "execution_count": 5,
     "metadata": {},
     "output_type": "execute_result"
    }
   ],
   "source": [
    "# Rename Dataset Columns\n",
    "dataset.columns = [\"Language\",\"Label\",\"Text\"]\n",
    "dataset.head()\n"
   ]
  },
  {
   "cell_type": "code",
   "execution_count": 6,
   "metadata": {},
   "outputs": [],
   "source": [
    "from sklearn.preprocessing import LabelEncoder\n",
    "label_encoder = LabelEncoder()\n",
    "dataset[\"Label\"] = label_encoder.fit_transform(dataset[\"Label\"])"
   ]
  },
  {
   "cell_type": "code",
   "execution_count": 7,
   "metadata": {},
   "outputs": [
    {
     "data": {
      "text/plain": [
       "LabelEncoder()"
      ]
     },
     "execution_count": 7,
     "metadata": {},
     "output_type": "execute_result"
    }
   ],
   "source": [
    "Sentences = dataset.Text\n",
    "y = dataset.Label\n",
    "encoder = LabelEncoder()\n",
    "encoder.fit(y)\n"
   ]
  },
  {
   "cell_type": "code",
   "execution_count": 8,
   "metadata": {},
   "outputs": [],
   "source": [
    "from sklearn.model_selection import train_test_split\n",
    "\n",
    "sentences_train, sentences_test, y_train, y_test = train_test_split(\n",
    "   Sentences, y, test_size=0.25, random_state=1000)"
   ]
  },
  {
   "cell_type": "code",
   "execution_count": 9,
   "metadata": {},
   "outputs": [
    {
     "name": "stderr",
     "output_type": "stream",
     "text": [
      "Using TensorFlow backend.\n"
     ]
    }
   ],
   "source": [
    "from keras.preprocessing.text import Tokenizer\n",
    "\n",
    "tokenizer = Tokenizer(num_words=5000)\n",
    "tokenizer.fit_on_texts(sentences_train)\n",
    "\n",
    "X_train = tokenizer.texts_to_sequences(sentences_train)\n",
    "X_test = tokenizer.texts_to_sequences(sentences_test)\n",
    "\n",
    "vocab_size = len(tokenizer.word_index) + 1  # Adding 1 because of reserved 0 index\n",
    "\n"
   ]
  },
  {
   "cell_type": "code",
   "execution_count": 10,
   "metadata": {},
   "outputs": [],
   "source": [
    "def plot_history(history):\n",
    "    acc = history.history['acc']\n",
    "    val_acc = history.history['val_acc']\n",
    "    loss = history.history['loss']\n",
    "    val_loss = history.history['val_loss']\n",
    "    x = range(1, len(acc) + 1)\n",
    "\n",
    "    plt.figure(figsize=(12, 5))\n",
    "    plt.subplot(1, 2, 1)\n",
    "    plt.plot(x, acc, 'b', label='Training acc')\n",
    "    plt.plot(x, val_acc, 'r', label='Validation acc')\n",
    "    plt.title('Training and validation accuracy')\n",
    "    plt.legend()\n",
    "    plt.subplot(1, 2, 2)\n",
    "    plt.plot(x, loss, 'b', label='Training loss')\n",
    "    plt.plot(x, val_loss, 'r', label='Validation loss')\n",
    "    plt.title('Training and validation loss')\n",
    "    plt.legend()"
   ]
  },
  {
   "cell_type": "code",
   "execution_count": 11,
   "metadata": {},
   "outputs": [
    {
     "name": "stdout",
     "output_type": "stream",
     "text": [
      "[  89    2  649   21   43 2584    2  292   21    2  624  292    1    2\n",
      "  801  243    2    2  557    2 3480  292  975  292 1821    2  185  271\n",
      " 4809   59  975    2    2 1579    2 2145   27  438 1412 1907 2425  249\n",
      "  112 4973 1907   59  448   21    2  112   89    0    0    0    0    0\n",
      "    0    0    0    0    0    0    0    0    0    0    0    0    0    0\n",
      "    0    0    0    0    0    0    0    0    0    0    0    0    0    0\n",
      "    0    0    0    0    0    0    0    0    0    0    0    0    0    0\n",
      "    0    0]\n",
      "[0. 1. 0. 0. 0. 0. 0. 0. 0. 0. 0. 0. 0. 0. 0. 0. 0. 0. 0. 0. 0. 0. 0. 0.\n",
      " 0. 0. 0. 0. 0. 0. 0. 0. 0. 0. 0. 0. 0. 0. 0. 0. 0. 0. 0. 0. 0.]\n"
     ]
    }
   ],
   "source": [
    "from keras.preprocessing.sequence import pad_sequences\n",
    "from sklearn.preprocessing import LabelEncoder\n",
    "from keras.utils import np_utils\n",
    "\n",
    "\n",
    "maxlen = 100\n",
    "\n",
    "X_train = pad_sequences(X_train, padding='post', maxlen=maxlen)\n",
    "X_test = pad_sequences(X_test, padding='post', maxlen=maxlen)\n",
    "\n",
    "y_train = encoder.transform(y_train)\n",
    "# convert integers to dummy variables (i.e. one hot encoded)\n",
    "y_train = np_utils.to_categorical(y_train)\n",
    "\n",
    "y_test = encoder.transform(y_test)\n",
    "# convert integers to dummy variables (i.e. one hot encoded)\n",
    "y_test = np_utils.to_categorical(y_test)\n",
    "\n",
    "\n",
    "print(X_train[0, :])\n",
    "print(y_test[1])\n"
   ]
  },
  {
   "cell_type": "code",
   "execution_count": 12,
   "metadata": {},
   "outputs": [
    {
     "name": "stdout",
     "output_type": "stream",
     "text": [
      "_________________________________________________________________\n",
      "Layer (type)                 Output Shape              Param #   \n",
      "=================================================================\n",
      "embedding_1 (Embedding)      (None, 100, 50)           77646200  \n",
      "_________________________________________________________________\n",
      "gru_1 (GRU)                  (None, 256)               235776    \n",
      "_________________________________________________________________\n",
      "dropout_1 (Dropout)          (None, 256)               0         \n",
      "_________________________________________________________________\n",
      "dense_1 (Dense)              (None, 45)                11565     \n",
      "=================================================================\n",
      "Total params: 77,893,541\n",
      "Trainable params: 77,893,541\n",
      "Non-trainable params: 0\n",
      "_________________________________________________________________\n"
     ]
    }
   ],
   "source": [
    "from keras.models import Sequential\n",
    "from keras import layers\n",
    "from keras.layers import GRU,Dropout,BatchNormalization\n",
    "\n",
    "\n",
    "embedding_dim = 50\n",
    "\n",
    "model = Sequential()\n",
    "model.add(layers.Embedding(input_dim=vocab_size, \n",
    "                           output_dim=embedding_dim, \n",
    "                           input_length=maxlen))\n",
    "model.add(GRU(256))\n",
    "model.add(Dropout(0.2))\n",
    "model.add(layers.Dense(45, activation='sigmoid'))\n",
    "model.compile(optimizer='adam',\n",
    "              loss='categorical_crossentropy',\n",
    "              metrics=['accuracy'])\n",
    "model.summary()\n"
   ]
  },
  {
   "cell_type": "code",
   "execution_count": 13,
   "metadata": {},
   "outputs": [
    {
     "name": "stdout",
     "output_type": "stream",
     "text": [
      "Train on 49071 samples, validate on 16357 samples\n",
      "Epoch 1/20\n",
      "49071/49071 [==============================] - 277s 6ms/step - loss: 3.6233 - acc: 0.0745 - val_loss: 3.5267 - val_acc: 0.0828\n",
      "Epoch 2/20\n",
      "49071/49071 [==============================] - 280s 6ms/step - loss: 3.5081 - acc: 0.0823 - val_loss: 3.4716 - val_acc: 0.0845\n",
      "Epoch 3/20\n",
      "49071/49071 [==============================] - 283s 6ms/step - loss: 3.4483 - acc: 0.0847 - val_loss: 3.4246 - val_acc: 0.0858\n",
      "Epoch 4/20\n",
      "49071/49071 [==============================] - 287s 6ms/step - loss: 3.3891 - acc: 0.0867 - val_loss: 3.3966 - val_acc: 0.0844\n",
      "Epoch 5/20\n",
      "49071/49071 [==============================] - 219s 4ms/step - loss: 3.3370 - acc: 0.0903 - val_loss: 3.3453 - val_acc: 0.0895\n",
      "Epoch 6/20\n",
      "49071/49071 [==============================] - 195s 4ms/step - loss: 3.2791 - acc: 0.0938 - val_loss: 3.3142 - val_acc: 0.0946\n",
      "Epoch 7/20\n",
      "49071/49071 [==============================] - 233s 5ms/step - loss: 3.2114 - acc: 0.1066 - val_loss: 3.2531 - val_acc: 0.1105\n",
      "Epoch 8/20\n",
      "49071/49071 [==============================] - 249s 5ms/step - loss: 3.1313 - acc: 0.1346 - val_loss: 3.2308 - val_acc: 0.1247\n",
      "Epoch 9/20\n",
      "49071/49071 [==============================] - 237s 5ms/step - loss: 3.0456 - acc: 0.1600 - val_loss: 3.1255 - val_acc: 0.1544\n",
      "Epoch 10/20\n",
      "49071/49071 [==============================] - 232s 5ms/step - loss: 2.9296 - acc: 0.1902 - val_loss: 3.0468 - val_acc: 0.1780\n",
      "Epoch 11/20\n",
      "49071/49071 [==============================] - 230s 5ms/step - loss: 2.7951 - acc: 0.2219 - val_loss: 2.9703 - val_acc: 0.2006\n",
      "Epoch 12/20\n",
      "49071/49071 [==============================] - 234s 5ms/step - loss: 2.6741 - acc: 0.2562 - val_loss: 2.9250 - val_acc: 0.2186\n",
      "Epoch 13/20\n",
      "49071/49071 [==============================] - 246s 5ms/step - loss: 2.5586 - acc: 0.2835 - val_loss: 2.8493 - val_acc: 0.2378\n",
      "Epoch 14/20\n",
      "49071/49071 [==============================] - 248s 5ms/step - loss: 2.4454 - acc: 0.3119 - val_loss: 2.8911 - val_acc: 0.2454\n",
      "Epoch 15/20\n",
      "49071/49071 [==============================] - 238s 5ms/step - loss: 2.3466 - acc: 0.3345 - val_loss: 2.7681 - val_acc: 0.2622\n",
      "Epoch 16/20\n",
      "49071/49071 [==============================] - 224s 5ms/step - loss: 2.2564 - acc: 0.3584 - val_loss: 2.7699 - val_acc: 0.2639\n",
      "Epoch 17/20\n",
      "49071/49071 [==============================] - 220s 4ms/step - loss: 2.1786 - acc: 0.3739 - val_loss: 2.7024 - val_acc: 0.2841\n",
      "Epoch 18/20\n",
      "49071/49071 [==============================] - 237s 5ms/step - loss: 2.0912 - acc: 0.3979 - val_loss: 2.6882 - val_acc: 0.2883\n",
      "Epoch 19/20\n",
      "49071/49071 [==============================] - 159s 3ms/step - loss: 2.0220 - acc: 0.4132 - val_loss: 2.6712 - val_acc: 0.2990\n",
      "Epoch 20/20\n",
      "49071/49071 [==============================] - 194s 4ms/step - loss: 1.9627 - acc: 0.4283 - val_loss: 2.7325 - val_acc: 0.2981\n",
      "49071/49071 [==============================] - 67s 1ms/step\n",
      "Training Accuracy: 0.4419\n",
      "16357/16357 [==============================] - 22s 1ms/step\n",
      "Testing Accuracy:  0.2981\n"
     ]
    }
   ],
   "source": [
    "history = model.fit(X_train, y_train,\n",
    "                    epochs=20,\n",
    "                    verbose=True,\n",
    "                    validation_data=(X_test, y_test),\n",
    "                   batch_size=1000)\n",
    "loss, accuracy = model.evaluate(X_train, y_train, verbose=True)\n",
    "print(\"Training Accuracy: {:.4f}\".format(accuracy))\n",
    "loss, accuracy = model.evaluate(X_test, y_test, verbose=True)\n",
    "print(\"Testing Accuracy:  {:.4f}\".format(accuracy))\n"
   ]
  },
  {
   "cell_type": "code",
   "execution_count": 15,
   "metadata": {},
   "outputs": [
    {
     "data": {
      "image/png": "[encoded data removed]",
      "text/plain": [
       "<Figure size 864x360 with 2 Axes>"
      ]
     },
     "metadata": {
      "needs_background": "light"
     },
     "output_type": "display_data"
    }
   ],
   "source": [
    "plot_history(history)"
   ]
  },
  {
   "cell_type": "markdown",
   "metadata": {},
   "source": [
    "Using pretrained word embeddings"
   ]
  },
  {
   "cell_type": "code",
   "execution_count": null,
   "metadata": {},
   "outputs": [],
   "source": []
  }
 ],
 "metadata": {
  "kernelspec": {
   "display_name": "Python 3",
   "language": "python",
   "name": "python3"
  },
  "language_info": {
   "codemirror_mode": {
    "name": "ipython",
    "version": 3
   },
   "file_extension": ".py",
   "mimetype": "text/x-python",
   "name": "python",
   "nbconvert_exporter": "python",
   "pygments_lexer": "ipython3",
   "version": "3.6.8"
  }
 },
 "nbformat": 4,
 "nbformat_minor": 1
}
