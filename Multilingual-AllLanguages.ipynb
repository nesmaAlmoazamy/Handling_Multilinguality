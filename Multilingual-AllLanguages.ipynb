{
 "cells": [
  {
   "cell_type": "markdown",
   "metadata": {},
   "source": [
    "# Multilingual Text Dataset\n",
    "\n"
   ]
  },
  {
   "cell_type": "code",
   "execution_count": 1,
   "metadata": {},
   "outputs": [
    {
     "name": "stderr",
     "output_type": "stream",
     "text": [
      "Using TensorFlow backend.\n"
     ]
    }
   ],
   "source": [
    "import seaborn as sn\n",
    "import pandas as pd\n",
    "import numpy as np\n",
    "import matplotlib.pyplot as plt\n",
    "from sklearn.preprocessing import LabelEncoder\n",
    "from sklearn.model_selection import train_test_split\n",
    "from keras.preprocessing.text import Tokenizer\n",
    "from keras.preprocessing.sequence import pad_sequences\n",
    "\n",
    "import keras\n",
    "from keras.models import Sequential\n",
    "from keras import layers\n",
    "from keras.layers import GRU,Dropout,BatchNormalization\n",
    "\n",
    "\n",
    "\n",
    "\n",
    "%matplotlib inline "
   ]
  },
  {
   "cell_type": "markdown",
   "metadata": {},
   "source": [
    "**Create a dataframe**"
   ]
  },
  {
   "cell_type": "code",
   "execution_count": 2,
   "metadata": {},
   "outputs": [],
   "source": [
    "dataset = pd.read_csv('data/dataset.csv', sep='\\t', header=None).applymap(str)"
   ]
  },
  {
   "cell_type": "markdown",
   "metadata": {},
   "source": [
    "**List all languages that are exist in the dataset**"
   ]
  },
  {
   "cell_type": "code",
   "execution_count": 3,
   "metadata": {},
   "outputs": [
    {
     "data": {
      "text/plain": [
       "array(['english', 'albanian', 'arabic', 'bulgarian', 'chinese',\n",
       "       'croatian', 'czech', 'danish', 'dutch', 'estonian', 'finnish',\n",
       "       'french', 'german', 'greek', 'hebrew', 'hungarian', 'icelandic',\n",
       "       'italian', 'japanese', 'korean', 'lithuanian', 'norwegian',\n",
       "       'polish', 'portuguese', 'romanian', 'russian', 'serbian',\n",
       "       'slovenian', 'spanish', 'swedish', 'turkish', 'ukrainian'],\n",
       "      dtype=object)"
      ]
     },
     "execution_count": 3,
     "metadata": {},
     "output_type": "execute_result"
    }
   ],
   "source": [
    "languages = dataset[dataset.columns[0]].unique()\n",
    "languages"
   ]
  },
  {
   "cell_type": "markdown",
   "metadata": {},
   "source": [
    "**List all labels (categories)**"
   ]
  },
  {
   "cell_type": "code",
   "execution_count": 4,
   "metadata": {},
   "outputs": [
    {
     "data": {
      "text/plain": [
       "array(['advertising', 'agriculture', 'animation', 'arts_and_crafts',\n",
       "       'entertainment', 'astrology', 'vehicles', 'games',\n",
       "       'books_and_literature', 'business', 'gambling', 'jobs', 'clothing',\n",
       "       'comic_books', 'dating', 'education', 'adult', 'food', 'health',\n",
       "       'hobbies_and_interests', 'humor', 'illegal_content', 'investing',\n",
       "       'jewelry', 'logistics', 'marketing', 'movies', 'music', 'hacking',\n",
       "       'media', 'finance', 'pets', 'politics', 'religion',\n",
       "       'sci_fi_and_fantasy', 'science', 'shopping', 'society', 'sports',\n",
       "       'tech', 'teens', 'television', 'travel', 'under_construction',\n",
       "       'weather'], dtype=object)"
      ]
     },
     "execution_count": 4,
     "metadata": {},
     "output_type": "execute_result"
    }
   ],
   "source": [
    "categories = dataset[dataset.columns[1]].unique()\n",
    "categories"
   ]
  },
  {
   "cell_type": "code",
   "execution_count": 5,
   "metadata": {},
   "outputs": [
    {
     "data": {
      "text/html": [
       "<div>\n",
       "<style scoped>\n",
       "    .dataframe tbody tr th:only-of-type {\n",
       "        vertical-align: middle;\n",
       "    }\n",
       "\n",
       "    .dataframe tbody tr th {\n",
       "        vertical-align: top;\n",
       "    }\n",
       "\n",
       "    .dataframe thead th {\n",
       "        text-align: right;\n",
       "    }\n",
       "</style>\n",
       "<table border=\"1\" class=\"dataframe\">\n",
       "  <thead>\n",
       "    <tr style=\"text-align: right;\">\n",
       "      <th></th>\n",
       "      <th>Language</th>\n",
       "      <th>Label</th>\n",
       "      <th>Text</th>\n",
       "    </tr>\n",
       "  </thead>\n",
       "  <tbody>\n",
       "    <tr>\n",
       "      <th>0</th>\n",
       "      <td>english</td>\n",
       "      <td>advertising</td>\n",
       "      <td>Exclusive: U.S. government seeks Facebook help...</td>\n",
       "    </tr>\n",
       "    <tr>\n",
       "      <th>1</th>\n",
       "      <td>english</td>\n",
       "      <td>advertising</td>\n",
       "      <td>Trump asks SEC to mull half-year corporate fil...</td>\n",
       "    </tr>\n",
       "    <tr>\n",
       "      <th>2</th>\n",
       "      <td>english</td>\n",
       "      <td>advertising</td>\n",
       "      <td>Wall St. up on trade hopes, S&amp;P equals longest...</td>\n",
       "    </tr>\n",
       "    <tr>\n",
       "      <th>3</th>\n",
       "      <td>english</td>\n",
       "      <td>advertising</td>\n",
       "      <td>Asian shares hit one-year low on Turkey, China...</td>\n",
       "    </tr>\n",
       "    <tr>\n",
       "      <th>4</th>\n",
       "      <td>english</td>\n",
       "      <td>advertising</td>\n",
       "      <td>Asian stocks weaken as Turkey worries weigh, d...</td>\n",
       "    </tr>\n",
       "  </tbody>\n",
       "</table>\n",
       "</div>"
      ],
      "text/plain": [
       "  Language        Label                                               Text\n",
       "0  english  advertising  Exclusive: U.S. government seeks Facebook help...\n",
       "1  english  advertising  Trump asks SEC to mull half-year corporate fil...\n",
       "2  english  advertising  Wall St. up on trade hopes, S&P equals longest...\n",
       "3  english  advertising  Asian shares hit one-year low on Turkey, China...\n",
       "4  english  advertising  Asian stocks weaken as Turkey worries weigh, d..."
      ]
     },
     "execution_count": 5,
     "metadata": {},
     "output_type": "execute_result"
    }
   ],
   "source": [
    "# Rename Dataset Columns\n",
    "dataset.columns = [\"Language\",\"Label\",\"Text\"]\n",
    "dataset.head()\n"
   ]
  },
  {
   "cell_type": "code",
   "execution_count": 6,
   "metadata": {},
   "outputs": [],
   "source": [
    "label_encoder = LabelEncoder()\n",
    "dataset[\"Label\"] = label_encoder.fit_transform(dataset[\"Label\"])"
   ]
  },
  {
   "cell_type": "code",
   "execution_count": 7,
   "metadata": {},
   "outputs": [],
   "source": [
    "Sentences = dataset.Text\n",
    "y = dataset.Label"
   ]
  },
  {
   "cell_type": "code",
   "execution_count": 8,
   "metadata": {},
   "outputs": [],
   "source": [
    "sentences_train, sentences_test, y_train, y_test = train_test_split(\n",
    "   Sentences, y, test_size=0.25, random_state=1000)"
   ]
  },
  {
   "cell_type": "code",
   "execution_count": 9,
   "metadata": {},
   "outputs": [],
   "source": [
    "tokenizer = Tokenizer(num_words=5000)\n",
    "tokenizer.fit_on_texts(sentences_train)\n",
    "\n",
    "X_train = tokenizer.texts_to_sequences(sentences_train)\n",
    "X_test = tokenizer.texts_to_sequences(sentences_test)\n",
    "\n",
    "vocab_size = len(tokenizer.word_index) + 1  # Adding 1 because of reserved 0 index\n",
    "\n"
   ]
  },
  {
   "cell_type": "code",
   "execution_count": 10,
   "metadata": {},
   "outputs": [],
   "source": [
    "def plot_history(history):\n",
    "    acc = history.history['acc']\n",
    "    val_acc = history.history['val_acc']\n",
    "    loss = history.history['loss']\n",
    "    val_loss = history.history['val_loss']\n",
    "    x = range(1, len(acc) + 1)\n",
    "\n",
    "    plt.figure(figsize=(12, 5))\n",
    "    plt.subplot(1, 2, 1)\n",
    "    plt.plot(x, acc, 'b', label='Training acc')\n",
    "    plt.plot(x, val_acc, 'r', label='Validation acc')\n",
    "    plt.title('Training and validation accuracy')\n",
    "    plt.legend()\n",
    "    plt.subplot(1, 2, 2)\n",
    "    plt.plot(x, loss, 'b', label='Training loss')\n",
    "    plt.plot(x, val_loss, 'r', label='Validation loss')\n",
    "    plt.title('Training and validation loss')\n",
    "    plt.legend()"
   ]
  },
  {
   "cell_type": "code",
   "execution_count": 11,
   "metadata": {},
   "outputs": [
    {
     "name": "stdout",
     "output_type": "stream",
     "text": [
      "[  89    2  649   21   43 2584    2  292   21    2  624  292    1    2\n",
      "  801  243    2    2  557    2 3480  292  975  292 1821    2  185  271\n",
      " 4809   59  975    2    2 1579    2 2145   27  438 1412 1907 2425  249\n",
      "  112 4973 1907   59  448   21    2  112   89    0    0    0    0    0\n",
      "    0    0    0    0    0    0    0    0    0    0    0    0    0    0\n",
      "    0    0    0    0    0    0    0    0    0    0    0    0    0    0\n",
      "    0    0    0    0    0    0    0    0    0    0    0    0    0    0\n",
      "    0    0]\n"
     ]
    }
   ],
   "source": [
    "maxlen = 100\n",
    "\n",
    "X_train = pad_sequences(X_train, padding='post', maxlen=maxlen)\n",
    "X_test = pad_sequences(X_test, padding='post', maxlen=maxlen)\n",
    "\n",
    "y_train = keras.utils.to_categorical(y_train)\n",
    "y_test = keras.utils.to_categorical(y_test)\n",
    "\n",
    "print(X_train[0, :])\n"
   ]
  },
  {
   "cell_type": "code",
   "execution_count": 12,
   "metadata": {},
   "outputs": [
    {
     "name": "stdout",
     "output_type": "stream",
     "text": [
      "_________________________________________________________________\n",
      "Layer (type)                 Output Shape              Param #   \n",
      "=================================================================\n",
      "embedding_1 (Embedding)      (None, 100, 50)           77646200  \n",
      "_________________________________________________________________\n",
      "gru_1 (GRU)                  (None, 256)               235776    \n",
      "_________________________________________________________________\n",
      "dropout_1 (Dropout)          (None, 256)               0         \n",
      "_________________________________________________________________\n",
      "dense_1 (Dense)              (None, 45)                11565     \n",
      "=================================================================\n",
      "Total params: 77,893,541\n",
      "Trainable params: 77,893,541\n",
      "Non-trainable params: 0\n",
      "_________________________________________________________________\n"
     ]
    }
   ],
   "source": [
    "embedding_dim = 50\n",
    "\n",
    "model = Sequential()\n",
    "model.add(layers.Embedding(input_dim=vocab_size, \n",
    "                           output_dim=embedding_dim, \n",
    "                           input_length=maxlen))\n",
    "model.add(GRU(256))\n",
    "model.add(Dropout(0.2))\n",
    "model.add(layers.Dense(45, activation='sigmoid'))\n",
    "model.compile(optimizer='adam',\n",
    "              loss='categorical_crossentropy',\n",
    "              metrics=['accuracy'])\n",
    "model.summary()\n"
   ]
  },
  {
   "cell_type": "code",
   "execution_count": 13,
   "metadata": {},
   "outputs": [
    {
     "name": "stdout",
     "output_type": "stream",
     "text": [
      "Train on 49071 samples, validate on 16357 samples\n",
      "Epoch 1/20\n",
      "49071/49071 [==============================] - 182s 4ms/step - loss: 3.6117 - acc: 0.0788 - val_loss: 3.5162 - val_acc: 0.0832\n",
      "Epoch 2/20\n",
      "49071/49071 [==============================] - 182s 4ms/step - loss: 3.4973 - acc: 0.0823 - val_loss: 3.4538 - val_acc: 0.0842\n",
      "Epoch 3/20\n",
      "49071/49071 [==============================] - 200s 4ms/step - loss: 3.4346 - acc: 0.0836 - val_loss: 3.4164 - val_acc: 0.0851\n",
      "Epoch 4/20\n",
      "49071/49071 [==============================] - 214s 4ms/step - loss: 3.3857 - acc: 0.0831 - val_loss: 3.3781 - val_acc: 0.0858\n",
      "Epoch 5/20\n",
      "49071/49071 [==============================] - 238s 5ms/step - loss: 3.3356 - acc: 0.0871 - val_loss: 3.3791 - val_acc: 0.0869\n",
      "Epoch 6/20\n",
      "49071/49071 [==============================] - 433s 9ms/step - loss: 3.3033 - acc: 0.0928 - val_loss: 3.3246 - val_acc: 0.0981\n",
      "Epoch 7/20\n",
      "49071/49071 [==============================] - 316s 6ms/step - loss: 3.2394 - acc: 0.1002 - val_loss: 3.2805 - val_acc: 0.1065\n",
      "Epoch 8/20\n",
      "49071/49071 [==============================] - 343s 7ms/step - loss: 3.1490 - acc: 0.1262 - val_loss: 3.2188 - val_acc: 0.1302\n",
      "Epoch 9/20\n",
      "49071/49071 [==============================] - 420s 9ms/step - loss: 3.0411 - acc: 0.1572 - val_loss: 3.1305 - val_acc: 0.1533\n",
      "Epoch 10/20\n",
      "49071/49071 [==============================] - 393s 8ms/step - loss: 2.9254 - acc: 0.1884 - val_loss: 3.0391 - val_acc: 0.1778\n",
      "Epoch 11/20\n",
      "49071/49071 [==============================] - 482s 10ms/step - loss: 2.8034 - acc: 0.2219 - val_loss: 2.9701 - val_acc: 0.1948\n",
      "Epoch 12/20\n",
      "49071/49071 [==============================] - 380s 8ms/step - loss: 2.6864 - acc: 0.2480 - val_loss: 2.8964 - val_acc: 0.2189\n",
      "Epoch 13/20\n",
      "49071/49071 [==============================] - 448s 9ms/step - loss: 2.5793 - acc: 0.2736 - val_loss: 2.8858 - val_acc: 0.2253\n",
      "Epoch 14/20\n",
      "49071/49071 [==============================] - 431s 9ms/step - loss: 2.4734 - acc: 0.3020 - val_loss: 2.8057 - val_acc: 0.2461\n",
      "Epoch 15/20\n",
      "49071/49071 [==============================] - 471s 10ms/step - loss: 2.3795 - acc: 0.3246 - val_loss: 2.7978 - val_acc: 0.2499\n",
      "Epoch 16/20\n",
      "49071/49071 [==============================] - 370s 8ms/step - loss: 2.3084 - acc: 0.3420 - val_loss: 2.7161 - val_acc: 0.2722\n",
      "Epoch 17/20\n",
      "49071/49071 [==============================] - 379s 8ms/step - loss: 2.2017 - acc: 0.3675 - val_loss: 2.7424 - val_acc: 0.2850\n",
      "Epoch 18/20\n",
      "49071/49071 [==============================] - 302s 6ms/step - loss: 2.1209 - acc: 0.3872 - val_loss: 2.7100 - val_acc: 0.2899\n",
      "Epoch 19/20\n",
      "49071/49071 [==============================] - 339s 7ms/step - loss: 2.0584 - acc: 0.4051 - val_loss: 2.6759 - val_acc: 0.3008\n",
      "Epoch 20/20\n",
      "49071/49071 [==============================] - 379s 8ms/step - loss: 1.9742 - acc: 0.4256 - val_loss: 2.6963 - val_acc: 0.3025\n",
      "49071/49071 [==============================] - 186s 4ms/step\n",
      "Training Accuracy: 0.4450\n",
      "16357/16357 [==============================] - 60s 4ms/step\n",
      "Testing Accuracy:  0.3025\n"
     ]
    }
   ],
   "source": [
    "history = model.fit(X_train, y_train,\n",
    "                    epochs=20,\n",
    "                    verbose=True,\n",
    "                    validation_data=(X_test, y_test),\n",
    "                   batch_size=1000)\n",
    "loss, accuracy = model.evaluate(X_train, y_train, verbose=True)\n",
    "print(\"Training Accuracy: {:.4f}\".format(accuracy))\n",
    "loss, accuracy = model.evaluate(X_test, y_test, verbose=True)\n",
    "print(\"Testing Accuracy:  {:.4f}\".format(accuracy))\n"
   ]
  },
  {
   "cell_type": "code",
   "execution_count": 14,
   "metadata": {},
   "outputs": [
    {
     "data": {
      "image/png": "[encoded data removed]",
      "text/plain": [
       "<Figure size 864x360 with 2 Axes>"
      ]
     },
     "metadata": {
      "needs_background": "light"
     },
     "output_type": "display_data"
    }
   ],
   "source": [
    "plot_history(history)"
   ]
  }
 ],
 "metadata": {
  "kernelspec": {
   "display_name": "Python 3",
   "language": "python",
   "name": "python3"
  },
  "language_info": {
   "codemirror_mode": {
    "name": "ipython",
    "version": 3
   },
   "file_extension": ".py",
   "mimetype": "text/x-python",
   "name": "python",
   "nbconvert_exporter": "python",
   "pygments_lexer": "ipython3",
   "version": "3.7.3"
  }
 },
 "nbformat": 4,
 "nbformat_minor": 1
}
