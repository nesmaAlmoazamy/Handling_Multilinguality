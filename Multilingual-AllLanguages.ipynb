{
 "cells": [
  {
   "cell_type": "markdown",
   "metadata": {},
   "source": [
    "# Multilingual Text Dataset\n",
<<<<<<< HEAD
    "\n"
=======
    "\n",
    "I created this dataset using free API from [Webhose](https://webhose.io/)\n",
    "\n",
    "This dataset contains blog posts labeled by language and by category."
>>>>>>> 65f3c07b440083170806a6429168b58d651692ed
   ]
  },
  {
   "cell_type": "code",
   "execution_count": 1,
   "metadata": {},
<<<<<<< HEAD
   "outputs": [
    {
     "name": "stderr",
     "output_type": "stream",
     "text": [
      "Using TensorFlow backend.\n"
     ]
    }
   ],
=======
   "outputs": [],
>>>>>>> 65f3c07b440083170806a6429168b58d651692ed
   "source": [
    "import seaborn as sn\n",
    "import pandas as pd\n",
    "import numpy as np\n",
    "import matplotlib.pyplot as plt\n",
<<<<<<< HEAD
    "from sklearn.preprocessing import LabelEncoder\n",
    "from sklearn.model_selection import train_test_split\n",
    "from keras.preprocessing.text import Tokenizer\n",
    "from keras.preprocessing.sequence import pad_sequences\n",
    "\n",
    "import keras\n",
    "from keras.models import Sequential\n",
    "from keras import layers\n",
    "from keras.layers import GRU,Dropout,BatchNormalization\n",
    "\n",
    "\n",
    "\n",
    "\n",
=======
>>>>>>> 65f3c07b440083170806a6429168b58d651692ed
    "%matplotlib inline "
   ]
  },
  {
   "cell_type": "markdown",
   "metadata": {},
   "source": [
<<<<<<< HEAD
    "**Create a dataframe**"
=======
    "First, I need to import data in a dataframe."
>>>>>>> 65f3c07b440083170806a6429168b58d651692ed
   ]
  },
  {
   "cell_type": "code",
   "execution_count": 2,
   "metadata": {},
   "outputs": [],
   "source": [
    "dataset = pd.read_csv('data/dataset.csv', sep='\\t', header=None).applymap(str)"
   ]
  },
  {
   "cell_type": "markdown",
   "metadata": {},
   "source": [
<<<<<<< HEAD
    "**List all languages that are exist in the dataset**"
=======
    "then I'm getting labels for languages"
>>>>>>> 65f3c07b440083170806a6429168b58d651692ed
   ]
  },
  {
   "cell_type": "code",
   "execution_count": 3,
   "metadata": {},
   "outputs": [
    {
     "data": {
      "text/plain": [
       "array(['english', 'albanian', 'arabic', 'bulgarian', 'chinese',\n",
       "       'croatian', 'czech', 'danish', 'dutch', 'estonian', 'finnish',\n",
       "       'french', 'german', 'greek', 'hebrew', 'hungarian', 'icelandic',\n",
       "       'italian', 'japanese', 'korean', 'lithuanian', 'norwegian',\n",
       "       'polish', 'portuguese', 'romanian', 'russian', 'serbian',\n",
       "       'slovenian', 'spanish', 'swedish', 'turkish', 'ukrainian'],\n",
       "      dtype=object)"
      ]
     },
     "execution_count": 3,
     "metadata": {},
     "output_type": "execute_result"
    }
   ],
   "source": [
    "languages = dataset[dataset.columns[0]].unique()\n",
    "languages"
   ]
  },
  {
   "cell_type": "markdown",
   "metadata": {},
   "source": [
<<<<<<< HEAD
    "**List all labels (categories)**"
=======
    "and labels for categories"
>>>>>>> 65f3c07b440083170806a6429168b58d651692ed
   ]
  },
  {
   "cell_type": "code",
   "execution_count": 4,
   "metadata": {},
   "outputs": [
    {
     "data": {
      "text/plain": [
<<<<<<< HEAD
       "array(['advertising', 'agriculture', 'animation', 'arts_and_crafts',\n",
       "       'entertainment', 'astrology', 'vehicles', 'games',\n",
       "       'books_and_literature', 'business', 'gambling', 'jobs', 'clothing',\n",
       "       'comic_books', 'dating', 'education', 'adult', 'food', 'health',\n",
       "       'hobbies_and_interests', 'humor', 'illegal_content', 'investing',\n",
       "       'jewelry', 'logistics', 'marketing', 'movies', 'music', 'hacking',\n",
       "       'media', 'finance', 'pets', 'politics', 'religion',\n",
       "       'sci_fi_and_fantasy', 'science', 'shopping', 'society', 'sports',\n",
       "       'tech', 'teens', 'television', 'travel', 'under_construction',\n",
       "       'weather'], dtype=object)"
=======
       "45"
>>>>>>> 65f3c07b440083170806a6429168b58d651692ed
      ]
     },
     "execution_count": 4,
     "metadata": {},
     "output_type": "execute_result"
    }
   ],
   "source": [
    "categories = dataset[dataset.columns[1]].unique()\n",
<<<<<<< HEAD
    "categories"
=======
    "len(categories)"
>>>>>>> 65f3c07b440083170806a6429168b58d651692ed
   ]
  },
  {
   "cell_type": "code",
   "execution_count": 5,
   "metadata": {},
   "outputs": [
    {
     "data": {
      "text/html": [
       "<div>\n",
       "<style scoped>\n",
       "    .dataframe tbody tr th:only-of-type {\n",
       "        vertical-align: middle;\n",
       "    }\n",
       "\n",
       "    .dataframe tbody tr th {\n",
       "        vertical-align: top;\n",
       "    }\n",
       "\n",
       "    .dataframe thead th {\n",
       "        text-align: right;\n",
       "    }\n",
       "</style>\n",
       "<table border=\"1\" class=\"dataframe\">\n",
       "  <thead>\n",
       "    <tr style=\"text-align: right;\">\n",
       "      <th></th>\n",
       "      <th>Language</th>\n",
       "      <th>Label</th>\n",
       "      <th>Text</th>\n",
       "    </tr>\n",
       "  </thead>\n",
       "  <tbody>\n",
       "    <tr>\n",
       "      <th>0</th>\n",
       "      <td>english</td>\n",
       "      <td>advertising</td>\n",
       "      <td>Exclusive: U.S. government seeks Facebook help...</td>\n",
       "    </tr>\n",
       "    <tr>\n",
       "      <th>1</th>\n",
       "      <td>english</td>\n",
       "      <td>advertising</td>\n",
       "      <td>Trump asks SEC to mull half-year corporate fil...</td>\n",
       "    </tr>\n",
       "    <tr>\n",
       "      <th>2</th>\n",
       "      <td>english</td>\n",
       "      <td>advertising</td>\n",
       "      <td>Wall St. up on trade hopes, S&amp;P equals longest...</td>\n",
       "    </tr>\n",
       "    <tr>\n",
       "      <th>3</th>\n",
       "      <td>english</td>\n",
       "      <td>advertising</td>\n",
       "      <td>Asian shares hit one-year low on Turkey, China...</td>\n",
       "    </tr>\n",
       "    <tr>\n",
       "      <th>4</th>\n",
       "      <td>english</td>\n",
       "      <td>advertising</td>\n",
       "      <td>Asian stocks weaken as Turkey worries weigh, d...</td>\n",
       "    </tr>\n",
       "  </tbody>\n",
       "</table>\n",
       "</div>"
      ],
      "text/plain": [
       "  Language        Label                                               Text\n",
       "0  english  advertising  Exclusive: U.S. government seeks Facebook help...\n",
       "1  english  advertising  Trump asks SEC to mull half-year corporate fil...\n",
       "2  english  advertising  Wall St. up on trade hopes, S&P equals longest...\n",
       "3  english  advertising  Asian shares hit one-year low on Turkey, China...\n",
       "4  english  advertising  Asian stocks weaken as Turkey worries weigh, d..."
      ]
     },
     "execution_count": 5,
     "metadata": {},
     "output_type": "execute_result"
    }
   ],
   "source": [
    "# Rename Dataset Columns\n",
    "dataset.columns = [\"Language\",\"Label\",\"Text\"]\n",
    "dataset.head()\n"
   ]
  },
  {
   "cell_type": "code",
   "execution_count": 6,
   "metadata": {},
   "outputs": [],
   "source": [
<<<<<<< HEAD
=======
    "from sklearn.preprocessing import LabelEncoder\n",
>>>>>>> 65f3c07b440083170806a6429168b58d651692ed
    "label_encoder = LabelEncoder()\n",
    "dataset[\"Label\"] = label_encoder.fit_transform(dataset[\"Label\"])"
   ]
  },
  {
   "cell_type": "code",
   "execution_count": 7,
   "metadata": {},
   "outputs": [],
   "source": [
    "Sentences = dataset.Text\n",
    "y = dataset.Label"
   ]
  },
  {
   "cell_type": "code",
   "execution_count": 8,
   "metadata": {},
   "outputs": [],
   "source": [
<<<<<<< HEAD
=======
    "from sklearn.model_selection import train_test_split\n",
    "\n",
>>>>>>> 65f3c07b440083170806a6429168b58d651692ed
    "sentences_train, sentences_test, y_train, y_test = train_test_split(\n",
    "   Sentences, y, test_size=0.25, random_state=1000)"
   ]
  },
  {
   "cell_type": "code",
   "execution_count": 9,
   "metadata": {},
<<<<<<< HEAD
   "outputs": [],
   "source": [
=======
   "outputs": [
    {
     "name": "stderr",
     "output_type": "stream",
     "text": [
      "Using TensorFlow backend.\n"
     ]
    }
   ],
   "source": [
    "from keras.preprocessing.text import Tokenizer\n",
    "\n",
>>>>>>> 65f3c07b440083170806a6429168b58d651692ed
    "tokenizer = Tokenizer(num_words=5000)\n",
    "tokenizer.fit_on_texts(sentences_train)\n",
    "\n",
    "X_train = tokenizer.texts_to_sequences(sentences_train)\n",
    "X_test = tokenizer.texts_to_sequences(sentences_test)\n",
    "\n",
    "vocab_size = len(tokenizer.word_index) + 1  # Adding 1 because of reserved 0 index\n",
    "\n"
   ]
  },
  {
   "cell_type": "code",
   "execution_count": 10,
   "metadata": {},
   "outputs": [],
   "source": [
    "def plot_history(history):\n",
    "    acc = history.history['acc']\n",
    "    val_acc = history.history['val_acc']\n",
    "    loss = history.history['loss']\n",
    "    val_loss = history.history['val_loss']\n",
    "    x = range(1, len(acc) + 1)\n",
    "\n",
    "    plt.figure(figsize=(12, 5))\n",
    "    plt.subplot(1, 2, 1)\n",
    "    plt.plot(x, acc, 'b', label='Training acc')\n",
    "    plt.plot(x, val_acc, 'r', label='Validation acc')\n",
    "    plt.title('Training and validation accuracy')\n",
    "    plt.legend()\n",
    "    plt.subplot(1, 2, 2)\n",
    "    plt.plot(x, loss, 'b', label='Training loss')\n",
    "    plt.plot(x, val_loss, 'r', label='Validation loss')\n",
    "    plt.title('Training and validation loss')\n",
    "    plt.legend()"
   ]
  },
  {
   "cell_type": "code",
   "execution_count": 11,
   "metadata": {},
   "outputs": [
    {
     "name": "stdout",
     "output_type": "stream",
     "text": [
      "[  89    2  649   21   43 2584    2  292   21    2  624  292    1    2\n",
      "  801  243    2    2  557    2 3480  292  975  292 1821    2  185  271\n",
      " 4809   59  975    2    2 1579    2 2145   27  438 1412 1907 2425  249\n",
      "  112 4973 1907   59  448   21    2  112   89    0    0    0    0    0\n",
      "    0    0    0    0    0    0    0    0    0    0    0    0    0    0\n",
      "    0    0    0    0    0    0    0    0    0    0    0    0    0    0\n",
      "    0    0    0    0    0    0    0    0    0    0    0    0    0    0\n",
      "    0    0]\n"
     ]
    }
   ],
   "source": [
<<<<<<< HEAD
=======
    "from keras.preprocessing.sequence import pad_sequences\n",
    "\n",
>>>>>>> 65f3c07b440083170806a6429168b58d651692ed
    "maxlen = 100\n",
    "\n",
    "X_train = pad_sequences(X_train, padding='post', maxlen=maxlen)\n",
    "X_test = pad_sequences(X_test, padding='post', maxlen=maxlen)\n",
    "\n",
<<<<<<< HEAD
=======
    "import keras\n",
>>>>>>> 65f3c07b440083170806a6429168b58d651692ed
    "y_train = keras.utils.to_categorical(y_train)\n",
    "y_test = keras.utils.to_categorical(y_test)\n",
    "\n",
    "print(X_train[0, :])\n"
   ]
  },
  {
   "cell_type": "code",
<<<<<<< HEAD
   "execution_count": 12,
=======
   "execution_count": 13,
>>>>>>> 65f3c07b440083170806a6429168b58d651692ed
   "metadata": {},
   "outputs": [
    {
     "name": "stdout",
     "output_type": "stream",
     "text": [
      "_________________________________________________________________\n",
      "Layer (type)                 Output Shape              Param #   \n",
      "=================================================================\n",
<<<<<<< HEAD
      "embedding_1 (Embedding)      (None, 100, 50)           77646200  \n",
=======
      "embedding_2 (Embedding)      (None, 100, 50)           77646200  \n",
>>>>>>> 65f3c07b440083170806a6429168b58d651692ed
      "_________________________________________________________________\n",
      "gru_1 (GRU)                  (None, 256)               235776    \n",
      "_________________________________________________________________\n",
      "dropout_1 (Dropout)          (None, 256)               0         \n",
      "_________________________________________________________________\n",
      "dense_1 (Dense)              (None, 45)                11565     \n",
      "=================================================================\n",
      "Total params: 77,893,541\n",
      "Trainable params: 77,893,541\n",
      "Non-trainable params: 0\n",
      "_________________________________________________________________\n"
     ]
    }
   ],
   "source": [
<<<<<<< HEAD
=======
    "from keras.models import Sequential\n",
    "from keras import layers\n",
    "from keras.layers import GRU,Dropout,BatchNormalization\n",
    "\n",
    "\n",
>>>>>>> 65f3c07b440083170806a6429168b58d651692ed
    "embedding_dim = 50\n",
    "\n",
    "model = Sequential()\n",
    "model.add(layers.Embedding(input_dim=vocab_size, \n",
    "                           output_dim=embedding_dim, \n",
    "                           input_length=maxlen))\n",
    "model.add(GRU(256))\n",
    "model.add(Dropout(0.2))\n",
    "model.add(layers.Dense(45, activation='sigmoid'))\n",
    "model.compile(optimizer='adam',\n",
    "              loss='categorical_crossentropy',\n",
    "              metrics=['accuracy'])\n",
    "model.summary()\n"
   ]
  },
  {
   "cell_type": "code",
<<<<<<< HEAD
   "execution_count": 13,
=======
   "execution_count": 14,
>>>>>>> 65f3c07b440083170806a6429168b58d651692ed
   "metadata": {},
   "outputs": [
    {
     "name": "stdout",
     "output_type": "stream",
     "text": [
      "Train on 49071 samples, validate on 16357 samples\n",
      "Epoch 1/20\n",
<<<<<<< HEAD
      "49071/49071 [==============================] - 182s 4ms/step - loss: 3.6117 - acc: 0.0788 - val_loss: 3.5162 - val_acc: 0.0832\n",
      "Epoch 2/20\n",
      "49071/49071 [==============================] - 182s 4ms/step - loss: 3.4973 - acc: 0.0823 - val_loss: 3.4538 - val_acc: 0.0842\n",
      "Epoch 3/20\n",
      "49071/49071 [==============================] - 200s 4ms/step - loss: 3.4346 - acc: 0.0836 - val_loss: 3.4164 - val_acc: 0.0851\n",
      "Epoch 4/20\n",
      "49071/49071 [==============================] - 214s 4ms/step - loss: 3.3857 - acc: 0.0831 - val_loss: 3.3781 - val_acc: 0.0858\n",
      "Epoch 5/20\n",
      "49071/49071 [==============================] - 238s 5ms/step - loss: 3.3356 - acc: 0.0871 - val_loss: 3.3791 - val_acc: 0.0869\n",
      "Epoch 6/20\n",
      "49071/49071 [==============================] - 433s 9ms/step - loss: 3.3033 - acc: 0.0928 - val_loss: 3.3246 - val_acc: 0.0981\n",
      "Epoch 7/20\n",
      "49071/49071 [==============================] - 316s 6ms/step - loss: 3.2394 - acc: 0.1002 - val_loss: 3.2805 - val_acc: 0.1065\n",
      "Epoch 8/20\n",
      "49071/49071 [==============================] - 343s 7ms/step - loss: 3.1490 - acc: 0.1262 - val_loss: 3.2188 - val_acc: 0.1302\n",
      "Epoch 9/20\n",
      "49071/49071 [==============================] - 420s 9ms/step - loss: 3.0411 - acc: 0.1572 - val_loss: 3.1305 - val_acc: 0.1533\n",
      "Epoch 10/20\n",
      "49071/49071 [==============================] - 393s 8ms/step - loss: 2.9254 - acc: 0.1884 - val_loss: 3.0391 - val_acc: 0.1778\n",
      "Epoch 11/20\n",
      "49071/49071 [==============================] - 482s 10ms/step - loss: 2.8034 - acc: 0.2219 - val_loss: 2.9701 - val_acc: 0.1948\n",
      "Epoch 12/20\n",
      "49071/49071 [==============================] - 380s 8ms/step - loss: 2.6864 - acc: 0.2480 - val_loss: 2.8964 - val_acc: 0.2189\n",
      "Epoch 13/20\n",
      "49071/49071 [==============================] - 448s 9ms/step - loss: 2.5793 - acc: 0.2736 - val_loss: 2.8858 - val_acc: 0.2253\n",
      "Epoch 14/20\n",
      "49071/49071 [==============================] - 431s 9ms/step - loss: 2.4734 - acc: 0.3020 - val_loss: 2.8057 - val_acc: 0.2461\n",
      "Epoch 15/20\n",
      "49071/49071 [==============================] - 471s 10ms/step - loss: 2.3795 - acc: 0.3246 - val_loss: 2.7978 - val_acc: 0.2499\n",
      "Epoch 16/20\n",
      "49071/49071 [==============================] - 370s 8ms/step - loss: 2.3084 - acc: 0.3420 - val_loss: 2.7161 - val_acc: 0.2722\n",
      "Epoch 17/20\n",
      "49071/49071 [==============================] - 379s 8ms/step - loss: 2.2017 - acc: 0.3675 - val_loss: 2.7424 - val_acc: 0.2850\n",
      "Epoch 18/20\n",
      "49071/49071 [==============================] - 302s 6ms/step - loss: 2.1209 - acc: 0.3872 - val_loss: 2.7100 - val_acc: 0.2899\n",
      "Epoch 19/20\n",
      "49071/49071 [==============================] - 339s 7ms/step - loss: 2.0584 - acc: 0.4051 - val_loss: 2.6759 - val_acc: 0.3008\n",
      "Epoch 20/20\n",
      "49071/49071 [==============================] - 379s 8ms/step - loss: 1.9742 - acc: 0.4256 - val_loss: 2.6963 - val_acc: 0.3025\n",
      "49071/49071 [==============================] - 186s 4ms/step\n",
      "Training Accuracy: 0.4450\n",
      "16357/16357 [==============================] - 60s 4ms/step\n",
      "Testing Accuracy:  0.3025\n"
=======
      "49071/49071 [==============================] - 195s 4ms/step - loss: 3.6106 - acc: 0.0726 - val_loss: 3.5151 - val_acc: 0.0835\n",
      "Epoch 2/20\n",
      "49071/49071 [==============================] - 190s 4ms/step - loss: 3.4889 - acc: 0.0815 - val_loss: 3.4552 - val_acc: 0.0850\n",
      "Epoch 3/20\n",
      "49071/49071 [==============================] - 185s 4ms/step - loss: 3.4285 - acc: 0.0837 - val_loss: 3.4199 - val_acc: 0.0846\n",
      "Epoch 4/20\n",
      "49071/49071 [==============================] - 191s 4ms/step - loss: 3.3733 - acc: 0.0864 - val_loss: 3.3691 - val_acc: 0.0867\n",
      "Epoch 5/20\n",
      "49071/49071 [==============================] - 201s 4ms/step - loss: 3.3260 - acc: 0.0907 - val_loss: 3.3769 - val_acc: 0.0894\n",
      "Epoch 6/20\n",
      "49071/49071 [==============================] - 211s 4ms/step - loss: 3.2838 - acc: 0.0935 - val_loss: 3.3269 - val_acc: 0.0912\n",
      "Epoch 7/20\n",
      "49071/49071 [==============================] - 195s 4ms/step - loss: 3.2207 - acc: 0.1038 - val_loss: 3.2688 - val_acc: 0.1033\n",
      "Epoch 8/20\n",
      "49071/49071 [==============================] - 192s 4ms/step - loss: 3.1360 - acc: 0.1245 - val_loss: 3.1876 - val_acc: 0.1240\n",
      "Epoch 9/20\n",
      "49071/49071 [==============================] - 194s 4ms/step - loss: 3.0597 - acc: 0.1459 - val_loss: 3.1322 - val_acc: 0.1404\n",
      "Epoch 10/20\n",
      "49071/49071 [==============================] - 195s 4ms/step - loss: 2.9461 - acc: 0.1759 - val_loss: 3.0459 - val_acc: 0.1688\n",
      "Epoch 11/20\n",
      "49071/49071 [==============================] - 158s 3ms/step - loss: 2.8299 - acc: 0.2070 - val_loss: 3.0029 - val_acc: 0.1848\n",
      "Epoch 12/20\n",
      "49071/49071 [==============================] - 154s 3ms/step - loss: 2.7295 - acc: 0.2329 - val_loss: 2.9088 - val_acc: 0.2062\n",
      "Epoch 13/20\n",
      "49071/49071 [==============================] - 202s 4ms/step - loss: 2.6193 - acc: 0.2603 - val_loss: 2.8791 - val_acc: 0.2172\n",
      "Epoch 14/20\n",
      "49071/49071 [==============================] - 192s 4ms/step - loss: 2.5179 - acc: 0.2834 - val_loss: 2.8372 - val_acc: 0.2365\n",
      "Epoch 15/20\n",
      "49071/49071 [==============================] - 207s 4ms/step - loss: 2.4150 - acc: 0.3124 - val_loss: 2.8446 - val_acc: 0.2343\n",
      "Epoch 16/20\n",
      "49071/49071 [==============================] - 206s 4ms/step - loss: 2.3322 - acc: 0.3326 - val_loss: 2.7593 - val_acc: 0.2662\n",
      "Epoch 17/20\n",
      "49071/49071 [==============================] - 194s 4ms/step - loss: 2.2351 - acc: 0.3580 - val_loss: 2.7172 - val_acc: 0.2696\n",
      "Epoch 18/20\n",
      "49071/49071 [==============================] - 194s 4ms/step - loss: 2.1651 - acc: 0.3722 - val_loss: 2.6927 - val_acc: 0.2874\n",
      "Epoch 19/20\n",
      "49071/49071 [==============================] - 194s 4ms/step - loss: 2.0885 - acc: 0.3922 - val_loss: 2.6712 - val_acc: 0.2964\n",
      "Epoch 20/20\n",
      "49071/49071 [==============================] - 192s 4ms/step - loss: 2.0143 - acc: 0.4091 - val_loss: 2.6596 - val_acc: 0.2931\n",
      "49071/49071 [==============================] - 62s 1ms/step\n",
      "Training Accuracy: 0.4352\n",
      "16357/16357 [==============================] - 21s 1ms/step\n",
      "Testing Accuracy:  0.2931\n"
>>>>>>> 65f3c07b440083170806a6429168b58d651692ed
     ]
    }
   ],
   "source": [
    "history = model.fit(X_train, y_train,\n",
    "                    epochs=20,\n",
    "                    verbose=True,\n",
    "                    validation_data=(X_test, y_test),\n",
    "                   batch_size=1000)\n",
    "loss, accuracy = model.evaluate(X_train, y_train, verbose=True)\n",
    "print(\"Training Accuracy: {:.4f}\".format(accuracy))\n",
    "loss, accuracy = model.evaluate(X_test, y_test, verbose=True)\n",
    "print(\"Testing Accuracy:  {:.4f}\".format(accuracy))\n"
   ]
  },
  {
   "cell_type": "code",
<<<<<<< HEAD
   "execution_count": 14,
=======
   "execution_count": 15,
>>>>>>> 65f3c07b440083170806a6429168b58d651692ed
   "metadata": {},
   "outputs": [
    {
     "data": {
<<<<<<< HEAD
      "image/png": "iVBORw0KGgoAAAANSUhEUgAAAswAAAE/CAYAAABSP5UwAAAABHNCSVQICAgIfAhkiAAAAAlwSFlzAAALEgAACxIB0t1+/AAAADl0RVh0U29mdHdhcmUAbWF0cGxvdGxpYiB2ZXJzaW9uIDMuMC4yLCBodHRwOi8vbWF0cGxvdGxpYi5vcmcvOIA7rQAAIABJREFUeJzs3XmczWX7wPHPZazJFiqR9ZEsw2BCIUsSlbWNEEpKpJJKGx7qadEi/TxFe1LSohRFpNDG2LO1oCeRfc065vr9cZ3RMc1ymOWcmbner9d5Ocv9/Z7rnDO+5zr397rvW1QV55xzzjnnXPLyhDsA55xzzjnnIpknzM4555xzzqXCE2bnnHPOOedS4Qmzc84555xzqfCE2TnnnHPOuVR4wuycc84551wqPGHOpkQkSkT2i0j5jGwbTiLyLxHJ8HkORaSViGwIur1WRJqG0vYUnutlEXngVLd3zrnk+DH/pPab7Y/5IvKIiLye0ft1py5vuAPILURkf9DN04DDwLHA7VtUdeLJ7E9VjwGnZ3Tb3EBVq2XEfkSkD9BdVZsH7btPRuzbOZe9+TE/cvgx32UET5iziKoeP3gFfs32UdVZKbUXkbyqGp8VsTmXFv97dO7k+DHfuZzFSzIiROD0y7si8o6I7AO6i8iFIvK9iOwWkc0iMkZE8gXa5xURFZGKgdtvBR7/TET2ich3IlLpZNsGHm8rIj+JyB4ReV5EvhGRXinEHUqMt4jILyKyS0TGBG0bJSLPisgOEVkHtEnl/XlQRCYluW+siDwTuN5HRFYHXs+vgZ6AlPa1UUSaB66fJiITArGtBOonafuQiKwL7HeliLQP3B8N/B/QNHDqc3vQezs8aPtbA699h4h8JCJlQnlvTuZ9ToxHRGaJyE4R+VNE7g16nocD78leEYkTkXOSOxUqIvMTP+fA+zk38Dw7gYdEpKqIzAk8x/bA+1YsaPsKgde4LfD4cyJSMBBz9aB2ZUTkgIiUTOn1OpfT+THfj/mpHfOTeQ2dAvHsFpEvRaRa0GMPiMimwDF+TdBrbSQiiwP3bxGRUaE+n0uGqvoliy/ABqBVkvseAY4A7bAfMoWAC4CG2JmAysBPwIBA+7yAAhUDt98CtgOxQD7gXeCtU2h7JrAP6BB4bBBwFOiVwmsJJcaPgWJARWBn4msHBgArgXJASWCu/Ukm+zyVgf1A4aB9bwViA7fbBdoI0BI4CNQOPNYK2BC0r41A88D1p4CvgBJABWBVkrbXAmUCn8n1gRjOCjzWB/gqSZxvAcMD11sHYowBCgL/Bb4M5b05yfe5GLAFuAMoABQFGgQeux9YBlQNvIYY4AzgX0nfa2B+4ucceG3xQD8gCvt7PA+4BMgf+Dv5Bngq6PX8GHg/CwfaNw48Nh54NOh57gamhPv/oV/8klUX/Jjvx/yTP+Y/ArweuF49EEfLwGf0ALA2cL0m8BtwdqBtJaBy4PpCoGvgehGgYbj/L2Tni/cwR5b5qvqJqiao6kFVXaiqP6hqvKquwxKPZqls/76qxqnqUWAi9p/2ZNteCSxV1Y8Djz2LHWiTFWKMj6nqHlXdgB2oEp/rWuBZVd2oqjuAx1N5nnVYQtYhcNelwC5VjQs8/omqrlPzJTAbSHaQRxLXAo+o6i5V/Q3rQQh+3smqujnwmbyNffHFhrBfgG7Ay6q6VFUPAUOAZiJSLqhNSu/NCdJ4n9sD/1PV51T1sKruVdUFgcf6AA+o6s+B17BUVXeGGP//VPUFVT0W+Hv8SVVnq+oRVd2K/W0kxnAhUAq4T1X/CrT/JvDYG8D1IiKB2z2ACSHG4FxO5sf8lJ8nVx/zk+gCTFXVLwOf0eNY0t0Q69goCNQUK+tZH3jvwH74VBWRkqq6T1V/CPF1uGR4whxZfg++ISLni8g0sVPse4ERWFKSkj+Drh8g9UEfKbU9JzgOVVXs13myQowxpOfCfiWn5m2ga+D69YHbiXFcKSI/iJUL7MZ+6af2XiUqk1oMItJLRJYFToPtBs4Pcb9gr+/4/lR1L7ALKBvUJqTPLI33+Vzg1xRiSO2xtCT9ezxbRCaLyB+BGF5PEsMGtcFGJwgkzvFAExGpBZQHpp1iTM7lJH7MT12uPeansd8E7DMqq6prsbN2I4CtYiU+Zwea9gZqAGtFZIGIXB7i63DJ8IQ5siSdXmcc9gv7X6paFBiKnX7KTJux02UABHoFy6bcPF0xbsYSrURpTYE0GWglImWxXoe3AzEWAt4HHsNOnRUHZoYYx58pxSAilYEXsLKEkoH9rgnab1rTIW3CTvkl7q8IdhrwjxDiSiq19/l3oEoK26X02F+BmE4Luu/sJG2Svr4nsJH+0YEYeiWJoYKIRKUQx5tAd6x3ebKqHk6hnXO5iR/zU5ebj/mp7TcP9pn9AaCqb6lqY6wcIwp7X1DVtaraBSu7eRr4QEQKpjOWXMsT5shWBNgD/CU2aOqWLHjOT4F6ItJORPJidbGlMynGycCdIlJWbADYfak1VtU/sTrb14G1qvpz4KECWF3tNuCYiFyJ1dqGGsMDIlJcbM7SAUGPnY4dILdh3yM3Y70NibYA5SRo8F0S7wA3iUhtESmAHcTmqWqKvTepSO19ngqUF5EBIlJARIqKSIPAYy8Dj4hIFTExInIG9qXxJzbQKEpE+hJ0QE4lhr+APSJyLjA46LHvgB3Af8QG1RQSkcZBj08ArsZ6id48hdfvXG7gx/wgufyYnzTm9iLSPPDc92B15z+ISHURaRF4voOBSwL2AnqISKlAj/SewGtLSGcsuZYnzJHtbqAn9h9jHDZQI1Op6hbgOuAZLAGqAizBehYzOsYXsLqzFdjghPdD2OZtbEDH8VNzqrobuAuYgg2iuBr7EgjFMKzXYwPwGUHJnKouB54HFgTaVAOCa8C+AH4GtohI8Gm2xO0/x06TTQlsXx6rcTsVKb7PqroHq++7Cjug/8TfNYWjgI+w93kvVm9YMHDa9WZs8Mh2bBBgWvVtw4AG2IF3KvBBUAzxWC1kday3+X/Y55D4+Abscz6sqt+e5Gt3LrfwY/4/5dZjfvB+V2Lv+QtYMt8GaB+oZy4APIkdx//EerQfDGx6ObBabBaWp4DrVPVIeuPJrcS+N51LXuAU+ybgalWdF+54XPYlIm8C61R1eLhjcc4lz4/5ziXPe5jdP4hIm8DpqgLAw9hI2wVpbOZcigK1gR2AV8Mdi3PuRH7Mdy5tnjC75DQB1mGnfi4DOvkgLXeqROQxbC7o/6jq/8Idj3PuH/yY71wavCTDOeecc865VHgPs3POOeecc6nwhNk555xzzrlU5A13AEmVKlVKK1asGO4wnHPulCxatGi7qqY2j22O48dt51x2FeoxO+IS5ooVKxIXFxfuMJxz7pSISFrL/eY4ftx2zmVXoR6zvSTDOeecc865VHjC7JxzzjnnXCo8YXbOOeeccy4VEVfDnJyjR4+yceNGDh06FO5QXCoKFixIuXLlyJcvX7hDcc455zKV5ybZS3pzlGyRMG/cuJEiRYpQsWJFRCTc4bhkqCo7duxg48aNVKpUKdzhOOecc5nKc5PsIyNylGxRknHo0CFKlizpf5ARTEQoWbKk/9J2zjmXK3hukn1kRI6SLRJmwP8gswH/jJxzzuUm/r2XfaT3s8o2CXM47dixg5iYGGJiYjj77LMpW7bs8dtHjhwJaR+9e/dm7dq1qbYZO3YsEydOzIiQnXPOOZeDZcfcpEmTJixdujRD9pXVskUNc7iVLFny+Ac8fPhwTj/9dAYPHnxCG1VFVcmTJ/nfIK+99lqaz9O/f//0B+ucc865HM9zk6zlPczp8Msvv1CjRg26detGzZo12bx5M3379iU2NpaaNWsyYsSI420Tf1XFx8dTvHhxhgwZQp06dbjwwgvZunUrAA899BCjR48+3n7IkCE0aNCAatWq8e233wLw119/cdVVV1GjRg2uvvpqYmNjk/21NmzYMC644AJq1arFrbfeiqoC8NNPP9GyZUvq1KlDvXr12LBhAwD/+c9/iI6Opk6dOjz44IOZ+bY5F/FmzYJ588IdRc515AiMGgWHD4c7EudynkjOTYK99dZbREdHU6tWLR544AEA4uPj6dGjx/H7x4wZA8Czzz5LjRo1qF27Nt27d8/w9ywUnjCn05o1a7jrrrtYtWoVZcuW5fHHHycuLo5ly5bxxRdfsGrVqn9ss2fPHpo1a8ayZcu48MILefXVV5Pdt6qyYMECRo0adfwP/Pnnn+fss89m1apVPPzwwyxZsiTZbe+44w4WLlzIihUr2LNnD59//jkAXbt25a677mLZsmV8++23nHnmmXzyySd89tlnLFiwgGXLlnH33Xdn0LvjXPYzaxa0awdDhkDgd6bLYF99BffeC7fc4u+xc5khUnOTRBs3buShhx5izpw5LFmyhG+++YZPP/2URYsWsX37dlasWMGPP/7IDTfcAMCTTz7J0qVLWb58Of/3f/+Xznfn1GS7kow774SMLn+JiYHAj6eTVqVKFWJjY4/ffuedd3jllVeIj49n06ZNrFq1iho1apywTaFChWjbti0A9evXZ14KXVmdO3c+3iaxJ3j+/Pncd999ANSpU4eaNWsmu+3s2bMZNWoUhw4dYvv27dSvX59GjRqxfft22rVrB9ichACzZs3ixhtvpFChQgCcccYZp/JWOJftJSbLVavCxx+Dj+fJHK1bw/DhdqleHQKHNOeyLc9NQstNEv3www+0bNmSUqVKAXD99dczd+5c7rvvPtauXcvAgQO54ooraN26NQA1a9ake/fudOjQgY4dO57ku5ExvIc5nQoXLnz8+s8//8xzzz3Hl19+yfLly2nTpk2yU5jkz5//+PWoqCji4+OT3XeBAgXSbJOcAwcOMGDAAKZMmcLy5cu58cYbfbo359IQnCx/+SUEjuMukwwdCl27Wk/+hx+GOxrncpZIzE1CUbJkSZYvX07Tpk0ZO3Yst9xyCwAzZszg1ltvZeHChTRo0IBjx45l6POGItv1MJ/qr62ssHfvXooUKULRokXZvHkzM2bMoE2bNhn6HI0bN2by5Mk0bdqUFStWJHta5eDBg+TJk4dSpUqxb98+PvjgA7p160aJEiUoXbo0n3zyCe3atePQoUMkJCRw6aWX8sQTT9ClSxcKFSrEzp07vZfZ5SqeLGc9EXj1VVi/Hrp3t5rx+vXDHZVzp8Zzk7Rzk2ANGzZk8ODB7Nixg2LFijFp0iQGDx7Mtm3bKFiwINdccw1Vq1alT58+HDt2jI0bN9KyZUuaNGnCueeey4EDByhSpEiGvoa0ZLuEOZLVq1ePGjVqcP7551OhQgUaN26c4c9x++23c8MNN1CjRo3jl2LFip3QpmTJkvTs2ZMaNWpQpkwZGjZsePyxiRMncsstt/Dggw+SP39+PvjgA6688kqWLVtGbGws+fLlo127dowcOTLDY3cuEnmyHD4FC8JHH0GDBtC+PSxYAGXLhjsq53KWSMlNgpUrV46RI0fSvHlzVJV27dpxxRVXsHjxYm666SZUFRHhiSeeID4+nuuvv559+/aRkJDA4MGDszxZBhCNsBEXsbGxGhcXd8J9q1evpnr16mGKKLLEx8cTHx9PwYIF+fnnn2ndujU///wzefNGxm8f/6xcdpIZybKILFLV2LRb5hzJHbdPxooVcNFFcN55MHcuBJ1Ndi5i+ffd3yI9N0mU3GcW6jE7sl6JS9P+/fu55JJLiI+PR1UZN25cxP1BOpcdeM9y5IiOhkmTrJe5Rw94/31IYdpY51wEyg25Sc56NblA8eLFWbRoUbjDcC5b82Q58lxxBTzzjM028OCD8Nhj4Y7IOReq3JCbeMLsnMtVPFmOXAMHwpo18PjjUK0a9OoV7oicc874SS/nXK7hyXJkE4ExY6BVK+jb1+qZnXMuEnjC7JzLFTxZzh7y5YP33oMqVaBTJ/jll3BH5JxznjA753IBT5azl+LF4dNPrcf5yith165wR+Scy+08YQ5BixYtmDFjxgn3jR49mn79+qW63emnnw7Apk2buPrqq5Nt07x5c9Kajmn06NEcOHDg+O3LL7+c3bt3hxK6c7meJ8vZU5UqtgLgunVw7bVw9Gi4I3IusuTU3GT48OE89dRT6d5PRvOEOQRdu3Zl0qRJJ9w3adIkunbtGtL255xzDu+///4pP3/SP8rp06dTvHjxU96fc7lFbkyWRaSgiCwQkWUislJE/p1Mm14isk1ElgYufYIe6ykiPwcuPTMt0C1b0mxy8cUwfrx9jrffDhG2bIBzYeW5SdbyhDkEV199NdOmTePIkSMAbNiwgU2bNtG0adPjcw/Wq1eP6OhoPv74439sv2HDBmrVqgXYstVdunShevXqdOrUiYMHDx5v169fP2JjY6lZsybDhg0DYMyYMWzatIkWLVrQokULACpWrMj27dsBeOaZZ6hVqxa1atVidGBtzg0bNlC9enVuvvlmatasSevWrU94nkSffPIJDRs2pG7durRq1YotgS+w/fv307t3b6Kjo6lduzYffPABAJ9//jn16tWjTp06XHLJJRny3jqXWaZNy33JcsBhoKWq1gFigDYi0iiZdu+qakzg8jKAiJwBDAMaAg2AYSJSIsMj/P57qFABhg2Dw4dTbdqrFwwZAuPG2YBA55zJqblJsKVLl9KoUSNq165Np06d2BWozxozZgw1atSgdu3adOnSBYCvv/6amJgYYmJiqFu3Lvv27Tvl9zZZqprmBWgDrAV+AYak0u4qQIHYoPvuD2y3FrgsreeqX7++JrVq1ap/3JfVrrjiCv3oo49UVfWxxx7Tu+++W1VVjx49qnv27FFV1W3btmmVKlU0ISFBVVULFy6sqqrr16/XmjVrqqrq008/rb1791ZV1WXLlmlUVJQuXLhQVVV37Nihqqrx8fHarFkzXbZsmaqqVqhQQbdt23Y8lsTbcXFxWqtWLd2/f7/u27dPa9SooYsXL9b169drVFSULlmyRFVVr7nmGp0wYcI/XtPOnTuPx/rSSy/poEGDVFX13nvv1TvuuOOEdlu3btVy5crpunXrTog1qUj4rJx78UXVPHlU69dXDfqvkyWAOA3huJoVF+A0YDHQMMn9vYD/S6Z9V2Bc0O1xQNe0nie543aqtm9X7dFDFVRr1FD97rtUmx87ptqpk32mn356ck/lXGaJhO+7nJibDBs2TEeNGqWqqtHR0frVV1+pqurDDz98PDcpU6aMHjp0SFVVd+3apaqqV155pc6fP19VVfft26dHjx79x76T+8xCPWanOQ+ziEQBY4FLgY3AQhGZqqqrkrQrAtwB/BB0Xw2gC1ATOAeYJSLnqeqxk0nqT3DnnbB06SlvnqyYGAj8AkpJ4qmPDh06MGnSJF555RXAfnA88MADzJ07lzx58vDHH3+wZcsWzj777GT3M3fuXAYOHAhA7dq1qV279vHHJk+ezPjx44mPj2fz5s2sWrXqhMeTmj9/Pp06daJwYB3Zzp07M2/ePNq3b0+lSpWIiYkBoH79+mzYsOEf22/cuJHrrruOzZs3c+TIESpVqgTArFmzTjjNU6JECT755BMuvvji423OOOOMVN8v58IhIQEeesgWvbj8cnj3XQiU6+UqgeP2IuBfwFhV/SGZZleJyMXAT8Bdqvo7UBb4PajNxsB9GatkSXjzTejaFW65xdbFHjgQHnkk2Q8sTx6YMMFKNLp0gW+/tdUBnYsYnpscl97cJNGePXvYvXs3zZo1A6Bnz55cc801x2Ps1q0bHTt2pGPHjgA0btyYQYMG0a1bNzp37ky5cuVSfe9OViglGQ2AX1R1naoeASYBHZJpNxJ4AjgUdF8HYJKqHlbV9VhPc4N0xhwWHTp0YPbs2SxevJgDBw5Qv359ACZOnMi2bdtYtGgRS5cu5ayzzuLQoUNp7O2f1q9fz1NPPcXs2bNZvnw5V1xxxSntJ1GBAgWOX4+KiiI+Pv4fbW6//XYGDBjAihUrGDduXLqez7lwO3IEbrjBkuW+feHjj3NnsgygqsdUNQYoBzQQkVpJmnwCVFTV2sAXwBsn+xwi0ldE4kQkbtu2bacWaNu2sHIl9O8Pzz0HtWrBzJnJNi1cGKZOhaJFoXlzeOstr2l2LifmJqGYNm0a/fv3Z/HixVxwwQXEx8czZMgQXn75ZQ4ePEjjxo1Zs2bNKceZnFBW+kuux6FhcAMRqQecq6rTROSeJNt+n2Tb9PVWpPFrK7OcfvrptGjRghtvvPGEgvo9e/Zw5plnki9fPubMmcNvv/2W6n4uvvhi3n77bVq2bMmPP/7I8uXLAdi7dy+FCxemWLFibNmyhc8++4zmzZsDUKRIEfbt20epJEWYTZs2pVevXgwZMgRVZcqUKUyYMCHk17Rnzx7KlrWP4403/v6+vPTSSxk7duzxuqNdu3bRqFEjbrvtNtavX0+lSpXYuXOn9zK7iLF7N3TuDHPmwKOPwv3325RkuZ2q7haROVhZ3Y9B9+8IavYy8GTg+h9A86DHygFfpbDv8cB4gNjY2FNPXYsUgeefh+uugz594LLLrHD56achyTGmbFn7jHv2hB494J134MUX4dxzT/nZncsYnpscl97cJFGxYsUoUaIE8+bNo2nTpkyYMIFmzZqRkJDA77//TosWLWjSpAmTJk1i//797Nixg+joaKKjo1m4cCFr1qzh/PPPP+nnTUm6B/2JSB7gGeDudOwj/T0VWaBr164sW7bshD/Kbt26ERcXR3R0NG+++WaaH06/fv3Yv38/1atXZ+jQocd/DdapU4e6dety/vnnc/3119O4cePj2/Tt25c2bdocL6xPVK9ePXr16kWDBg1o2LAhffr0oW7duiG/nuHDh3PNNddQv379E/7gH3roIXbt2kWtWrWoU6cOc+bMoXTp0owfP57OnTtTp04drrvuupCfx7nM9L//QZMmMH++nbZ/4IHcnSyLSGkRKR64Xggrp1uTpE2ZoJvtgdWB6zOA1iJSIjDYr3XgvszXpImd0n7wQfsga9SA99//RzfyeefZZz16NHz1FdSsCS+8YOU4zuVGOS03CfbGG29wzz33ULt2bZYuXcrQoUM5duwY3bt3Jzo6mrp16zJw4ECKFy/O6NGjqVWrFrVr1yZfvny0bdv2lJ4zJaJpnNMSkQuB4ap6WeD2/QCq+ljgdjHgV2B/YJOzgZ3YQfjSJG1nBPb1XUrPFxsbq0nn/lu9ejXVq1c/2dfmwsA/K5eVli6FK66A/fthyhRo2TLcEYGILFLV2DA+f22sxCIK6xSZrKojRGQENrhlqog8hh2j47HjdT9VXRPY/kbggcDuHlXV19J6zuSO2+mydCncdBMsXmzL/Y0dC2XK/KPZ+vVWfjNrltU3v/yyzYriXFbw77vsJ7nPLNRjdig9zAuBqiJSSUTyY4P4piY+qKp7VLWUqlZU1YpYCUZ7VY0LtOsiIgVEpBJQFVgQ6gtzzrmUzJwJTZvagLBvvomMZDkSqOpyVa2rqrVVtZaqjgjcP1RVpwau36+qNVW1jqq2SEyWA4+9qqr/ClzSTJYzRUwM/PADPPkkfPYZVK8Or7zyj97mSpXs7+CVV2DZMqhd2zY5xbJI55xLUZoJs6rGAwOw03Krsd6KlSIyQkTap7HtSmAysAr4HOifrhkynHMOeO0161muXNmm9K2VdEiby/7y5oV77oHlyy2B7tMHWrWCX389oZkI3HgjrFoFbdrAffdBo0aWQDvnXEYJqYZZVaer6nmqWkVVHw3cd7y3Iknb5oHe5cTbjwa2q6aqn2Vc6M653EYVhg+3BKlFC5g3zwaCuRwsceWZF1+EuDibT27kSPjzzxOanXOOLaU9eTL8/jvExsLDD6e5LopzzoUk26z0l1attQs//4xcZjp61Mpa//1vm0Rh2jSbYszlAnny2HzNK1dC69YwdCiUKwcdOthcc4EaDBG45hrrbb7+epvWuW5d+C7FUTPOpY9/72Uf6f2sskXCXLBgQXbs2OF/mBFMVdmxYwcFCxYMdyguB9q7F6680koxhg2DV1+FfPnCHZXLcuXKwUcfwZo1cPfdVufcoQOUL29zCf78M2DrorzxBkyfbgNCGze2dSX++ivM8bscxXOT7CMjcpQ0Z8nIasmNtj569CgbN270hTUiXMGCBSlXrhz5PJNxGWjTJlu178cfYfx4K8eIZOGeJSMcMnyWjFAdPWpZ8Suv2CmHhARo1sxORVx1FZx2Gvv2wZAh8N//QsWKNijwqqus09q59PDcJHtJKUcJ9ZidLRJm51zu9MsvcMklsHOnTcl72WXhjihtnjCHyaZN1q38yis2MLBoUavL6NMH6tVj7jyhXz8r14iOttKejh1z95zdzrmMnVbOOeey3KpVNrfuX3/B119nj2TZhdE55/xdlvHVV9C+Pbz+uo3+q1uXi5c9z/KvdjJxog0E7NwZ6tWzEugI6zdyzkUgT5idcxFn6VI7s65qyXK9euGOyGUbIvbHM2ECbN5stRh588LAgUSdew7XT+vGyhe+5s03lH37rAT6ggusosMTZ+dcSjxhds5FlAULbMq4QoVg7lxb+ti5U1K8OPTrZ9PRLVkCN98M06aR95Lm9Hj0fNb2fYq3n9vGzp02qLRRI/j8c0+cnXP/5Amzcy5izJtna1OUKGHJsi9z7DJMTAw8//zftc6lSxN13z10HVyWX+pdy/RBs9j6ZwJt29qsGl984Ymzc+5vnjA75yLCrFm2Uts551jiXLFiuCNyOdJpp8ENN8D8+Tav84AB5Jkzm7bPXMq6qKp83/ExDv/2J61bWw39nDnhDtg5Fwk8YXbOhd20aXZKvEoVq1n21ftclqhRA555Bv74A95+G6lQnoYfPUDc1nP5tU5nKqz6jFYtj9G8uZ3xcM7lXnnDHYBzLnf74APo2hXq1LH60ZIlwx2Ry3UKFrQ/wq5d4aefkJdfpvLrr/PWzin8t0R5Xlx0EwOadaTRRVEM7H+MWjUS4NgxuyQEXU96OyHB6jouugjOOCPcr9I5lw4+D7NzLmzeegt69rTBVtOnQ7Fi4Y4o/Xwe5hziyBH4+GN46SUraE6P4sVtOe/+/SF//oyJzzmXIUI9ZnsPs3MuLF5+Gfr2hebNbS7c00/KSZgqAAAgAElEQVQPd0TOBcmfH665xi7r1sGCBRw8nIdpn+VhytQo9h+MommzPFzfI4pzzo2CqChbPjAqyfUDB+Dxx2HQIJvibtQom8vOV0xxLlvxhNk5l+XGjIE77oC2ba0ko1ChcEfkXCoqV4bKlSkEXN0TWu60vHfYGBgyH3r3hocfhvLlU9i+eXP47DO4+27o1MluP/MM1K2bda/BOZcuPujPOZelnnjCkuVOnWDKFE+WXfZzxhnw2GO2Anf//vDmmzYF4h13wJYtKWzUti0sXw5jx8KKFVC/vmXamzZlaezOuVPjCbNzLkuowrBhMGSIja16910oUCDcUTl36s4+G557zlbjvuEGy4UrV7YVunfuTGaDvHnhttvgl1+st3niRDjvPBg50ko3nHMRyxNm51ymU4V774URI+DGG23V4nz5wh2VcxmjfHkbG7h6tZUnP/EEVKpkefC+fclsULy41XSsXm2Tjw8dCtWq2SjYhIQsj985lzZPmJ1zmW74cHjqKTt9/dJLNhbKuZymalV4+21YtsyWdx861HqchwyBxYuTWTmwShV4/32bfPyss6BHD5syZv78sMTvnEuZJ8zOuUw1ZYr1LPfubSsT5/GjjsvhoqPho4/ghx8s/336aStZrlrVyjWWLEmSPF98MSxYYEt2//EHNG0K115rs3M45yKCf3U55zLNqlVW29mggc2o5TNpudykQQP45BP480+bRrFKFavEqFfPkucHHghKnvPksf8sP/1kp2SmTYPzz4deveDHH8P8SpxznjA75zLF7t3QsSMULgwffmiLqTmXG5UsCTfdBDNmWPL80kuWPD/5pCXP551nyfPSpaCnFbbRsT/9BLfeCu+9Z13Wl18Oc+YkU9fhnMsKnjA75zJcQgJ07w7r11uJZtmy4Y7IuchQqhT06XNi8lypkiXPdeta8vzgg7B0W1n0uTHwv//Z6MFFi6BlS7jgAptiJj4+3C/FuVzFE2bnXIYbNszOKI8ZA02ahDsa5yJTYvI8c6Ylz+PHQ8WKNstG3bpQqxZ8taIkPPQQbNgA48bB3r3QpYtl1s8/D3/9Fe6X4Vyu4Amzcy5DffghPPKInYK+9dZwR+Nc9lCqFNx8M3zxBWzebLnx4cM220b//rD/WCFbS371avtPdvbZMHCgzWk3dChs3Rrul+BcjuYJs3Muw6xaBT17QsOGtoiDD/Jz7uSVLm258fLlcOed8MILVsY8ezY2J2OnTvDttzb9XNOm9gu1QgX7hfrzz+EO37kcyRNm51yGCB7k98EHvoqfc+l12mnw7LMwb54t9NOqleXEe/cGGjRubPPXrV5tczi//rotgNK5s40gdM5lmJASZhFpIyJrReQXERmSzOO3isgKEVkqIvNFpEbg/ooicjBw/1IReTGjX4BzLvyOHYNu3XyQn3OZoXFjWwzl7rutzjk62ko3jqtWzR7YsMGm2/jqK4iNhfvu8yW3ncsgaSbMIhIFjAXaAjWArokJcZC3VTVaVWOAJ4Fngh77VVVjAhevaHQuBxo+HKZP90F+kUBECorIAhFZJiIrReTfybQZJCKrRGS5iMwWkQpBjx0L6uSYmrXRu5QUKmSrZX7zjV1v3dpqnvfsCWp09tlWnvHrr7ZS0JNPBtVyOOfSI5Qe5gbAL6q6TlWPAJOADsENVHVv0M3CgE8U6Vwu4YP8Is5hoKWq1gFigDYi0ihJmyVArKrWBt7HOjoSHQzq5GifNSG7UF14oS12cu+98OqrNpPG558naVSihM1XN2eO1Ty3amUJ9I4dYYnZuZwglIS5LPB70O2NgftOICL9ReRX7MA7MOihSiKyRES+FpGm6YrWORdRfJBf5FGzP3AzX+CiSdrMUdXEc/XfA+WyMESXToUK2dRz330HRYtC27Zw4402juAEzZtbLcf998Nbb0GNGjBpki9+4twpyLBBf6o6VlWrAPcBDwXu3gyUV9W6wCDgbREpmnRbEekrInEiErdt27aMCsk5l4kSB/mdfroP8os0IhIlIkuBrcAXqvpDKs1vAj4Lul0wcDz+XkQ6ZmqgLl0aNLD1TO6/H958E2rWtPnPT1CoEPznPxAXZzNpdO0K7drZgijOuZCFkjD/AZwbdLtc4L6UTAI6AqjqYVXdEbi+CPgVOC/pBqo6XlVjVTW2dOnSocbunAuTxEF+Gzb4IL9IpKrHAmNKygENRKRWcu1EpDsQC4wKuruCqsYC1wOjRaRKCtt6R0cEKFjQ8uHvv4czzoArr7SzPrt2JWlYp451ST/7rJVq1KxpC58cOxaWuJ3LbkJJmBcCVUWkkojkB7oAJwwEEZGqQTevAH4O3F86MGgQEakMVAXWZUTgzrnwGTbs70F+jRuHOxqXElXdDcwB2iR9TERaAQ8C7VX1cNA2fwT+XQd8BdRNYd/e0RFBYmOtE/nhh2HiRGjUCH7/PUmjqCib2HnlShudO3Cg/Qf+8cewxOxcdpJmwqyq8cAAYAawGpisqitFZISIJA4IGRAYjb0UK73oGbj/YmB54P73gVtVdWeGvwrnXJb58EN49FFb0veWW8IdjUsq0FFRPHC9EHApsCZJm7rAOCxZ3hp0fwkRKRC4XgpoDKzKqthd+hQoACNGWAfyn39aTvzTT8k0rFjRfvFOnGgzatSta5n2oUNZHbJz2YZohBX/x8bGalxcXLjDcM4lY+VKG+BXqxZ8/bXXLSdHRBYFShrC9fy1gTeAKKxTZLKqjhCREUCcqk4VkVlANDbOBOB/qtpeRC7CEumEwLajVfWVtJ7Tj9uRZ8kSuOwyG4g7c6ZVZCRr+3YYNAgmTPh7PueLL87SWJ0Lp1CP2Z4wO+dCsn49XHop/PWXnfr1uuXkhTthDgc/bkemtWttRrl9+6xD+aKLUmk8c6adMtqwAUaPhjvuyKownQurUI/ZvjS2cy5N335rPcs7d9pKvJ4sOxf5qlWD+fPhzDPtx+7Mmak0bt3aapk7d7Y654ce8unnnAviCbNzLlWTJkHLllCsmI3Eb9gw3BE550JVoQLMmwdVq9oMGh98kErjwoVh8mRbQvDRR63H2WfRcA7whNk5lwJVW8Gva1eb7/W77+C8f0wK6ZyLdGedBV99BRdcANdeC6+9lkrjqCgYNw4efNBWC7z2Wh8M6ByeMDvnknH4sM3l+vDD0KMHfPEFlCoV7qicc6eqeHEryWjVylYFHD06lcYi9mt59GibFufyy2Hv3iyL1blI5Amzc+4EO3ZYveOECTByJLzxhs+G4VxOULgwTJ0KV10Fd90Fw4enUaZ8xx22pPa8ebbM9pYtWRSpc5HHE2bn3HE//WQLHixYAO+8Y+N+RMIdlXMuoxQoYOMSeveGf//bEueEhFQ26NbNsuw1a2xi5/XrsyxW5yKJJ8zOOcDmVW7UCPbssYUPunQJd0TOucyQNy+8/LJNhvHcc3DTTRAfn8oGbdvC7Nl2+qlxY1ixIstidS5SeMLsnOP1160M4+yzbSaMCy8Md0TOucyUJw8884z1Mr/+uo3tO3w4lQ0uvNBKM/LksYVN5s/PqlCdiwieMDuXiyUk2GD43r2hWTObb7ly5XBH5ZzLCiIwdKj1Mk+ZAu3awf79qWxQsyZ8883fEzt/8kmWxepcuHnC7FwudfCgTRn3n//YtKvTp9tIeudc7jJwoPUyz55teXCqE2JUqGC9y7VqQadONirYuVzAE2bncqEtW6BFC3jvPRg1yqZdzZcv3FE558KlZ087HsTFWR585EgqjUuXhi+/tJkzevWCp5/OoiidCx9PmJ3LZVavttX6li+3Vb8GD/aZMJxztir2K69YLtyrVxqzZxQpAtOmwTXX2EHkvvt8KW2Xo+UNdwDOuayzYQNccol9r82bB/Xrhzsi51wkueEG2LQJ7r8fzjkHnnoqlcYFCtj8kyVLwpNPwvbtMH68rRboXA7jCbNzucS2bXDZZVa7PH++jd9xzrmk7rsP/vjDKi3KlrW5mlMUFQX//a+VaYwcCfv22WIn+fNnWbzOZQVPmJ3LBfbvhyuugP/9D2bN8mTZOZcyEVsV+88/YdAgKFMmjXnZRWDECChaFO65Bw4csILoQoWyLGbnMpsnzM7lcEeO2FK4ixfb1FGNG4c7IudcpIuKggkTYOtWK9M480xo2TKNjQYPtqT51lvtF/rHH1uts3M5gA/6cy4HS0iAG2+EmTNtJox27cIdkXMuuyhYED76CM47Dzp2hGXLQtiob1/LtOfOtTnqdu3K9DidywqeMDuXg91zD0ycCI8+asvfOufcyShRAj7/HIoVsxWyN2wIYaNu3eD992HJEpt6bsuWTI7SucznCbNzOdRTT9nSt7ffbiPenXPuVJQrZ0nzwYPQpg3s2BHCRh07wqefwi+/2FLav/+e6XE6l5k8YXYuB3rzTetdvvZaG7zj8yw759KjZk2YOtV6mNu1s+Q5TZdeCjNm2OjBpk0teXYum/KE2bkcZvp0q1u+5BJLnPP4/3LnXAZo2hTefhu+/x66doX4+BA2atIE5syxqXqaNoUff8z0OJ3LDP5V6lwO8v33tvBWnTrw4Ye2roBzzmWUzp3h+edtAowBA0Jc3K9ePRsEKALNmtn6285lM54wO5dDrF5tMzmVKWO9zEWLhjsi51xO1L+/jYsYNw4eeSTEjWrUsBWTiha1+enmzcvUGJ3LaJ4wO5cDbNxoq/jly2clg2edFe6InHM52aOP2vzMQ4fCK6+EuFHlypYoly1rB6wZMzI1RucykifMzmVzu3bZyPXdu+Gzz6BKlXBH5JzL6UTg5Zct773lFpg2LcQNy5WDr7+GatVs9OCHH2ZqnM5lFE+YncvGDh6075yff7YFBurWDXdEzrncIl8+m245JsbGTvzwQ4gbnnmmDQSMjbWpfCZMyNQ4ncsIISXMItJGRNaKyC8iMiSZx28VkRUislRE5otIjaDH7g9st1ZELsvI4J3LzeLjoUsX+PZb+75Jc9la55zLYKefbr3L55xjP95/+y3EDYsXtyVImzX7u7YjpGk3nAuPvGk1EJEoYCxwKbARWCgiU1V1VVCzt1X1xUD79sAzQJtA4twFqAmcA8wSkfNU9VgGvw7nchVVuPVWmxf1+eetk8adhIQE2LkTtm2DrVtP/DfxerVqMHJkuCN1LuKddZYlzQ0bWtL8zTdQpEgIGyZm2/362f+1L76wpUkrV870mJ07WWkmzEAD4BdVXQcgIpOADsDxhFlV9wa1LwwkTjTTAZikqoeB9SLyS2B/32VA7M7lWuPG2UCbBx+0qZ1cMn77zb58N2/+Z1K8fbslzckpUcJOGZcqlbXxOpeNVasG771ny2d3726lyVFRIWxYsCC89ppt2Lev1XeMHWs78RWXXAQJJWEuCwSvabkRaJi0kYj0BwYB+YHEk8Nlge+TbFv2lCJ1zgGwahXcdRe0bg0jRoQ7mgi0bZsN4X/hBThyxBLg0qUtCT7vPGjc2K6XLv33/Yn/lixphZnZmIgUBOYCBbBj/PuqOixJmwLAm0B9YAdwnapuCDx2P3ATcAwYqKo+lYELyaWXwnPP2Y/4Bx6AJ544iY2vvRYaNYIePaxEY/p0+z9cvHimxevcyQglYQ6Jqo4FxorI9cBDQM9QtxWRvkBfgPLly2dUSM7lOIcO2QpbRYrAG2/4Kn4n2LcPnnkGnnoKDhyw5Q6HDbNR+bnLYaClqu4XkXzAfBH5TFWDOy9uAnap6r9EpAvwBHCdl9G59OrfH1auhCefhOrVoVevk9i4fHn48kvLtIcOhe++g7festUCnQuzUL5u/wDODbpdLnBfSiYBHU9mW1Udr6qxqhpbunTpEEJyLncaMgSWL4fXX4ezzw53NBHi8GHr1qpcGYYPt3muVq6El17KjckyavYHbuYLXJKux9YBeCNw/X3gEhERgsroVHU9kFhG51zInnsOLrnEKizmzz/JjaOirHv6228hb14bFOgDAl0ECCVhXghUFZFKIpIf632YGtxARKoG3bwC+DlwfSrQRUQKiEgloCqwIP1hO5f7TJ9uX0QDB8Lll4c7mghw7Bi8+aYVT955J9SuDQsW2DxX558f7ujCSkSiRGQpsBX4QlWTTvh1vNROVeOBPUBJki/B8zI6d1Ly5bN65ooVoVMn2LDhFHbSoAEsWWLlGSNHQtOmsG5dBkfqXOjSTJgDB9MBwAxgNTBZVVeKyIjAjBgAA0RkZeAAPYhAOYaqrgQmYwMEPwf6+6k9507eli3QuzdER59kXWBOpGrTg9SpAz17Wt3xzJkwezZccEG4o4sIqnpMVWOws3oNRKRWRj+HiPQVkTgRidu2bVtG795lcyVKwCefWMdwu3ZWMXXSihSxAYHvvgurV9uAwAkT7BjgXBYLqQJSVaer6nmqWkVVHw3cN1RVpwau36GqNVU1RlVbBBLlxG0fDWxXTVU/y5yX4VzOlZBgdYB798I779ig8lxr3jyrZ+zQwQb0TZ4MCxfaaCP3D6q6G5gDtEny0PFyORHJCxTDBv+FXILnpXQuLYkzZ6xeDddfbyeFTsm111otWkyM9Th362ZLmzqXhXzIkHMRbswY+PxzG89Ws2a4owmT5cvhiivg4oth/XqbV2/lSltezEc+nkBESotI8cD1Qtgc+muSNJvK3wOzrwa+VFXFy+hcBmvVyo5hn34K99+fjh2VL2+rAz76qP1Qjok5hQJp506df9M4F8GWLoX77oP27W2hklzj2DF78c8/b73JMTE2COjxx+GXX2w0UTaf/i0TlQHmiMhybAzKF6r6aZIyuleAkoG58QcBQ8DL6FzmuO02u4waZRUWpyy5AYHDhqWj69q50IlGWC1QbGysxsXFhTsM58LuwAGoXx/27LEO1hy9jsbhwxAXZyUX8+bZUmF79thj5cvb+dx777XCyAgnIotUNTbccWQlP267tBw9aoOVv/7ahhs0bZrOHe7bB7ffbvNrXnIJvP22zaXu3EkK9ZidYfMwO+cy1qBBsHatrRab45LlfftsjtXEBPmHH2ySabDJW6+7zr5RmzaFChXCG6tzLt3y5bNKikaNoHNnm9CmUqV07LBIEZtfs1kz676OibHBgenOxJ1LnifMzkWgDz+0Mt1777XOk2zv0CErxJ471xLkJUvsNGpUFNStC/362Rddkya26p5zLsdJnDmjYUObOePbb6Fo0XTutHdvOxV39dXQogU89hgMHuzLarsM5wmzcxFm40bo08e+A0aODHc0GeDLL60A++efoUAB62K6/35LkC+80HqKnHO5wnnn2VTpl11mlVYff2y/m9Oldm0r6brpJutl+OYb6332ZbVdBvJBf85FkGPHoEcPmzHtnXcgf/5wR5QO27fbPMmXXGJz402danXJX31lvwRat/Zk2blc6JJLbDzvtGk2qDlDFC1qNR/PPWc7rlcPFi/OoJ075wmzcxHlySctn/y//4OqVdNsHplUbSDO+efbQJwHHoAVK+wcbIEC4Y7OORcB+vWDAQPg6afhlVcyaKcithTq3Lk2yvCii6y2LcImN3DZkyfMzkWIH36Ahx+28W49e6bdPiL99JN1H/XqZasWLFli86YWKhTuyJxzEebZZ23NoX79MnhK5QsvtGNP8+ZWDnbDDfDXXxn4BC438oTZuQiwb5/V85UtCy++mA3Hqxw+bGUWtWvbadAXX7TBfbUyfEVm51wOkTevVVFUrGhj9jZtysCdlyoF06fDiBEwcSI0aGBLDjp3ijxhdi4CDBgAGzbYcT3bjVOZN89muhg61BYZWb0abrnFV+BzzqWpeHGbFWj/fkuajxzJwJ3nyWOn7WbOhG3b4IILbHCIc6fAv9GcC7O334Y337TjepMm4Y7mJOzaBTffbMtVHzhgA23efRfKlAl3ZM65bKRWLXj1VZua/c47M+EJWrWyEo2YGDuVd9ttdlbMuZPgCbNzYbR+vdXvXXQRPPRQuKMJkar10px/vq1zO3gwrFxpy3g559wpuPZauOceeOGFdC6fnZKyZWHOHLj7bnuSJk0sS//iCzsrtm9fJjypy0l8HmbnwuTwYejSxa5PnGj1fBFv3TrrnZkxw05vzphhvTbOOZdO//mPDYHo1w+ioyE2oxeYz5cPnnrKkuUbb7R5m4MVLQrlysG559q/iZfg20WLZsNBJi4jZIevaOdyHFXo39+Wh/3gAxv0EvHi4qBlSwt+zBhLnNO94oBzzpm8eWHSJFu0qXNnWLQokxb+7NjRzoj98YetFPX77/Zv8PVly2DLln9OSXf66dZJ8Npr8K9/ZUJwLlJ5wuxcGIwbZ3OPPvigfTFEvLVroW1bKFnSJoquUCHcETnncqBSpWwQYOPGdgZuxoxMOvuWPz9UqmSXlBw5Aps3/zOhfustW9/7/fdtOW6XK3gNs3NZ7JtvbG79yy+Hf/873NGE4I8/bFW+PHlstLkny865TFS/vs1M+eWXcP/9YQwkf3473jVpYtn74MG2kuCCBXDWWXZcfPHFMAbospInzM5loU2bbOqkChWsbjniKxp27rQvhV274LPPsvHyg8657KRXL6v6euopm6s5olSpYlN6tG7995KF8fHhjsplMk+Yncsihw9bsrxvH0yZkg3mW/7rL7jySvjlF/j4Y6hXL9wROedykWeftRmEbrwRfvwx3NEkUawYTJ1qs26MHWsla7t2hTsql4k8YXYui9xxh3VKvP56NlgA7+hRuOYaW6/7nXe8Ts85l+Xy54f33oMiRaBTJ9i9O9wRJREVZV3gr74KX39tdc1r1oQ7KpdJPGF2Lgu89JIN9BsyxHqZI1pCAvTubSUYL76YTUYlOudyonPOsaR5wwbo0cMOTxGnd2+b43n3bmjUyMZ6uBzHE2bnMtn331uJW+vW8Mgj4Y4mDaowaJAVWD/6qK3k55xzYdSkCYweDZ9+CiNHhjuaFDRubIMBy5e38owxY/45JZ3L1jxhdi4T/fknXHWVzXf/zjvZYJDfY4/ZKPA77wzz8HTnnPvbbbfBDTfA8OGWOEekihXh22+hXTurwbvlFpuazuUInjA7l0mOHLHyi927bZDfGWeEO6I0jB9vE0N37w5PP+2rWTnnIoaIVYjVrWuHqJ9/DndEKTj9dJtI+v77rRavdWvYvj3cUbkM4Amzc5nkrrtszuVXX4XatcMdTRo++MCmR2rb1gLO44cG51xkKVTIctG8eW0Q4P794Y4oBXny2Drfb71lNXkNGsDKleGOyqWTfys6lwlefRX++1+45x647rpwR5OGL7+E66+3Ed7vvQf58oU7IuecS1bFirZ89urVcNNNEV4m3K2bzZ5x8CBceGEE15K4UPjS2M5lsAULrLO2VSvrZIhoixZBhw62IMmnn0LhwuGOyDnnUtWqlQ23uO8+uOACW4AvYjVsCAsX2nG2fXto2dJWCSxd+u/LmWeeeLt4cS+Ji0AhJcwi0gZ4DogCXlbVx5M8PgjoA8QD24AbVfW3wGPHgBWBpv9T1fYZFLtzEWfLFpuF7ZxzrBckbyT/JP3pJyvBOOMMmDEjGxRZO+ecuecey0Pvuw+io+Gyy8IdUSrKlYO5c21e0bg4m99+61ZbxSo5efNCqVInJtOVK9uLLVo0a2N3x6X5dS4iUcBY4FJgI7BQRKaq6qqgZkuAWFU9ICL9gCeBxBPRB1U1JoPjdi7iHD0K115rq0l/+y2ULBnuiFKxaZMNRlGFL76AsmXDHZFzzoVMBF57zQb/XXed5aDVqoU7qlQULgzPP3/ifYcPw7Zt/7xs3Xri7UWLrFxu6lQ7E1ihQnheQy4XSv9XA+AXVV0HICKTgA7A8YRZVecEtf8e6J6RQTqXHQwebJ0IEydCTCT/RNy40XqWd+ywyfbPOy/cETnn3Ek7/XT4+GMry2jXzpLmEiXCHdVJKFDAep/LlUu77ezZNkdpgwb2ohs1yvz43AlCGfRXFvg96PbGwH0puQn4LOh2QRGJE5HvRaRjchuISN9Am7ht27aFEJJzkeXNN22e+rvusvFzEeHYMRsZM2mSnQps2xbKlIFzz7VyjI8+gtjYcEfpnHOnrEIFm7ZzwwbraY6PD3dEmeSSS2zGjSJFoHlzO667LJWhFZYi0h2IBZoF3V1BVf8QkcrAlyKyQlV/Dd5OVccD4wFiY2Mjecyrc/+weLHNT9+yJTz5ZJiC2LsXli+HZctg6VL7d8UKOHTIHs+XD2rUsEK/OnVs1Ex0dJiCdc65jNO4sc3RfNNNdqZv9OhwR5RJzj/fkubOnaFrV+v4ePhhHyCYRUJJmP8Azg26XS5w3wlEpBXwINBMVQ8n3q+qfwT+XSciXwF1gV+Tbu9cdrRjhx27SpfO4kF+R45Yl/Z331mCvG7d34+VLGlJ8W232b8xMXagzZ8/i4Jz4SQi5wJvAmcBCoxX1eeStLkH6Ba4mReoDpRW1Z0isgHYBxwD4lXVT0O4iHfjjdZHMHo01KoFffqEO6JMUqqUjTu55RYYNsyS5pdfhoIFwx1ZjhfK1/tCoKqIVMIS5S7ACSedRaQuMA5oo6pbg+4vARxQ1cMiUgpojA0IdC7bO3bMfuRv3gzz51vSnCWOHoUuXew8ZNWqUL++fVvExFiCXLas9zjkbvHA3aq6WESKAItE5IvggdqqOgoYBSAi7YC7VHVn0D5aqKovT+aylVGjrArttttsAGDTpuGOKJMUKGAjHqtVgwcegPXr7fvgzDPDHVmOlmbCrKrxIjIAmIFNK/eqqq4UkRFAnKpOxQ68pwPviX1RJ04fVx0YJyIJWL3040lm13Au2xo61H7ov/SSDTrJEvHxViQ9ZYr1MN9+exY9scsuVHUzsDlwfZ+IrMbGnaR07O0KvJNF4TmXafLmtTN9DRvamb+FC22hkxxJxJbfrloVbrjBXvS0aVZ65zKFaIQtkxMbG6txcXHhDsO5VH38MXTsaKf9Xnopi540Ph66d4d334VnnrERhi7iiMiiSCljEJGKwFygljy+ZV4AACAASURBVKruTebx07CB3P9K7GEWkfXALqycY1xgjEly++4L9AUoX758/d9++y0zXoJzJ23tWssfK1SAb76x2TRytIULbVGUAwdg8uSMmZT6yBEr96hWLcev/hrqMduXxnbuJP30k/2gj43957SamebYMejZ05LlUaM8WXZpEpHTgQ+AO5NLlgPaAd8kKcdooqr1gLZAfxG5OLkNVXW8qsaqamzpLKtHci5t1apZ3vjjj9CjByQkhDuiTHbBBbbEbKVKcMUV8N//nvw+VGHNGjtzeeWVtpBVdLTNrNS3L8yalYOnIAmNJ8zOnYT9+6FTJxs/98EHWTTO4tgx6N0b3n4bHn88wteBdZFARPJhyfJEVf0wlaZdSFKOETRQeyswBZuL37lspXVrOxH30Uc2Ni7HO/dcmDfPpg/t3x/uuCPtBHfHDvtl0aePdcdXr27brV1rHTQvvwxt2sA778Cll1ryfOut8OWXuTJ5juSFe52LKKo2bdGaNTBzJpQvnwVPmpBgB7MJE+CRR2xpVOdSITaQ5BVgtao+k0q7YtgUoN2D7isM5AnUPhcGWgMjMjlk5zLFwIE2c8Yjj9jMGdddl/Y22VqRIvYL4Z574NlnbRnESZP+Xk77yBGblm7mTLvExdkXW7FiNtXoQw9ZYlyp0t/7vOkmOHgQZsyw5Pqtt2DcOBtgeNVVtrxt06YQFRWe15yFPGF2LkTPPmvHi8cftznkM11Cgp0Ke/11+Pe/4cEHs+BJXQ7QGOgBrBCRpYH7HgDKA6jqi4H7OgEzVfWvoG3PAqYEBm/nBd5W1c+zJGrnMpiIVSesXQu9esG//mWTCuVoUVHWtV6tmvU0N25snS6zZ9vKrvv3W5tGjWD4cOuKj41NfU7UQoVs0E7HjlYn/dln9mX4xhvwwgtw1llw9dWWPDdunGOTZx/051wIvvrKfoB36ADvv58Fs7YlJEC/fjB+vE1MP8I7+bKLSBr0l1X8uO0i2datVuZ77JiNjytTJtwRZZFZsyyR3bMHqlSx5Lh1a2jRwnqV0+uvv2D6dEuep02znugyZew5r7sOLrwQ8kR+5W+ox2xPmJ1Lw8aN1itxxhnwww9/n93KNKrWM/DCCzZt0KOP+rzK2YgnzM5FnmXLrPOzVi3rAMk163zs2GErwQaXWWSG/fstaZ482ZLoQ4esLrprV+jWzd74COWzZDiXAQ4fhmuusbNQH36YRcnyHXdYsnzvvZ4sO+dcBqhTx4aC/PAD3HyzHWpzhZIlMz9ZBpu777rrbDT81q32ZteoYbM6RUdD7dpWz5gZ00+qwq+/Wp11JvKE2blU3HWXjZF47TUbQJypVGHQIJurbtAgO7h4suyccxmiUycYOdLGrY0aFe5ocrAiRWzNgOnTYdMm+L//s/vuv99Wkmna1DqFtp/iYqLbttm+hw2zWUFKlbIC9Q4dbCXcTOIlGc6l4I03bKDIPffAk5m9oLuq9Sg/9ZT1MD/7rCfL2ZSXZDgXuVStSmDyZJtQon37cEeUi6xfb1PUTZwIq1bZQMPLLrPVazt0gMKF/7nNgQOweLHNM514Wb/eHsuTB2rWhAYNbKWaBg2sN/sk66a9htm5dFiyBC66yMYszJyZ+gDidFO1X95PPAEDBtjE8Z4sZ1ueMDsX2Q4cgObNbcq52bPtWO+ykCosX25rC7zzDvz+O5x2ms3CcdVVsHPn38nxjz/aaE2wmugGDf6+1KuXIcs4esLs3CnascNm2YmPh0WL/r+9O4+7esz/OP76tO+bytImPw1iRpGyDbK0SCuRfYn8jMLIaEGZ7AzDKBKyjSYZpVAqZCyVXzQtypaKSlNRWulWXb8/Pqdx3O7lVOec7/e+7/fz8TiP+5zvcp/PfZbr/pzrXNfn8nKTGROCV8G44w6vijFsmJLlIk4Js0j8rVnjkwC//Rbee8+H20oEduzwJ2DUKHjxRU+WAWrU+GVy3LKll6/LgFTbbNVhFkmyfbt/O/TNN75oUsaS5ZwcXy3puee8objiCh/npWRZRCTj6tTxOWLHHuuL2U2fDvXrRx1VCVSqFJxwgl/+9jeYMQP228/HJMfs/6ESZpEkgwf7EIwRI/wDbVpt2gSvvw7jxnn5nfXrfcxW374+SLoI1KsUESkuGjf2NThOOMGT5nffhZo1o46qBCtXDk48Meoo8qWEWSRhwgQfGdGzp3f4psW338Irr3iSPGWK16mrXdvHaXXt6quhlJiCoCIi8dKsmU/+a9/eJwBOmeIL24nkpoRZBM9rL73UFygZOnQPf9myZd4CjxsH77zj4zwaNIArr4Ru3XzgXEZnEYqISKpOPtlHx/Xo4UPyXnxRTbT8ml4SIkD//r4Y0tNP72aH72ef+comY8fCzslPTZv6L+7a1Wfzxmw8loiIuLPPhlWr4JprfKHV4cPVZMsvKWGWEm/6dHjySa+3vFurdz7xxM9jOFq29AVHunaF3/wmrXGKiEjm9OkDK1fCXXfBvvvCrbdGHZHEiRJmKdG2bfNqbvXrw6BBu/EL3njDf0Hbtp5116uX9hhFRCQ77rjDk+Y//9mT5iuvjDoiiQslzFKiDR3q9dNfemk36p9/8gmcdRYcfLAvG1WtWkZiFBGR7DDzKkmrV8Mf/uClf7t0iToqiQPVsZISa8UKXzOkfXsfQbFL1qyBDh18wPOrrypZFhEpJsqW9T6Qo47yiYDvvht1RBIHSpilxLr+eh+Sscvrhfz4o3c5rFzptegaNcpYjCIikn2VK3tfyP77e7m5jz+OOiKJmhJmKZGmTPEehIED4YADduHEELxQ8/TpXoco7aubiIhIHNSu7asBVqzoC5t8/XXUEUmUlDBLifPjj142qEkTr4yxS4YM8aWs77zTxy+LiEix1aiRL9C6aZPP7f7uu6gjkqgoYZYS5777YNEiH4qxSzWXn3/e6wxdconXVxYRkWLvd7+D8eNhyRLo2BG2bIk6IomCEmYpUb780ssGnX02tGmzCye+/z5cdpmvc//YY6poLyJSgpx4oveZzJwJ55zj81+kZFHCLCVGCL6KU9my8MADu3Di4sU+ya9RI1/Jr1y5jMUoIiLxdOaZMGyYTwbs1cv/p0jJkVLCbGbtzOwzM1tkZr/6LtrMrjezhWY2z8zeNLNGSfsuNrMvEpeL0xm8yK54+WWYONGHIae8vsj333v5uB074LXXoFatjMYoIiLxddVVMHgwPPUUDBgQdTSSTYUuXGJmpYFhwGnAcmCWmU0IISxMOuzfQIsQwhYzuwq4FzjHzGoBg4EWQAA+Spy7Lt1/iEhBNm2Ca6/1sWh9+qR40k8/+cS+L7+EqVN9lqCIiJRogwfDqlVwzz1Qt66XKJXiL5Ue5pbAohDC4hBCDjAa6Jx8QAhhWghh5zD4mUD9xPW2wNQQwtpEkjwVaJee0EVSN2QILFsGjzwCZVJZ3zIEX+bpzTfh8cd9AJuIiJR4Zj5p/KyzoG9frzAqxV8qqUM9YFnS7eVAqwKO7wlMKuDcVL8MF0mLjz+Gv/7Vyycfd1yKJ91/PzzxBNx0E1yskUQiIvKz0qXh73+HtWt9Pvhee8Hpp0cdlWRSWif9mdkF+PCL+3bxvF5m9qGZfbhmzZp0hiQl3M6O4mrV4O67Uzzp5Zfhxhuhe3fvmhYREcmlfHkYN86H+p11FsyYEXVEkkmpJMwrgAZJt+sntv2CmZ0K3AR0CiFs3ZVzQwgjQggtQggt6tSpk2rsIoV67jl4910fa1a7dgonfPQRnH++r+D3zDNQSoVkREQkb9Wq+WTyevV8fvjChYWfI0VTKtnALKCJmTU2s3JAD2BC8gFm1hx4DE+WVyftmgy0MbOaZlYTaJPYJpJx69bBDTfA0Uf7V2aFWr7cq9LXqeNV6itWzHiMIiJStO29N0yZ4j3ObdtqCe3iqtCEOYSwDeiNJ7qfAGNCCAvMbIiZdUocdh9QBXjRzOaY2YTEuWuB2/CkexYwJLFNJONuusmXMX300RQ6ipcs8ZVMNm3yIpt7752VGEXSzcwamNm0RKnPBWZ2bR7HnGRm6xPt9RwzG5S0r8AyoiLya40b+xLaGzZ40vztt1FHJOmWyqQ/QggTgYm5tg1Kun5qAeeOBEbuboAiu2PWLBg+3BcqadaskIPffRe6dfOlmyZMgMMOy0qMIhmyDegbQphtZlXxcp5Tc5UCBXg3hHBG8oYUy4iKSB4OPxxeecX7Xs44w4ssVa4cdVSSLhqgKcXO9u1eXH6ffVKYs/f003DKKb4gyQcfwEknZSFCkcwJIawMIcxOXN+IfzOYanWiQsuIikj+TjgBXnjBO23OPBNycqKOSNJFCbMUO4895nP3HnjAJ2Tkaft2r4Rx6aVeY3nmTPjNb7Iap0immdn+QHPggzx2H2Nmc81skpkdmtimUqAie6hzZ/8/NHmy/4vZsSPqiCQdUhqSIVJUrFoFAwd6p/E55+Rz0MaNcN55Plb56qu9SHPZslmNUyTTzKwK8BJwXQhhQ67ds4FGIYRNZnY68DKwS0tZmlkvoBdAw4YN0xCxSPFx+eWwZo3/P6pb1ztwzKKOSvaEepilWLnmGvjhBxg2LJ/GaelSOPZYmDTJDxo6VMmyFDtmVhZPlp8PIYzNvT+EsCGEsClxfSJQ1sxqk2Ip0MR5KgcqUoD+/eHaa+HBB720qRRt6mGWYmPsWBgzBm6/HQ46KI8D3n8funaFn37y6cyn5jtXVaTIMjMDngQ+CSE8kM8x+wCrQgjBzFrinSffAd+TKCOKJ8o9gPOyE7lI8WLmPctr1sCAAV6xtGfPqKOS3aWEWYqFtWt9Rb9mzXxo8q888wz06gWNGvk05jwzapFi4TjgQmC+mc1JbBsINAQIIQwHzgKuMrNtwA9AjxBCALaZ2c4yoqWBkSGEBdn+A0SKi1Kl4KmnvMRpr15Qs6YXZZKiRwmzFAvXX+8N0uuv5xphsWOHDyK75x4f2DxmjFfEECmmQgjvAQWOlgwhDAWG5rPvV2VERWT3lSsHL70Ep53mc2tGjYLu3aOOSnaVxjBLkTdpkncg9+uXq+bypk3+Uf6ee7zO3KRJSpZFRCTrKlf2Dp2jj4YePTxplqJFCbMUaRs2+NdchxwCt9yStOOrr+C447wSxtCh8MgjmtwnIiKRqVbN+21OPBEuuMCXAZCiQ0MypEjr1w+++QamT4fy5RMbZ8yALl1g61aYONGXXRIREYlYlSrej9Oli9dozsnxTh+JP/UwS5E1bZovf/3HP0KrVomNEyf6an3VqvliJEqWRUQkRipVggkToEMHuPJK/xJU4k8JsxRJmzd7YfgDD0xa/nr+fJ9Rcdhhvsz1wQdHGqOIiEheKlTwUqhdukCfPl5+TuJNQzKkSLr5Zli8GN5+2z+ts3o1dOwIVav6R3dN7hMRkRgrV84LN51/PvTt66MIBwyIOirJjxJmKXJmzICHHvK6yyeeiLcy3br5utjvvgv16kUdooiISKHKlvWKGeXKeQXUnBwYNEjLaMeREmYpUn78ES67DBo0gLvvBkLwQWDvvw8vvAAtWkQdooiISMrKlPHSqGXLwq23eh/QHXcoaY4bJcxSpAwZAp9+6vUsq1YF7vuLtzSDB8PZZ0cdnoiIyC4rXRqefNKrPd11lyfNf/mLkuY4UcIsRcbs2XDvvV6Kp21bfInrfv08UR40KOrwREREdlupUvDooz4844EHfHjGQw/5domeEmYpEnJyPFGuUwfuvx+viHHeeXDkkfDUU2pRRESkyDPzJLl8ee9h3rrVy6fqX1z0lDBLkXDPPTBvHrz8MtT8KVERo1o131CpUtThiYiIpIWZf5tavryPZc7J8eEapUtHHVnJpoRZYm/BArjtNujRAzq32wqndPMycu+8o4oYIiJS7JjB7bd70jxokCfNTz2VtKKtZJ0SZom1bdt8KEb16vC3h4KvIaqKGCIiUgLccouPae7fHz77DEaPhiZNoo6qZNKoGIm1Bx+EWbPg4YehztP3wbPPet0dVcQQEZESoF8/GD8eli6FI46A55+POqKSSQmzxNbnn/un686d4ZyKE/wjtipiiIhICdOpE8yZA82awQUX+DevmzdHHVXJooRZYmnHDrj8cqhQAUb0noddcP7PFTFUmFJEREqYBg1g2jTvSHrmGf+XOHdu1FGVHEqYJZYefdRXuX7k1tXU7ZmoiDF+vCpiiIhIiVWmjC/g9eabsGEDtGoFjzzii95KZilhlthZutTHbHU4dSs9xnSFNWs8Wd5vv6hDExERiVzr1j5Eo3VruPpq6N4d1q2LOqriTQmzxEoIcMUVYARGV++FTZ/u3z2pIoaIiMh/1a0Lr70G993nfUrNm8OMGVFHVXyllDCbWTsz+8zMFplZ/zz2n2Bms81sm5mdlWvfdjObk7hMSFfgUjw98QS88QZMbXMfVV5KVMTo3j3qsERERGKnVCm44QavtlqqFPz+93D33T4PSNKr0ITZzEoDw4D2QFPgXDNrmuuwr4FLgFF5/IofQgjNEpdOexivFGPLlkHfvnDroWM4elw/VcQQERFJQcuW8O9/Q7duMGAAtGsHq1ZFHVXxkkoPc0tgUQhhcQghBxgNdE4+IISwNIQwD9BnGtktIbEmyTE5/2LQFxfC8cf7UAxVxBARESlU9eq+ptdjj/mk+cMPh6lTo46q+EglYa4HLEu6vTyxLVUVzOxDM5tpZl12KTopMZ55Br5+fQHjS3XB/ud/fEBWhQpRhyUiIlJkmHnn06xZsNde0LYt3HVX1FEVD9lYGrtRCGGFmR0AvGVm80MIXyYfYGa9gF4ADRs2zEJIEifffAP3XruCt8u1o3yNijBpEtSqFXVYIiIiRdJhh3nSfPnlMHCg9z7/4Q9RR1W0pdLDvAJokHS7fmJbSkIIKxI/FwNvA83zOGZECKFFCKFFnTp1Uv3VUgyEANf3XM8LG9uzV9n12MSJ0KhR1GGJiIgUaZUqwbPPQseO0Ls3/POfUUdUtKWSMM8CmphZYzMrB/QAUqp2YWY1zax84npt4Dhg4e4GK8XP6GdzuOL1bjS1Tyg97iVf91NERET2WJkyMHo0HHMMnH8+vP121BEVXYUmzCGEbUBvYDLwCTAmhLDAzIaYWScAMzvKzJYD3YHHzGxB4vRDgA/NbC4wDbg7hKCEWQBYtXIHZXpdyim8hY0cCaedFnVIIiIixUqlSvDKK3DggdC5s5bT3l0pjWEOIUwEJubaNijp+ix8qEbu86YDv93DGKWYmnHSALrnjGL1H++k7sUXRh2OiIhIsVSrFrz+Ohx7rJecmz4dGjeOOqqiRSv9SSRm9xxKl8/vZXarq6h7/6/WwhGR3WRmDcxsmpktNLMFZnZtHsecb2bzzGy+mU03s8OT9i1NbJ9jZh9mN3oRyZQGDWDyZNi61atnrFkTdURFixJmybr1T42l2chreLtGZ373r4dVa1kkvbYBfUMITYGjgavzWGxqCXBiCOG3wG3AiFz7WycWm9Ka9CLFSNOm8OqrvlBYhw6waVPUERUdSpglu95/n4pXnM//WSvqTBlFmfKlo45IpFgJIawMIcxOXN+Izz2pl+uY6SGEdYmbM8ljSJ2IFE/HHgtjxsDs2XDWWZCTE3VERYMSZsmeTz8lp11Hlm5vwHs3vsKhR1WKOiKRYs3M9sdLeX5QwGE9gUlJtwMwxcw+StTIF5FipmNHXxFw8mTo2RN2aJ3mQmVj4RIRWLmS7W3asX5LWa4/5HXG3VY76ohEijUzqwK8BFwXQtiQzzGt8YT5+KTNxycWm6oLTDWzT0MI7+RxrhacEinCevaEVavgpptg773hL3+JOqJ4U8IsmbdxI3TowE8rv+UM+xePjTqAsmWjDkqk+DKzsniy/HwIYWw+x/wOeAJoH0L4buf2pMWmVpvZOKAl8KuEOYQwgsTY5xYtWoS0/xEiknEDBsDKlXD//bDvvtC3b9QRxZcSZsmsn36Cs85ix9x5dN3xCm1vOVJrk4hkkJkZ8CTwSQjhgXyOaQiMBS4MIXyetL0yUCqEsDFxvQ0wJAthi0gEzODBB72n+YYbvKf5gguijiqelDBL5oTgC9lPmULfGiNZXr8942+OOiiRYu844EJgvpnNSWwbCDQECCEMBwYBewGPeH7NtkRFjL2BcYltZYBRIYTXsxu+iGRT6dLw3HPw3Xdw6aVQu7bXapZfUsIsmTNoEDz7LC8f8WcennspM5+CcuWiDkqkeAshvAcUWKsxhHA5cHke2xcDh//6DBEpzsqXh3Hj4MQTvXLGW29By5ZRRxUvqpIhmfH003D77SxvexldZ9/Cn/4ELVTRVUREJJaqVYNJk6BuXa/R/PnnhZ9TkihhlvR76y244gq2tT6VExcO55BDjMGDow5KRERECrLPPjBlio9tbtMGli6NOqL4UMIs6bVwIXTrRjjoIHrv/U+WrijLyJFQoULUgYmIiEhhDjwQJk6E9et9WMb770cdUTwoYZb0WbXKv8epUIHnznmNx0ZXZ9AgOProqAMTERGRVLVoATNnQo0acPLJPimwpFPCLOmxZQt06gSrVjHvjle4/LZGdOgAt9wSdWAiIiKyqw46yJPm446Diy6CgQNL9oqASphlz+3YARdeCLNmsW7YKNoPOooGDfwTaSm9wkRERIqkWrV8+exeveCuu+DMM2HTpqijiobSGdlz/frB2LFsv/d+ujzdhXXrvDxNzZpRByYiIiJ7omxZGD4cHnoIJkyA3/8eli2LOqrsU8Ise2b4cF+A/uqr+dOK63jnHXj8cfjd76IOTERERNLBDK65Bl57DRYvhqOOgg8+iDqq7FLCLLvv9dehd2/o0IEXjnmQvz5o9OkD558fdWAiIiKSbu3awYwZULmyL3Lyj39EHVH2KGGW3TN3LnTvDr/9LQsHjeayXmU47jjvbBYREZHiqWlT711u2RLOOw8GDy4ZkwGVMMuuW7HCy8dVr86GUa/S5YIqVKsGL76opa9FRESKu9q14Y034NJLYcgQ6NHDi2UVZ2WiDkCKmE2boGNHWL+eHe+8x0UD6rFkCUybBvvuG3VwIiIikg3lysGTT8Khh8Kf/uRjm8ePh3r1oo4sM9TDLKnbvt0/Rs6bB2PGcPekwxk/Hu6/H44/PurgREREJJvMoG9fr57x2Wc+TOOjj6KOKjOUMEtqQoDrrvMpsg8/zJTS7bn5Zh+/1KdP1MGJiIhIVM44A6ZP9xJ0v/89jB4ddUTpp4RZUvPQQzB0KPTty9L2V3HuuXDYYTBihH/CFBERkZLrt7+F//s/aN4czj3X6wL85z9RR5U+SpilcOPHw/XXQ7du/PDneznzTB+dMXasl5YRERERqVsX3n4b7rwTXnnFK2o884x/SV3UKWGWvIXgxRYvvNA/Jh51FOHZ57i6Tylmz4a//x0OPDDqIEVERCROypaFAQNgzhxPmC+5xOs3L10adWR7Rgmz/NKmTT7OonlzOPZY713u1Qtee40Rf6/EU0/BLbf4eCURERGRvBx8MLzzDgwb5uObDzsMHn7Yv6EuilJKmM2snZl9ZmaLzKx/HvtPMLPZZrbNzM7Kte9iM/sicbk4XYFLmi1c6LP36tWDK6/0bY89Bt98A0OH8sGXtenTxz8lDh4cbagiIiISf6VKwR/+AAsW+GTAa67xn598EnVku67QhNnMSgPDgPZAU+BcM2ua67CvgUuAUbnOrQUMBloBLYHBZlZzz8OWtMjJgTFjoHVrL6Q4YgR06uQfBf/9b+9ZrlKF1avhzDOhfn14/nkoXTrqwEVERKSoaNgQJk6E557z8nPNmsHtt8NPP0UdWepS6WFuCSwKISwOIeQAo4HOyQeEEJaGEOYBuRdHbAtMDSGsDSGsA6YC7dIQt+yJ5cth0CBo1AjOOccHFt19t29/7jk45hgwIwSYPduT5e++g5deglq1og5eREREihozuOAC713u2tWHd7ZoAR9+GHVkqUklYa4HLEu6vTyxLRUpnWtmvczsQzP7cM2aNSn+atklO3bAlCn+Km3UyD/aHXmk11VetAj69YM6dQD46iu46y4fb3TkkV4m5sknfViziIiIyO6qW9frNL/8Mnz7LbRqBTfeGP+ltWMx6S+EMCKE0CKE0KJOImmTNJoyBY44Atq2hfff91fml1/Cq6/C6adD6dJ8/z088QScdBLsvz8MHOi9ycOHw8qVvkCJiIiISDp07uxjm3v2hPvug8MP95J0cZVKwrwCaJB0u35iWyr25FzZU3PmQJs2nihv2ODFEJct8+7jxo3JyfEiGN27wz77wBVXeHJ8222+Jvy77/r8Pw3DEBERkXSrUcOnT735pn8R3rq1FxaIY93mMikcMwtoYmaN8WS3B5Bqf+Nk4M6kiX5tgAG7HKXsmq+/hptv9mLJNWvCX/8KV10F5ct7eeXpvuuFF2DtWh+JceWVXnL5yCO1cp+IiIhkz8knw/z50Ls3DBniU6sefxzKlYs6sp8VmjCHELaZWW88+S0NjAwhLDCzIcCHIYQJZnYUMA6oCXQ0sz+HEA4NIaw1s9vwpBtgSAhhbYb+Fvn+e+89fughv33jjdC/P6F6DT7+GP75T0+UFy+GihWhSxcfgH/aaV5oXERERCQKlSr5fKkDDvAJgcuXe7GBGjWijsyl0sNMCGEiMDHXtkFJ12fhwy3yOnckMHIPYpTCbN0KjzziE/nWrYOLLmLdH4cw5dOGTL4eJk/2cspmcMopXiCja1eoVi3qwEVEREScmX9B3qiRj20+/nivTdCoUdSRpZgwS0zt2OHjKgYOhKVLWdeqLf84/B6emXM4s5r7GKCaNeHUU30Yc/v2sN9+UQctIiIikr8LL/R11Lp1g6OP9qT5iCOijSkWVTJkN7z9NjnNW8F557FkXXW6Vp5CrQ9ep88Th1OqlPciz5gBa9b42iQ9eypZFhERkaLh5JO9sFe5cnDCCb7wSZSUMBch3/3nJ94bNpcFB5wBI7DHxwAACtdJREFUrVvzn3mruJBnOaHybGqdcxpjxniCPGMG3HqrfyrTqnwiJYuZNTCzaWa20MwWmNm1eRxjZvY3M1tkZvPM7IikfReb2ReJy8XZjV5E5GeHHgozZ8JBB0HHjl7qNioakpFuIfiS0z/84FW4f/jhl5ed2zZvho0b8738tHYjP67ZyLbvN1Jq80Yq5GxkL7ZyPPA91Xm8yb1s6dmH/mdU4NmmqmwhIv+1DegbQphtZlWBj8xsaghhYdIx7YEmiUsr4FGglZnVAgYDLYCQOHdCYqVWEZGs23df+Ne/oEcPL/i1ZInXNyiV5S7fkpkwh+CJ68aNsGmTXzZv/vXPvLbl/pk7Ef7hh10uIBjM2FaxKj+UqcqGHVX5Nqcq3+VUZSO12UhVSlWrSpXGVanVqCp1DqpFwz+dwxUN9srQgyMiRVkIYSWwMnF9o5l9gq+wmpwwdwaeDSEEYKaZ1TCzfYGTgKk7qxmZ2VSgHfCPLP4JIiK/UKWKrwzYpw/ce6+vSPz001ChQvZiKB4J8wcfwLRpPye/yYlw8vWdtzdv3qWkdlu5iuSUq8LWMpX5sXRltpSqwmYqs5m9yClTie1lK7KtRkW2163I9vKV2FG+IjvKVyRUSFwqVoKKFbFKFaFiRUpVrsjydZWZ9Vk1ps+vyqKVlWCLdxE3aeK1kHdeTmoen5IqIlK0mNn+QHPgg1y76gHLkm4vT2zLb7uISKTKlPGCYI0bQ79+sGKFJ9F7Zan/sHgkzO+8AwMGeP981ar+UWTnzypVfKplYtuWUlVYvaUKK9ZXYenaqixZVZkVG3zbms2VWb/Dk+FN+M8tVGJHTmnI8buqXNkrT9So4de3bfMRGDk5sPUHyFnvVd7+u21r3iGbwW9+Ay1bw1WJ5LhZM6hePXsPm4gUX2ZWBXgJuC6EsCEDv78X0AugYcOG6f71IiK/YuZLTDRqBBddBMceC5Mmee3mTCseCXOfPn4pX/6/g3k3bvQ1yj/+OOkyDVat+vm0mjXhsMOgYUvYtwYcUsMT4fwu1avv+gIfIXhSnTuJrlXLc3oRkXQzs7J4svx8CGFsHoesABok3a6f2LYCH5aRvP3tvO4jhDACGAHQokWLGC5kKyLF1TnneF9o585e4OCVV6BVq8zeZ7FImJesrMD06Z4Uz5/vP7/66uf9lSr5TMsOHTxB3nnZZ5/MT5Yz8yRbK+mJSDaYmQFPAp+EEB7I57AJQG8zG41P+lsfQlhpZpOBO82sZuK4NsCAjActIrKLjj8epk+H00+H1q1h1ChfwThTikXC/MILPiKjTBk4+GDvou/V6+fEeP/9sz+bUkQkIscBFwLzzWxOYttAoCFACGE4vnLr6cAiYAtwaWLfWjO7DZiVOG/IzgmAIiJxc9BBXkq3Uydf7GTJEqhdOzP3VSwS5osu8vp8TZp4gWsRkZIqhPAeUOB3Z4nqGFfns28kMDIDoYmIpF3duvDWWzB3buaSZSgmCfN++2kVOxEREZGSqFIlOOaYzN6HBiqIiIiIiBRACbOIiIiISAGUMIuIiIiIFEAJs4iIiIhIAZQwi4iIiIgUQAmziIiIiEgBlDCLiIiIiBRACbOIiIiISAGUMIuIiIiIFEAJs4iIiIhIASyEEHUMv2Bma4Cvoo4jSW3g26iDyCVuMSmewsUtprjFA/GLaXfjaRRCqJPuYOIsZu123F5HEL+Y4hYPxC8mxVO4uMWU0TY7dglz3JjZhyGEFlHHkSxuMSmewsUtprjFA/GLKW7xSGri+LzFLaa4xQPxi0nxFC5uMWU6Hg3JEBEREREpgBJmEREREZECKGEu3IioA8hD3GJSPIWLW0xxiwfiF1Pc4pHUxPF5i1tMcYsH4heT4ilc3GLKaDwawywiIiIiUgD1MIuIiIiIFEAJM2BmDcxsmpktNLMFZnZtHsecZGbrzWxO4jIowzEtNbP5ifv6MI/9ZmZ/M7NFZjbPzI7IcDwHJf3tc8xsg5ldl+uYjD5GZjbSzFab2cdJ22qZ2VQz+yLxs2Y+516cOOYLM7s4wzHdZ2afJp6XcWZWI59zC3yO0xjPrWa2Iul5OT2fc9uZ2WeJ11T/dMRTQEwvJMWz1Mzm5HNuJh6jPN/vUb+WJHVxbLMT9xmbdjsObXbiPmLVbqvN3u2Y1GaHEEr8BdgXOCJxvSrwOdA01zEnAa9mMaalQO0C9p8OTAIMOBr4IIuxlQb+g9cuzNpjBJwAHAF8nLTtXqB/4np/4J48zqsFLE78rJm4XjODMbUByiSu35NXTKk8x2mM51bghhSe0y+BA4BywNzc74F0xpRr//3AoCw+Rnm+36N+Lemy589hrmOy2mYn7jOW7XZUbXbiPmLVbqvN3r2Ycu0vkW22epiBEMLKEMLsxPWNwCdAvWijKlRn4NngZgI1zGzfLN33KcCXIYSsLlQQQngHWJtrc2fgmcT1Z4AueZzaFpgaQlgbQlgHTAXaZSqmEMKUEMK2xM2ZQP103NfuxpOilsCiEMLiEEIOMBp/bDMak5kZcDbwj3TcV4rx5Pd+j/S1JKkrom02RNduR9JmQ/zabbXZexZTSW6zlTDnYmb7A82BD/LYfYyZzTWzSWZ2aIZDCcAUM/vIzHrlsb8esCzp9nKy9w+jB/m/WbL5GAHsHUJYmbj+H2DvPI6J8rG6DO9Rykthz3E69U583Tgyn6+tonqMfg+sCiF8kc/+jD5Gud7vcX8tSR5i1GZDfNvtOLXZEO/3mtrsgpXYNlsJcxIzqwK8BFwXQtiQa/ds/Ousw4GHgZczHM7xIYQjgPbA1WZ2QobvLyVmVg7oBLyYx+5sP0a/EPz7l9iUfTGzm4BtwPP5HJKt5/hR4H+AZsBK/Ou0uDiXgnsqMvYYFfR+j9trSfIWszYbYthux7nNhni919Rmp6TEttlKmBPMrCz+RDwfQhibe38IYUMIYVPi+kSgrJnVzlQ8IYQViZ+rgXH41y/JVgANkm7XT2zLtPbA7BDCqtw7sv0YJaza+ZVm4ufqPI7J+mNlZpcAZwDnJ97Iv5LCc5wWIYRVIYTtIYQdwOP53E8Uj1EZoBvwQn7HZOoxyuf9HsvXkuQtbm124n7i2G7Hrc2GGL7X1GYXrqS32UqY+e+YnCeBT0IID+RzzD6J4zCzlvhj912G4qlsZlV3XscnJHyc67AJwEXmjgbWJ301kUn5frrM5mOUZAKwc9brxcD4PI6ZDLQxs5qJr7baJLZlhJm1A24EOoUQtuRzTCrPcbriSR4j2TWf+5kFNDGzxokeqR74Y5tJpwKfhhCW57UzU49RAe/32L2WJG9xa7MT9xHXdjtubTbE7L2mNjtlJbvNDmmcyVhUL8DxeFf+PGBO4nI68L/A/yaO6Q0swGeizgSOzWA8ByTuZ27iPm9KbE+Ox4Bh+CzZ+UCLLDxOlfHGtHrStqw9RnijvxL4CR+H1BPYC3gT+AJ4A6iVOLYF8ETSuZcBixKXSzMc0yJ8zNTO19LwxLH7ARMLeo4zFM9zidfIPLyB2Td3PInbp+Ozj79MVzz5xZTY/vTO107Ssdl4jPJ7v0f6WtIlLc9hJG124v5i124TcZuduI9Ytdv5xKM2u5CYEtufpgS32VrpT0RERESkABqSISIiIiJSACXMIiIiIiIFUMIsIiIiIlIAJcwiIiIiIgVQwiwiIiIiUgAlzCIiIiIiBVDCLCIiIiJSACXMIiIiIiIF+H9zO5U11GBw8QAAAABJRU5ErkJggg==\n",
=======
      "image/png": "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\n",
>>>>>>> 65f3c07b440083170806a6429168b58d651692ed
      "text/plain": [
       "<Figure size 864x360 with 2 Axes>"
      ]
     },
     "metadata": {
      "needs_background": "light"
     },
     "output_type": "display_data"
    }
   ],
   "source": [
    "plot_history(history)"
   ]
<<<<<<< HEAD
=======
  },
  {
   "cell_type": "markdown",
   "metadata": {},
   "source": [
    "Using pretrained word embeddings"
   ]
  },
  {
   "cell_type": "code",
   "execution_count": null,
   "metadata": {},
   "outputs": [],
   "source": []
>>>>>>> 65f3c07b440083170806a6429168b58d651692ed
  }
 ],
 "metadata": {
  "kernelspec": {
   "display_name": "Python 3",
   "language": "python",
   "name": "python3"
  },
  "language_info": {
   "codemirror_mode": {
    "name": "ipython",
    "version": 3
   },
   "file_extension": ".py",
   "mimetype": "text/x-python",
   "name": "python",
   "nbconvert_exporter": "python",
   "pygments_lexer": "ipython3",
   "version": "3.6.8"
  }
 },
 "nbformat": 4,
 "nbformat_minor": 1
}
